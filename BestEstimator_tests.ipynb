{
 "cells": [
  {
   "cell_type": "markdown",
   "metadata": {},
   "source": [
    "# Ensemble des tests"
   ]
  },
  {
   "cell_type": "code",
   "execution_count": 1,
   "metadata": {
    "scrolled": true
   },
   "outputs": [
    {
     "name": "stdout",
     "output_type": "stream",
     "text": [
      "Pandas version : 0.23.4\n",
      "Sklearn version : 0.20.1\n",
      "Xgboost version : 0.82\n",
      "Numpy version : 1.15.4\n"
     ]
    }
   ],
   "source": [
    "import sklearn\n",
    "import pandas \n",
    "import xgboost\n",
    "import numpy\n",
    "\n",
    "print('Pandas version :', pandas.__version__)\n",
    "print('Sklearn version :', sklearn.__version__)\n",
    "print('Xgboost version :', xgboost.__version__)\n",
    "print('Numpy version :', numpy.__version__)"
   ]
  },
  {
   "cell_type": "code",
   "execution_count": 1,
   "metadata": {},
   "outputs": [],
   "source": [
    "%run -i BestEstimator.py"
   ]
  },
  {
   "cell_type": "markdown",
   "metadata": {},
   "source": [
    "## Multiclass"
   ]
  },
  {
   "cell_type": "code",
   "execution_count": 2,
   "metadata": {},
   "outputs": [],
   "source": [
    "import pandas as pd\n",
    "\n",
    "Multi_Train = pd.read_csv(r\"C:\\Users\\jecombe\\OneDrive - Capgemini\\Notebooks\\Train.csv\", sep = ',')\n",
    "Multi_Target = pd.read_csv(r\"C:\\Users\\jecombe\\OneDrive - Capgemini\\Notebooks\\Target.csv\", sep = ';')"
   ]
  },
  {
   "cell_type": "markdown",
   "metadata": {},
   "source": [
    "#### Coup d'oeil sur les données"
   ]
  },
  {
   "cell_type": "code",
   "execution_count": 4,
   "metadata": {},
   "outputs": [
    {
     "data": {
      "text/html": [
       "<div>\n",
       "<style scoped>\n",
       "    .dataframe tbody tr th:only-of-type {\n",
       "        vertical-align: middle;\n",
       "    }\n",
       "\n",
       "    .dataframe tbody tr th {\n",
       "        vertical-align: top;\n",
       "    }\n",
       "\n",
       "    .dataframe thead th {\n",
       "        text-align: right;\n",
       "    }\n",
       "</style>\n",
       "<table border=\"1\" class=\"dataframe\">\n",
       "  <thead>\n",
       "    <tr style=\"text-align: right;\">\n",
       "      <th></th>\n",
       "      <th>ID</th>\n",
       "      <th>SHIPPING_MODE</th>\n",
       "      <th>SHIPPING_PRICE</th>\n",
       "      <th>WARRANTIES_FLG</th>\n",
       "      <th>WARRANTIES_PRICE</th>\n",
       "      <th>CARD_PAYMENT</th>\n",
       "      <th>COUPON_PAYMENT</th>\n",
       "      <th>RSP_PAYMENT</th>\n",
       "      <th>WALLET_PAYMENT</th>\n",
       "      <th>PRICECLUB_STATUS</th>\n",
       "      <th>...</th>\n",
       "      <th>BUYER_BIRTHDAY_DATE</th>\n",
       "      <th>BUYER_DEPARTMENT</th>\n",
       "      <th>BUYING_DATE</th>\n",
       "      <th>SELLER_SCORE_COUNT</th>\n",
       "      <th>SELLER_SCORE_AVERAGE</th>\n",
       "      <th>SELLER_COUNTRY</th>\n",
       "      <th>SELLER_DEPARTMENT</th>\n",
       "      <th>PRODUCT_TYPE</th>\n",
       "      <th>PRODUCT_FAMILY</th>\n",
       "      <th>ITEM_PRICE</th>\n",
       "    </tr>\n",
       "  </thead>\n",
       "  <tbody>\n",
       "    <tr>\n",
       "      <th>0</th>\n",
       "      <td>0</td>\n",
       "      <td>NORMAL</td>\n",
       "      <td>NaN</td>\n",
       "      <td>False</td>\n",
       "      <td>NaN</td>\n",
       "      <td>1</td>\n",
       "      <td>0</td>\n",
       "      <td>1</td>\n",
       "      <td>0</td>\n",
       "      <td>UNSUBSCRIBED</td>\n",
       "      <td>...</td>\n",
       "      <td>1992.0</td>\n",
       "      <td>34</td>\n",
       "      <td>3/2017</td>\n",
       "      <td>10000&lt;100000</td>\n",
       "      <td>46.0</td>\n",
       "      <td>FRANCE, METROPOLITAN</td>\n",
       "      <td>61</td>\n",
       "      <td>CELLPHONE_ACCESSORY</td>\n",
       "      <td>ELECTRONICS</td>\n",
       "      <td>&lt;10</td>\n",
       "    </tr>\n",
       "    <tr>\n",
       "      <th>1</th>\n",
       "      <td>1</td>\n",
       "      <td>NORMAL</td>\n",
       "      <td>NaN</td>\n",
       "      <td>False</td>\n",
       "      <td>NaN</td>\n",
       "      <td>1</td>\n",
       "      <td>0</td>\n",
       "      <td>0</td>\n",
       "      <td>0</td>\n",
       "      <td>UNSUBSCRIBED</td>\n",
       "      <td>...</td>\n",
       "      <td>1952.0</td>\n",
       "      <td>77</td>\n",
       "      <td>8/2017</td>\n",
       "      <td>10000&lt;100000</td>\n",
       "      <td>45.0</td>\n",
       "      <td>FRANCE, METROPOLITAN</td>\n",
       "      <td>30</td>\n",
       "      <td>CELLPHONE_ACCESSORY</td>\n",
       "      <td>ELECTRONICS</td>\n",
       "      <td>&lt;10</td>\n",
       "    </tr>\n",
       "    <tr>\n",
       "      <th>2</th>\n",
       "      <td>2</td>\n",
       "      <td>NORMAL</td>\n",
       "      <td>NaN</td>\n",
       "      <td>False</td>\n",
       "      <td>NaN</td>\n",
       "      <td>0</td>\n",
       "      <td>0</td>\n",
       "      <td>0</td>\n",
       "      <td>1</td>\n",
       "      <td>PLATINUM</td>\n",
       "      <td>...</td>\n",
       "      <td>1991.0</td>\n",
       "      <td>58</td>\n",
       "      <td>5/2017</td>\n",
       "      <td>10000&lt;100000</td>\n",
       "      <td>43.0</td>\n",
       "      <td>CHINA</td>\n",
       "      <td>-1</td>\n",
       "      <td>TOYS</td>\n",
       "      <td>BABY</td>\n",
       "      <td>&lt;10</td>\n",
       "    </tr>\n",
       "    <tr>\n",
       "      <th>3</th>\n",
       "      <td>3</td>\n",
       "      <td>RECOMMANDE</td>\n",
       "      <td>NaN</td>\n",
       "      <td>True</td>\n",
       "      <td>5&lt;20</td>\n",
       "      <td>1</td>\n",
       "      <td>0</td>\n",
       "      <td>0</td>\n",
       "      <td>0</td>\n",
       "      <td>UNSUBSCRIBED</td>\n",
       "      <td>...</td>\n",
       "      <td>1955.0</td>\n",
       "      <td>31</td>\n",
       "      <td>5/2017</td>\n",
       "      <td>10000&lt;100000</td>\n",
       "      <td>44.0</td>\n",
       "      <td>FRANCE, METROPOLITAN</td>\n",
       "      <td>2</td>\n",
       "      <td>GARDEN_TOOLS</td>\n",
       "      <td>WHITE</td>\n",
       "      <td>50&lt;100</td>\n",
       "    </tr>\n",
       "    <tr>\n",
       "      <th>4</th>\n",
       "      <td>4</td>\n",
       "      <td>RECOMMANDE</td>\n",
       "      <td>NaN</td>\n",
       "      <td>False</td>\n",
       "      <td>NaN</td>\n",
       "      <td>1</td>\n",
       "      <td>0</td>\n",
       "      <td>1</td>\n",
       "      <td>0</td>\n",
       "      <td>PLATINUM</td>\n",
       "      <td>...</td>\n",
       "      <td>1984.0</td>\n",
       "      <td>93</td>\n",
       "      <td>9/2017</td>\n",
       "      <td>1000&lt;10000</td>\n",
       "      <td>44.0</td>\n",
       "      <td>CHINA</td>\n",
       "      <td>-1</td>\n",
       "      <td>MODEL</td>\n",
       "      <td>BABY</td>\n",
       "      <td>1000&lt;5000</td>\n",
       "    </tr>\n",
       "  </tbody>\n",
       "</table>\n",
       "<p>5 rows × 22 columns</p>\n",
       "</div>"
      ],
      "text/plain": [
       "   ID SHIPPING_MODE SHIPPING_PRICE  WARRANTIES_FLG WARRANTIES_PRICE  \\\n",
       "0   0        NORMAL            NaN           False              NaN   \n",
       "1   1        NORMAL            NaN           False              NaN   \n",
       "2   2        NORMAL            NaN           False              NaN   \n",
       "3   3    RECOMMANDE            NaN            True             5<20   \n",
       "4   4    RECOMMANDE            NaN           False              NaN   \n",
       "\n",
       "   CARD_PAYMENT  COUPON_PAYMENT  RSP_PAYMENT  WALLET_PAYMENT PRICECLUB_STATUS  \\\n",
       "0             1               0            1               0     UNSUBSCRIBED   \n",
       "1             1               0            0               0     UNSUBSCRIBED   \n",
       "2             0               0            0               1         PLATINUM   \n",
       "3             1               0            0               0     UNSUBSCRIBED   \n",
       "4             1               0            1               0         PLATINUM   \n",
       "\n",
       "     ...      BUYER_BIRTHDAY_DATE BUYER_DEPARTMENT  BUYING_DATE  \\\n",
       "0    ...                   1992.0               34       3/2017   \n",
       "1    ...                   1952.0               77       8/2017   \n",
       "2    ...                   1991.0               58       5/2017   \n",
       "3    ...                   1955.0               31       5/2017   \n",
       "4    ...                   1984.0               93       9/2017   \n",
       "\n",
       "   SELLER_SCORE_COUNT SELLER_SCORE_AVERAGE        SELLER_COUNTRY  \\\n",
       "0        10000<100000                 46.0  FRANCE, METROPOLITAN   \n",
       "1        10000<100000                 45.0  FRANCE, METROPOLITAN   \n",
       "2        10000<100000                 43.0                 CHINA   \n",
       "3        10000<100000                 44.0  FRANCE, METROPOLITAN   \n",
       "4          1000<10000                 44.0                 CHINA   \n",
       "\n",
       "   SELLER_DEPARTMENT         PRODUCT_TYPE  PRODUCT_FAMILY ITEM_PRICE  \n",
       "0                 61  CELLPHONE_ACCESSORY     ELECTRONICS        <10  \n",
       "1                 30  CELLPHONE_ACCESSORY     ELECTRONICS        <10  \n",
       "2                 -1                 TOYS            BABY        <10  \n",
       "3                  2         GARDEN_TOOLS           WHITE     50<100  \n",
       "4                 -1                MODEL            BABY  1000<5000  \n",
       "\n",
       "[5 rows x 22 columns]"
      ]
     },
     "execution_count": 4,
     "metadata": {},
     "output_type": "execute_result"
    }
   ],
   "source": [
    "Multi_Train.head(5)"
   ]
  },
  {
   "cell_type": "code",
   "execution_count": 5,
   "metadata": {},
   "outputs": [
    {
     "data": {
      "text/html": [
       "<div>\n",
       "<style scoped>\n",
       "    .dataframe tbody tr th:only-of-type {\n",
       "        vertical-align: middle;\n",
       "    }\n",
       "\n",
       "    .dataframe tbody tr th {\n",
       "        vertical-align: top;\n",
       "    }\n",
       "\n",
       "    .dataframe thead th {\n",
       "        text-align: right;\n",
       "    }\n",
       "</style>\n",
       "<table border=\"1\" class=\"dataframe\">\n",
       "  <thead>\n",
       "    <tr style=\"text-align: right;\">\n",
       "      <th></th>\n",
       "      <th>ID</th>\n",
       "      <th>CLAIM_TYPE</th>\n",
       "    </tr>\n",
       "  </thead>\n",
       "  <tbody>\n",
       "    <tr>\n",
       "      <th>0</th>\n",
       "      <td>0</td>\n",
       "      <td>DAMAGED</td>\n",
       "    </tr>\n",
       "    <tr>\n",
       "      <th>1</th>\n",
       "      <td>1</td>\n",
       "      <td>-</td>\n",
       "    </tr>\n",
       "    <tr>\n",
       "      <th>2</th>\n",
       "      <td>2</td>\n",
       "      <td>NOT_RECEIVED</td>\n",
       "    </tr>\n",
       "    <tr>\n",
       "      <th>3</th>\n",
       "      <td>3</td>\n",
       "      <td>-</td>\n",
       "    </tr>\n",
       "    <tr>\n",
       "      <th>4</th>\n",
       "      <td>4</td>\n",
       "      <td>WITHDRAWAL</td>\n",
       "    </tr>\n",
       "  </tbody>\n",
       "</table>\n",
       "</div>"
      ],
      "text/plain": [
       "   ID    CLAIM_TYPE\n",
       "0   0       DAMAGED\n",
       "1   1             -\n",
       "2   2  NOT_RECEIVED\n",
       "3   3             -\n",
       "4   4    WITHDRAWAL"
      ]
     },
     "execution_count": 5,
     "metadata": {},
     "output_type": "execute_result"
    }
   ],
   "source": [
    "Multi_Target.head(5)"
   ]
  },
  {
   "cell_type": "markdown",
   "metadata": {},
   "source": [
    "### fit method"
   ]
  },
  {
   "cell_type": "markdown",
   "metadata": {},
   "source": [
    "#### Lance le pipeline de choix d'estimateur et d'hyperparamètres optimaux"
   ]
  },
  {
   "cell_type": "code",
   "execution_count": 126,
   "metadata": {},
   "outputs": [],
   "source": [
    "Multi = BestEstimator(hard_grid=False)\n",
    "Multi.fit(Multi_Train, Multi_Target, scoring = 'accuracy') "
   ]
  },
  {
   "cell_type": "markdown",
   "metadata": {},
   "source": [
    "### All pred methods"
   ]
  },
  {
   "cell_type": "code",
   "execution_count": 7,
   "metadata": {},
   "outputs": [
    {
     "name": "stderr",
     "output_type": "stream",
     "text": [
      "C:\\ProgramData\\Anaconda3\\lib\\site-packages\\sklearn\\preprocessing\\label.py:151: DeprecationWarning: The truth value of an empty array is ambiguous. Returning False, but in future this will result in an error. Use `array.size > 0` to check that an array is not empty.\n",
      "  if diff:\n"
     ]
    },
    {
     "data": {
      "text/html": [
       "<div>\n",
       "<style scoped>\n",
       "    .dataframe tbody tr th:only-of-type {\n",
       "        vertical-align: middle;\n",
       "    }\n",
       "\n",
       "    .dataframe tbody tr th {\n",
       "        vertical-align: top;\n",
       "    }\n",
       "\n",
       "    .dataframe thead th {\n",
       "        text-align: right;\n",
       "    }\n",
       "</style>\n",
       "<table border=\"1\" class=\"dataframe\">\n",
       "  <thead>\n",
       "    <tr style=\"text-align: right;\">\n",
       "      <th></th>\n",
       "      <th>ID</th>\n",
       "      <th>Target</th>\n",
       "    </tr>\n",
       "  </thead>\n",
       "  <tbody>\n",
       "    <tr>\n",
       "      <th>0</th>\n",
       "      <td>0</td>\n",
       "      <td>-</td>\n",
       "    </tr>\n",
       "    <tr>\n",
       "      <th>1</th>\n",
       "      <td>1</td>\n",
       "      <td>-</td>\n",
       "    </tr>\n",
       "    <tr>\n",
       "      <th>2</th>\n",
       "      <td>2</td>\n",
       "      <td>SELLER_CANCEL_POSTERIORI</td>\n",
       "    </tr>\n",
       "    <tr>\n",
       "      <th>3</th>\n",
       "      <td>3</td>\n",
       "      <td>-</td>\n",
       "    </tr>\n",
       "    <tr>\n",
       "      <th>4</th>\n",
       "      <td>4</td>\n",
       "      <td>NOT_RECEIVED</td>\n",
       "    </tr>\n",
       "    <tr>\n",
       "      <th>5</th>\n",
       "      <td>5</td>\n",
       "      <td>-</td>\n",
       "    </tr>\n",
       "    <tr>\n",
       "      <th>6</th>\n",
       "      <td>6</td>\n",
       "      <td>-</td>\n",
       "    </tr>\n",
       "    <tr>\n",
       "      <th>7</th>\n",
       "      <td>7</td>\n",
       "      <td>-</td>\n",
       "    </tr>\n",
       "    <tr>\n",
       "      <th>8</th>\n",
       "      <td>8</td>\n",
       "      <td>-</td>\n",
       "    </tr>\n",
       "    <tr>\n",
       "      <th>9</th>\n",
       "      <td>9</td>\n",
       "      <td>-</td>\n",
       "    </tr>\n",
       "  </tbody>\n",
       "</table>\n",
       "</div>"
      ],
      "text/plain": [
       "   ID                    Target\n",
       "0   0                         -\n",
       "1   1                         -\n",
       "2   2  SELLER_CANCEL_POSTERIORI\n",
       "3   3                         -\n",
       "4   4              NOT_RECEIVED\n",
       "5   5                         -\n",
       "6   6                         -\n",
       "7   7                         -\n",
       "8   8                         -\n",
       "9   9                         -"
      ]
     },
     "execution_count": 7,
     "metadata": {},
     "output_type": "execute_result"
    }
   ],
   "source": [
    "Multi.pred(Multi_Train[0:10], ID='ID', refit = True)"
   ]
  },
  {
   "cell_type": "code",
   "execution_count": 8,
   "metadata": {},
   "outputs": [
    {
     "name": "stderr",
     "output_type": "stream",
     "text": [
      "C:\\ProgramData\\Anaconda3\\lib\\site-packages\\sklearn\\preprocessing\\label.py:151: DeprecationWarning: The truth value of an empty array is ambiguous. Returning False, but in future this will result in an error. Use `array.size > 0` to check that an array is not empty.\n",
      "  if diff:\n"
     ]
    },
    {
     "data": {
      "text/html": [
       "<div>\n",
       "<style scoped>\n",
       "    .dataframe tbody tr th:only-of-type {\n",
       "        vertical-align: middle;\n",
       "    }\n",
       "\n",
       "    .dataframe tbody tr th {\n",
       "        vertical-align: top;\n",
       "    }\n",
       "\n",
       "    .dataframe thead th {\n",
       "        text-align: right;\n",
       "    }\n",
       "</style>\n",
       "<table border=\"1\" class=\"dataframe\">\n",
       "  <thead>\n",
       "    <tr style=\"text-align: right;\">\n",
       "      <th></th>\n",
       "      <th>ID</th>\n",
       "      <th>Target</th>\n",
       "    </tr>\n",
       "  </thead>\n",
       "  <tbody>\n",
       "    <tr>\n",
       "      <th>0</th>\n",
       "      <td>0</td>\n",
       "      <td>-</td>\n",
       "    </tr>\n",
       "    <tr>\n",
       "      <th>1</th>\n",
       "      <td>1</td>\n",
       "      <td>-</td>\n",
       "    </tr>\n",
       "    <tr>\n",
       "      <th>2</th>\n",
       "      <td>2</td>\n",
       "      <td>SELLER_CANCEL_POSTERIORI</td>\n",
       "    </tr>\n",
       "    <tr>\n",
       "      <th>3</th>\n",
       "      <td>3</td>\n",
       "      <td>-</td>\n",
       "    </tr>\n",
       "    <tr>\n",
       "      <th>4</th>\n",
       "      <td>4</td>\n",
       "      <td>NOT_RECEIVED</td>\n",
       "    </tr>\n",
       "    <tr>\n",
       "      <th>5</th>\n",
       "      <td>5</td>\n",
       "      <td>-</td>\n",
       "    </tr>\n",
       "    <tr>\n",
       "      <th>6</th>\n",
       "      <td>6</td>\n",
       "      <td>-</td>\n",
       "    </tr>\n",
       "    <tr>\n",
       "      <th>7</th>\n",
       "      <td>7</td>\n",
       "      <td>-</td>\n",
       "    </tr>\n",
       "    <tr>\n",
       "      <th>8</th>\n",
       "      <td>8</td>\n",
       "      <td>-</td>\n",
       "    </tr>\n",
       "    <tr>\n",
       "      <th>9</th>\n",
       "      <td>9</td>\n",
       "      <td>-</td>\n",
       "    </tr>\n",
       "  </tbody>\n",
       "</table>\n",
       "</div>"
      ],
      "text/plain": [
       "   ID                    Target\n",
       "0   0                         -\n",
       "1   1                         -\n",
       "2   2  SELLER_CANCEL_POSTERIORI\n",
       "3   3                         -\n",
       "4   4              NOT_RECEIVED\n",
       "5   5                         -\n",
       "6   6                         -\n",
       "7   7                         -\n",
       "8   8                         -\n",
       "9   9                         -"
      ]
     },
     "execution_count": 8,
     "metadata": {},
     "output_type": "execute_result"
    }
   ],
   "source": [
    "Multi.pred_grid(Multi_Train[0:10], ID='ID', value=0)"
   ]
  },
  {
   "cell_type": "markdown",
   "metadata": {},
   "source": [
    "#### Prédiction des probabilités de chaque classe"
   ]
  },
  {
   "cell_type": "markdown",
   "metadata": {},
   "source": [
    "##### A partir du premier fit"
   ]
  },
  {
   "cell_type": "code",
   "execution_count": 9,
   "metadata": {},
   "outputs": [
    {
     "name": "stderr",
     "output_type": "stream",
     "text": [
      "C:\\ProgramData\\Anaconda3\\lib\\site-packages\\sklearn\\preprocessing\\label.py:151: DeprecationWarning: The truth value of an empty array is ambiguous. Returning False, but in future this will result in an error. Use `array.size > 0` to check that an array is not empty.\n",
      "  if diff:\n"
     ]
    },
    {
     "data": {
      "text/html": [
       "<div>\n",
       "<style scoped>\n",
       "    .dataframe tbody tr th:only-of-type {\n",
       "        vertical-align: middle;\n",
       "    }\n",
       "\n",
       "    .dataframe tbody tr th {\n",
       "        vertical-align: top;\n",
       "    }\n",
       "\n",
       "    .dataframe thead th {\n",
       "        text-align: right;\n",
       "    }\n",
       "</style>\n",
       "<table border=\"1\" class=\"dataframe\">\n",
       "  <thead>\n",
       "    <tr style=\"text-align: right;\">\n",
       "      <th></th>\n",
       "      <th>ID</th>\n",
       "      <th>-</th>\n",
       "      <th>DAMAGED</th>\n",
       "      <th>DIFFERENT</th>\n",
       "      <th>FAKE</th>\n",
       "      <th>NOT_RECEIVED</th>\n",
       "      <th>SELLER_CANCEL_POSTERIORI</th>\n",
       "      <th>UNDEFINED</th>\n",
       "      <th>WITHDRAWAL</th>\n",
       "    </tr>\n",
       "  </thead>\n",
       "  <tbody>\n",
       "    <tr>\n",
       "      <th>0</th>\n",
       "      <td>0</td>\n",
       "      <td>0.486369</td>\n",
       "      <td>0.074486</td>\n",
       "      <td>0.069355</td>\n",
       "      <td>0.003365</td>\n",
       "      <td>0.069217</td>\n",
       "      <td>0.150259</td>\n",
       "      <td>0.049669</td>\n",
       "      <td>0.097279</td>\n",
       "    </tr>\n",
       "    <tr>\n",
       "      <th>1</th>\n",
       "      <td>1</td>\n",
       "      <td>0.425355</td>\n",
       "      <td>0.059694</td>\n",
       "      <td>0.029449</td>\n",
       "      <td>0.013426</td>\n",
       "      <td>0.096125</td>\n",
       "      <td>0.217590</td>\n",
       "      <td>0.045316</td>\n",
       "      <td>0.113044</td>\n",
       "    </tr>\n",
       "    <tr>\n",
       "      <th>2</th>\n",
       "      <td>2</td>\n",
       "      <td>0.273741</td>\n",
       "      <td>0.077551</td>\n",
       "      <td>0.041982</td>\n",
       "      <td>0.023743</td>\n",
       "      <td>0.162945</td>\n",
       "      <td>0.293654</td>\n",
       "      <td>0.026297</td>\n",
       "      <td>0.100087</td>\n",
       "    </tr>\n",
       "    <tr>\n",
       "      <th>3</th>\n",
       "      <td>3</td>\n",
       "      <td>0.343178</td>\n",
       "      <td>0.058775</td>\n",
       "      <td>0.042638</td>\n",
       "      <td>0.023426</td>\n",
       "      <td>0.101775</td>\n",
       "      <td>0.306871</td>\n",
       "      <td>0.058313</td>\n",
       "      <td>0.065024</td>\n",
       "    </tr>\n",
       "    <tr>\n",
       "      <th>4</th>\n",
       "      <td>4</td>\n",
       "      <td>0.211193</td>\n",
       "      <td>0.099859</td>\n",
       "      <td>0.036181</td>\n",
       "      <td>0.037932</td>\n",
       "      <td>0.233473</td>\n",
       "      <td>0.126880</td>\n",
       "      <td>0.044266</td>\n",
       "      <td>0.210216</td>\n",
       "    </tr>\n",
       "    <tr>\n",
       "      <th>5</th>\n",
       "      <td>5</td>\n",
       "      <td>0.427531</td>\n",
       "      <td>0.123871</td>\n",
       "      <td>0.024918</td>\n",
       "      <td>0.013636</td>\n",
       "      <td>0.086855</td>\n",
       "      <td>0.180239</td>\n",
       "      <td>0.084164</td>\n",
       "      <td>0.058786</td>\n",
       "    </tr>\n",
       "    <tr>\n",
       "      <th>6</th>\n",
       "      <td>6</td>\n",
       "      <td>0.520658</td>\n",
       "      <td>0.056842</td>\n",
       "      <td>0.019485</td>\n",
       "      <td>0.008426</td>\n",
       "      <td>0.075119</td>\n",
       "      <td>0.189172</td>\n",
       "      <td>0.066573</td>\n",
       "      <td>0.063726</td>\n",
       "    </tr>\n",
       "    <tr>\n",
       "      <th>7</th>\n",
       "      <td>7</td>\n",
       "      <td>0.288608</td>\n",
       "      <td>0.037237</td>\n",
       "      <td>0.052863</td>\n",
       "      <td>0.016667</td>\n",
       "      <td>0.133611</td>\n",
       "      <td>0.197721</td>\n",
       "      <td>0.037077</td>\n",
       "      <td>0.236216</td>\n",
       "    </tr>\n",
       "    <tr>\n",
       "      <th>8</th>\n",
       "      <td>8</td>\n",
       "      <td>0.435924</td>\n",
       "      <td>0.109607</td>\n",
       "      <td>0.030522</td>\n",
       "      <td>0.003333</td>\n",
       "      <td>0.109225</td>\n",
       "      <td>0.182109</td>\n",
       "      <td>0.074784</td>\n",
       "      <td>0.054495</td>\n",
       "    </tr>\n",
       "    <tr>\n",
       "      <th>9</th>\n",
       "      <td>9</td>\n",
       "      <td>0.435312</td>\n",
       "      <td>0.040947</td>\n",
       "      <td>0.089180</td>\n",
       "      <td>0.000000</td>\n",
       "      <td>0.069706</td>\n",
       "      <td>0.201482</td>\n",
       "      <td>0.046367</td>\n",
       "      <td>0.117006</td>\n",
       "    </tr>\n",
       "  </tbody>\n",
       "</table>\n",
       "</div>"
      ],
      "text/plain": [
       "   ID         -   DAMAGED  DIFFERENT      FAKE  NOT_RECEIVED  \\\n",
       "0   0  0.486369  0.074486   0.069355  0.003365      0.069217   \n",
       "1   1  0.425355  0.059694   0.029449  0.013426      0.096125   \n",
       "2   2  0.273741  0.077551   0.041982  0.023743      0.162945   \n",
       "3   3  0.343178  0.058775   0.042638  0.023426      0.101775   \n",
       "4   4  0.211193  0.099859   0.036181  0.037932      0.233473   \n",
       "5   5  0.427531  0.123871   0.024918  0.013636      0.086855   \n",
       "6   6  0.520658  0.056842   0.019485  0.008426      0.075119   \n",
       "7   7  0.288608  0.037237   0.052863  0.016667      0.133611   \n",
       "8   8  0.435924  0.109607   0.030522  0.003333      0.109225   \n",
       "9   9  0.435312  0.040947   0.089180  0.000000      0.069706   \n",
       "\n",
       "   SELLER_CANCEL_POSTERIORI  UNDEFINED  WITHDRAWAL  \n",
       "0                  0.150259   0.049669    0.097279  \n",
       "1                  0.217590   0.045316    0.113044  \n",
       "2                  0.293654   0.026297    0.100087  \n",
       "3                  0.306871   0.058313    0.065024  \n",
       "4                  0.126880   0.044266    0.210216  \n",
       "5                  0.180239   0.084164    0.058786  \n",
       "6                  0.189172   0.066573    0.063726  \n",
       "7                  0.197721   0.037077    0.236216  \n",
       "8                  0.182109   0.074784    0.054495  \n",
       "9                  0.201482   0.046367    0.117006  "
      ]
     },
     "execution_count": 9,
     "metadata": {},
     "output_type": "execute_result"
    }
   ],
   "source": [
    "Multi.pred_grid_proba(Multi_Train[0:10], ID_Test = 'ID', ID_pred = True)"
   ]
  },
  {
   "cell_type": "markdown",
   "metadata": {},
   "source": [
    "##### En relançant un fit à partir du meilleur estimateur trouvé et de ses meilleurs hyperparamètres"
   ]
  },
  {
   "cell_type": "code",
   "execution_count": 10,
   "metadata": {
    "scrolled": false
   },
   "outputs": [
    {
     "name": "stderr",
     "output_type": "stream",
     "text": [
      "C:\\ProgramData\\Anaconda3\\lib\\site-packages\\sklearn\\preprocessing\\label.py:151: DeprecationWarning: The truth value of an empty array is ambiguous. Returning False, but in future this will result in an error. Use `array.size > 0` to check that an array is not empty.\n",
      "  if diff:\n"
     ]
    },
    {
     "data": {
      "text/html": [
       "<div>\n",
       "<style scoped>\n",
       "    .dataframe tbody tr th:only-of-type {\n",
       "        vertical-align: middle;\n",
       "    }\n",
       "\n",
       "    .dataframe tbody tr th {\n",
       "        vertical-align: top;\n",
       "    }\n",
       "\n",
       "    .dataframe thead th {\n",
       "        text-align: right;\n",
       "    }\n",
       "</style>\n",
       "<table border=\"1\" class=\"dataframe\">\n",
       "  <thead>\n",
       "    <tr style=\"text-align: right;\">\n",
       "      <th></th>\n",
       "      <th>ID</th>\n",
       "      <th>-</th>\n",
       "      <th>DAMAGED</th>\n",
       "      <th>DIFFERENT</th>\n",
       "      <th>FAKE</th>\n",
       "      <th>NOT_RECEIVED</th>\n",
       "      <th>SELLER_CANCEL_POSTERIORI</th>\n",
       "      <th>UNDEFINED</th>\n",
       "      <th>WITHDRAWAL</th>\n",
       "    </tr>\n",
       "  </thead>\n",
       "  <tbody>\n",
       "    <tr>\n",
       "      <th>0</th>\n",
       "      <td>0</td>\n",
       "      <td>0.474146</td>\n",
       "      <td>0.086190</td>\n",
       "      <td>0.049056</td>\n",
       "      <td>0.003333</td>\n",
       "      <td>0.058823</td>\n",
       "      <td>0.184367</td>\n",
       "      <td>0.062878</td>\n",
       "      <td>0.081206</td>\n",
       "    </tr>\n",
       "    <tr>\n",
       "      <th>1</th>\n",
       "      <td>1</td>\n",
       "      <td>0.405668</td>\n",
       "      <td>0.050710</td>\n",
       "      <td>0.015399</td>\n",
       "      <td>0.012424</td>\n",
       "      <td>0.095219</td>\n",
       "      <td>0.259830</td>\n",
       "      <td>0.043616</td>\n",
       "      <td>0.117134</td>\n",
       "    </tr>\n",
       "    <tr>\n",
       "      <th>2</th>\n",
       "      <td>2</td>\n",
       "      <td>0.264527</td>\n",
       "      <td>0.075433</td>\n",
       "      <td>0.035205</td>\n",
       "      <td>0.026863</td>\n",
       "      <td>0.194677</td>\n",
       "      <td>0.259112</td>\n",
       "      <td>0.031807</td>\n",
       "      <td>0.112376</td>\n",
       "    </tr>\n",
       "    <tr>\n",
       "      <th>3</th>\n",
       "      <td>3</td>\n",
       "      <td>0.287255</td>\n",
       "      <td>0.068143</td>\n",
       "      <td>0.027602</td>\n",
       "      <td>0.017096</td>\n",
       "      <td>0.084671</td>\n",
       "      <td>0.352306</td>\n",
       "      <td>0.063037</td>\n",
       "      <td>0.099890</td>\n",
       "    </tr>\n",
       "    <tr>\n",
       "      <th>4</th>\n",
       "      <td>4</td>\n",
       "      <td>0.257296</td>\n",
       "      <td>0.058302</td>\n",
       "      <td>0.033198</td>\n",
       "      <td>0.054388</td>\n",
       "      <td>0.244343</td>\n",
       "      <td>0.100910</td>\n",
       "      <td>0.033954</td>\n",
       "      <td>0.217608</td>\n",
       "    </tr>\n",
       "    <tr>\n",
       "      <th>5</th>\n",
       "      <td>5</td>\n",
       "      <td>0.414002</td>\n",
       "      <td>0.099499</td>\n",
       "      <td>0.024584</td>\n",
       "      <td>0.015556</td>\n",
       "      <td>0.120279</td>\n",
       "      <td>0.184134</td>\n",
       "      <td>0.087371</td>\n",
       "      <td>0.054575</td>\n",
       "    </tr>\n",
       "    <tr>\n",
       "      <th>6</th>\n",
       "      <td>6</td>\n",
       "      <td>0.518655</td>\n",
       "      <td>0.039727</td>\n",
       "      <td>0.019323</td>\n",
       "      <td>0.012039</td>\n",
       "      <td>0.085314</td>\n",
       "      <td>0.182649</td>\n",
       "      <td>0.056629</td>\n",
       "      <td>0.085663</td>\n",
       "    </tr>\n",
       "    <tr>\n",
       "      <th>7</th>\n",
       "      <td>7</td>\n",
       "      <td>0.269630</td>\n",
       "      <td>0.043930</td>\n",
       "      <td>0.071217</td>\n",
       "      <td>0.026857</td>\n",
       "      <td>0.144122</td>\n",
       "      <td>0.181463</td>\n",
       "      <td>0.047311</td>\n",
       "      <td>0.215470</td>\n",
       "    </tr>\n",
       "    <tr>\n",
       "      <th>8</th>\n",
       "      <td>8</td>\n",
       "      <td>0.439578</td>\n",
       "      <td>0.127950</td>\n",
       "      <td>0.033846</td>\n",
       "      <td>0.010000</td>\n",
       "      <td>0.109507</td>\n",
       "      <td>0.178970</td>\n",
       "      <td>0.024325</td>\n",
       "      <td>0.075823</td>\n",
       "    </tr>\n",
       "    <tr>\n",
       "      <th>9</th>\n",
       "      <td>9</td>\n",
       "      <td>0.449108</td>\n",
       "      <td>0.057468</td>\n",
       "      <td>0.050138</td>\n",
       "      <td>0.000452</td>\n",
       "      <td>0.072139</td>\n",
       "      <td>0.228034</td>\n",
       "      <td>0.050313</td>\n",
       "      <td>0.092349</td>\n",
       "    </tr>\n",
       "  </tbody>\n",
       "</table>\n",
       "</div>"
      ],
      "text/plain": [
       "   ID         -   DAMAGED  DIFFERENT      FAKE  NOT_RECEIVED  \\\n",
       "0   0  0.474146  0.086190   0.049056  0.003333      0.058823   \n",
       "1   1  0.405668  0.050710   0.015399  0.012424      0.095219   \n",
       "2   2  0.264527  0.075433   0.035205  0.026863      0.194677   \n",
       "3   3  0.287255  0.068143   0.027602  0.017096      0.084671   \n",
       "4   4  0.257296  0.058302   0.033198  0.054388      0.244343   \n",
       "5   5  0.414002  0.099499   0.024584  0.015556      0.120279   \n",
       "6   6  0.518655  0.039727   0.019323  0.012039      0.085314   \n",
       "7   7  0.269630  0.043930   0.071217  0.026857      0.144122   \n",
       "8   8  0.439578  0.127950   0.033846  0.010000      0.109507   \n",
       "9   9  0.449108  0.057468   0.050138  0.000452      0.072139   \n",
       "\n",
       "   SELLER_CANCEL_POSTERIORI  UNDEFINED  WITHDRAWAL  \n",
       "0                  0.184367   0.062878    0.081206  \n",
       "1                  0.259830   0.043616    0.117134  \n",
       "2                  0.259112   0.031807    0.112376  \n",
       "3                  0.352306   0.063037    0.099890  \n",
       "4                  0.100910   0.033954    0.217608  \n",
       "5                  0.184134   0.087371    0.054575  \n",
       "6                  0.182649   0.056629    0.085663  \n",
       "7                  0.181463   0.047311    0.215470  \n",
       "8                  0.178970   0.024325    0.075823  \n",
       "9                  0.228034   0.050313    0.092349  "
      ]
     },
     "execution_count": 10,
     "metadata": {},
     "output_type": "execute_result"
    }
   ],
   "source": [
    "Multi.pred_proba(Multi_Train[0:10], ID_Test = 'ID', ID_pred = True, refit = True)"
   ]
  },
  {
   "cell_type": "markdown",
   "metadata": {},
   "source": [
    "### best_size method"
   ]
  },
  {
   "cell_type": "markdown",
   "metadata": {},
   "source": [
    "#### Permet d'évaluer l'erreur en fittant sur différent taille de Train ce qui permet de voir à quel moment apparait l'overfitting"
   ]
  },
  {
   "cell_type": "code",
   "execution_count": 11,
   "metadata": {},
   "outputs": [
    {
     "name": "stdout",
     "output_type": "stream",
     "text": [
      "Fitting 2000 datas...\n",
      "2000 datas -> accuracy_score = 0.5177296454070919 \n",
      "\n",
      "Fitting 5000 datas...\n",
      "5000 datas -> accuracy_score = 0.5238495230095398 \n",
      "\n",
      "Fitting 15000 datas...\n",
      "15000 datas -> accuracy_score = 0.5276594468110638 \n",
      "\n",
      "Fitting 25000 datas...\n",
      "25000 datas -> accuracy_score = 0.5299994000119997 \n",
      "\n",
      "\n",
      " In the end, the best data size is 25000 \n",
      "\n",
      " With this accuracy_score : 0.5299994000119997\n"
     ]
    }
   ],
   "source": [
    "Multi.best_size(n=[2000, 5000, 15000, 25000], metric = 'accuracy_score')"
   ]
  },
  {
   "cell_type": "code",
   "execution_count": 12,
   "metadata": {},
   "outputs": [
    {
     "name": "stdout",
     "output_type": "stream",
     "text": [
      "Fitting 2000 datas...\n",
      "2000 datas -> accuracy_score = 0.5157496850062999 \n",
      "\n",
      "Fitting 5000 datas...\n",
      "5000 datas -> accuracy_score = 0.5233395332093358 \n",
      "\n",
      "Fitting 15000 datas...\n",
      "15000 datas -> accuracy_score = 0.5263994720105598 \n",
      "\n",
      "Fitting 25000 datas...\n",
      "25000 datas -> accuracy_score = 0.5293394132117357 \n",
      "\n",
      "\n",
      " In the end, the best data size is 25000 \n",
      "\n",
      " With this accuracy_score : 0.5293394132117357\n"
     ]
    }
   ],
   "source": [
    "Multi.best_size(n=[2000, 5000, 15000, 25000], metric = 'accuracy_score')"
   ]
  },
  {
   "cell_type": "code",
   "execution_count": 13,
   "metadata": {},
   "outputs": [
    {
     "name": "stdout",
     "output_type": "stream",
     "text": [
      "Fitting 200 datas...\n",
      "200 datas -> accuracy_score = 0.5039599208015839 \n",
      "\n",
      "Fitting 500 datas...\n",
      "500 datas -> accuracy_score = 0.501619967600648 \n",
      "\n",
      "Fitting 1500 datas...\n",
      "1500 datas -> accuracy_score = 0.5131997360052799 \n",
      "\n",
      "Fitting 2500 datas...\n",
      "2500 datas -> accuracy_score = 0.5191696166076678 \n",
      "\n",
      "\n",
      " In the end, the best data size is 2500 \n",
      "\n",
      " With this accuracy_score : 0.5191696166076678\n"
     ]
    }
   ],
   "source": [
    "Multi.best_size(n=[200, 500, 1500, 2500], metric = 'accuracy_score')"
   ]
  },
  {
   "cell_type": "markdown",
   "metadata": {},
   "source": [
    "### Bagg_fit method"
   ]
  },
  {
   "cell_type": "markdown",
   "metadata": {},
   "source": [
    "#### Permet d'utiliser un Bagging sur le meilleur estimateur trouvé dans le fit method"
   ]
  },
  {
   "cell_type": "code",
   "execution_count": 14,
   "metadata": {},
   "outputs": [
    {
     "name": "stdout",
     "output_type": "stream",
     "text": [
      "Fitting 3 folds for each of 3 candidates, totalling 9 fits\n"
     ]
    },
    {
     "name": "stderr",
     "output_type": "stream",
     "text": [
      "[Parallel(n_jobs=-1)]: Done   9 out of   9 | elapsed:  1.4min finished\n"
     ]
    },
    {
     "name": "stdout",
     "output_type": "stream",
     "text": [
      "\n",
      " Best hyperparametres : {'n_estimators': 20}\n",
      "\n",
      " Giving this accuracy score : 0.52\n"
     ]
    }
   ],
   "source": [
    "Multi.Bagg_fit(Multi_Train, Multi_Target, n_estimators = [10,20,30],\n",
    "                 cv = 3, value = 0, ID = 'ID', metric = 'accuracy')"
   ]
  },
  {
   "cell_type": "markdown",
   "metadata": {},
   "source": [
    "## Binary class"
   ]
  },
  {
   "cell_type": "code",
   "execution_count": 5,
   "metadata": {},
   "outputs": [
    {
     "name": "stderr",
     "output_type": "stream",
     "text": [
      "BestEstimator.py:11: SettingWithCopyWarning: \n",
      "A value is trying to be set on a copy of a slice from a DataFrame\n",
      "\n",
      "See the caveats in the documentation: http://pandas.pydata.org/pandas-docs/stable/indexing.html#indexing-view-versus-copy\n",
      "  from sklearn.ensemble import GradientBoostingClassifier, RandomForestClassifier, GradientBoostingRegressor, \\\n",
      "C:\\Users\\jecombe\\AppData\\Local\\Continuum\\anaconda3\\lib\\site-packages\\pandas\\core\\indexing.py:189: SettingWithCopyWarning: \n",
      "A value is trying to be set on a copy of a slice from a DataFrame\n",
      "\n",
      "See the caveats in the documentation: http://pandas.pydata.org/pandas-docs/stable/indexing.html#indexing-view-versus-copy\n",
      "  self._setitem_with_indexer(indexer, value)\n"
     ]
    }
   ],
   "source": [
    "Bin_Train = pd.read_csv(r\"C:\\Users\\jecombe\\OneDrive - Capgemini\\Notebooks\\Train1.csv\", sep = ';')\n",
    "target = pd.read_csv(r\"C:\\Users\\jecombe\\OneDrive - Capgemini\\Notebooks\\Target1.csv\", sep = ';')\n",
    "\n",
    "Bin_Target = pd.DataFrame()\n",
    "Bin_Target['ID'] = target['ID']\n",
    "Bin_Target['Target'] = [np.nan]*target.shape[0]\n",
    "\n",
    "\n",
    "for i in range(target.shape[0]):\n",
    "    if target['Target'][i] == 1:\n",
    "        Bin_Target['Target'][i] ='+'\n",
    "    else :\n",
    "        Bin_Target['Target'][i] ='-'\n",
    "        \n",
    "        "
   ]
  },
  {
   "cell_type": "code",
   "execution_count": 16,
   "metadata": {},
   "outputs": [],
   "source": [
    "# Bin_Train = pd.read_csv(r\"C:\\Users\\jecombe\\OneDrive - Capgemini\\Notebooks\\Train1.csv\", sep = ';')\n",
    "# Bin_Target = pd.read_csv(r\"C:\\Users\\jecombe\\OneDrive - Capgemini\\Notebooks\\Target1.csv\", sep = ';')"
   ]
  },
  {
   "cell_type": "code",
   "execution_count": 17,
   "metadata": {},
   "outputs": [
    {
     "data": {
      "text/html": [
       "<div>\n",
       "<style scoped>\n",
       "    .dataframe tbody tr th:only-of-type {\n",
       "        vertical-align: middle;\n",
       "    }\n",
       "\n",
       "    .dataframe tbody tr th {\n",
       "        vertical-align: top;\n",
       "    }\n",
       "\n",
       "    .dataframe thead th {\n",
       "        text-align: right;\n",
       "    }\n",
       "</style>\n",
       "<table border=\"1\" class=\"dataframe\">\n",
       "  <thead>\n",
       "    <tr style=\"text-align: right;\">\n",
       "      <th></th>\n",
       "      <th>ID</th>\n",
       "      <th>month</th>\n",
       "      <th>country</th>\n",
       "      <th>1_diffClosing stocks(kmt)</th>\n",
       "      <th>1_diffExports(kmt)</th>\n",
       "      <th>1_diffImports(kmt)</th>\n",
       "      <th>1_diffRefinery intake(kmt)</th>\n",
       "      <th>1_diffWTI</th>\n",
       "      <th>1_diffSumClosing stocks(kmt)</th>\n",
       "      <th>1_diffSumExports(kmt)</th>\n",
       "      <th>...</th>\n",
       "      <th>12_diffClosing stocks(kmt)</th>\n",
       "      <th>12_diffExports(kmt)</th>\n",
       "      <th>12_diffImports(kmt)</th>\n",
       "      <th>12_diffRefinery intake(kmt)</th>\n",
       "      <th>12_diffWTI</th>\n",
       "      <th>12_diffSumClosing stocks(kmt)</th>\n",
       "      <th>12_diffSumExports(kmt)</th>\n",
       "      <th>12_diffSumImports(kmt)</th>\n",
       "      <th>12_diffSumProduction(kmt)</th>\n",
       "      <th>12_diffSumRefinery intake(kmt)</th>\n",
       "    </tr>\n",
       "  </thead>\n",
       "  <tbody>\n",
       "    <tr>\n",
       "      <th>0</th>\n",
       "      <td>ID00001</td>\n",
       "      <td>5</td>\n",
       "      <td>52</td>\n",
       "      <td>0.0000</td>\n",
       "      <td>237.0000</td>\n",
       "      <td>0.0000</td>\n",
       "      <td>33.0000</td>\n",
       "      <td>-5.62</td>\n",
       "      <td>10426.2462</td>\n",
       "      <td>12135.1024</td>\n",
       "      <td>...</td>\n",
       "      <td>0.0000</td>\n",
       "      <td>0.0000</td>\n",
       "      <td>0.0000</td>\n",
       "      <td>14.0000</td>\n",
       "      <td>2.92</td>\n",
       "      <td>673.8569</td>\n",
       "      <td>-13007.1520</td>\n",
       "      <td>-5932.5482</td>\n",
       "      <td>-17130.8333</td>\n",
       "      <td>-13151.4560</td>\n",
       "    </tr>\n",
       "    <tr>\n",
       "      <th>1</th>\n",
       "      <td>ID00002</td>\n",
       "      <td>12</td>\n",
       "      <td>69</td>\n",
       "      <td>28.0000</td>\n",
       "      <td>-34.0000</td>\n",
       "      <td>60.0000</td>\n",
       "      <td>7.0000</td>\n",
       "      <td>-5.95</td>\n",
       "      <td>195.2005</td>\n",
       "      <td>7500.1033</td>\n",
       "      <td>...</td>\n",
       "      <td>-43.0000</td>\n",
       "      <td>-129.0000</td>\n",
       "      <td>-67.0000</td>\n",
       "      <td>-16.0000</td>\n",
       "      <td>-5.62</td>\n",
       "      <td>3217.0304</td>\n",
       "      <td>-6563.6422</td>\n",
       "      <td>-3587.5152</td>\n",
       "      <td>-13053.6586</td>\n",
       "      <td>-13005.0503</td>\n",
       "    </tr>\n",
       "    <tr>\n",
       "      <th>2</th>\n",
       "      <td>ID00003</td>\n",
       "      <td>5</td>\n",
       "      <td>74</td>\n",
       "      <td>0.0000</td>\n",
       "      <td>0.0000</td>\n",
       "      <td>-29.1227</td>\n",
       "      <td>-85.5816</td>\n",
       "      <td>-5.62</td>\n",
       "      <td>10426.2462</td>\n",
       "      <td>12135.1024</td>\n",
       "      <td>...</td>\n",
       "      <td>0.0000</td>\n",
       "      <td>0.0000</td>\n",
       "      <td>-17.8667</td>\n",
       "      <td>-13.2214</td>\n",
       "      <td>2.92</td>\n",
       "      <td>673.8569</td>\n",
       "      <td>-13007.1520</td>\n",
       "      <td>-5932.5482</td>\n",
       "      <td>-17130.8333</td>\n",
       "      <td>-13151.4560</td>\n",
       "    </tr>\n",
       "    <tr>\n",
       "      <th>3</th>\n",
       "      <td>ID00004</td>\n",
       "      <td>11</td>\n",
       "      <td>34</td>\n",
       "      <td>175.3701</td>\n",
       "      <td>91.5209</td>\n",
       "      <td>0.0000</td>\n",
       "      <td>339.4347</td>\n",
       "      <td>7.66</td>\n",
       "      <td>-2247.4834</td>\n",
       "      <td>-6806.1222</td>\n",
       "      <td>...</td>\n",
       "      <td>81.8304</td>\n",
       "      <td>-579.9462</td>\n",
       "      <td>0.0000</td>\n",
       "      <td>16.6891</td>\n",
       "      <td>-8.62</td>\n",
       "      <td>-2929.8903</td>\n",
       "      <td>1072.8473</td>\n",
       "      <td>504.0197</td>\n",
       "      <td>-4827.2299</td>\n",
       "      <td>3962.6288</td>\n",
       "    </tr>\n",
       "    <tr>\n",
       "      <th>4</th>\n",
       "      <td>ID00005</td>\n",
       "      <td>7</td>\n",
       "      <td>2</td>\n",
       "      <td>-550.0674</td>\n",
       "      <td>251.9568</td>\n",
       "      <td>0.0000</td>\n",
       "      <td>-49.5277</td>\n",
       "      <td>-12.07</td>\n",
       "      <td>-2652.6804</td>\n",
       "      <td>2165.7119</td>\n",
       "      <td>...</td>\n",
       "      <td>-1127.1255</td>\n",
       "      <td>-512.5506</td>\n",
       "      <td>0.0000</td>\n",
       "      <td>-2.0243</td>\n",
       "      <td>7.20</td>\n",
       "      <td>2513.6243</td>\n",
       "      <td>-1732.4430</td>\n",
       "      <td>-4827.1576</td>\n",
       "      <td>-7242.5506</td>\n",
       "      <td>-13079.2251</td>\n",
       "    </tr>\n",
       "  </tbody>\n",
       "</table>\n",
       "<p>5 rows × 123 columns</p>\n",
       "</div>"
      ],
      "text/plain": [
       "        ID  month  country  1_diffClosing stocks(kmt)  1_diffExports(kmt)  \\\n",
       "0  ID00001      5       52                     0.0000            237.0000   \n",
       "1  ID00002     12       69                    28.0000            -34.0000   \n",
       "2  ID00003      5       74                     0.0000              0.0000   \n",
       "3  ID00004     11       34                   175.3701             91.5209   \n",
       "4  ID00005      7        2                  -550.0674            251.9568   \n",
       "\n",
       "   1_diffImports(kmt)  1_diffRefinery intake(kmt)  1_diffWTI  \\\n",
       "0              0.0000                     33.0000      -5.62   \n",
       "1             60.0000                      7.0000      -5.95   \n",
       "2            -29.1227                    -85.5816      -5.62   \n",
       "3              0.0000                    339.4347       7.66   \n",
       "4              0.0000                    -49.5277     -12.07   \n",
       "\n",
       "   1_diffSumClosing stocks(kmt)  1_diffSumExports(kmt)  \\\n",
       "0                    10426.2462             12135.1024   \n",
       "1                      195.2005              7500.1033   \n",
       "2                    10426.2462             12135.1024   \n",
       "3                    -2247.4834             -6806.1222   \n",
       "4                    -2652.6804              2165.7119   \n",
       "\n",
       "                ...                12_diffClosing stocks(kmt)  \\\n",
       "0               ...                                    0.0000   \n",
       "1               ...                                  -43.0000   \n",
       "2               ...                                    0.0000   \n",
       "3               ...                                   81.8304   \n",
       "4               ...                                -1127.1255   \n",
       "\n",
       "   12_diffExports(kmt)  12_diffImports(kmt)  12_diffRefinery intake(kmt)  \\\n",
       "0               0.0000               0.0000                      14.0000   \n",
       "1            -129.0000             -67.0000                     -16.0000   \n",
       "2               0.0000             -17.8667                     -13.2214   \n",
       "3            -579.9462               0.0000                      16.6891   \n",
       "4            -512.5506               0.0000                      -2.0243   \n",
       "\n",
       "   12_diffWTI  12_diffSumClosing stocks(kmt)  12_diffSumExports(kmt)  \\\n",
       "0        2.92                       673.8569             -13007.1520   \n",
       "1       -5.62                      3217.0304              -6563.6422   \n",
       "2        2.92                       673.8569             -13007.1520   \n",
       "3       -8.62                     -2929.8903               1072.8473   \n",
       "4        7.20                      2513.6243              -1732.4430   \n",
       "\n",
       "   12_diffSumImports(kmt)  12_diffSumProduction(kmt)  \\\n",
       "0              -5932.5482                -17130.8333   \n",
       "1              -3587.5152                -13053.6586   \n",
       "2              -5932.5482                -17130.8333   \n",
       "3                504.0197                 -4827.2299   \n",
       "4              -4827.1576                 -7242.5506   \n",
       "\n",
       "   12_diffSumRefinery intake(kmt)  \n",
       "0                     -13151.4560  \n",
       "1                     -13005.0503  \n",
       "2                     -13151.4560  \n",
       "3                       3962.6288  \n",
       "4                     -13079.2251  \n",
       "\n",
       "[5 rows x 123 columns]"
      ]
     },
     "execution_count": 17,
     "metadata": {},
     "output_type": "execute_result"
    }
   ],
   "source": [
    "Bin_Train.head(5)"
   ]
  },
  {
   "cell_type": "code",
   "execution_count": 18,
   "metadata": {},
   "outputs": [
    {
     "data": {
      "text/html": [
       "<div>\n",
       "<style scoped>\n",
       "    .dataframe tbody tr th:only-of-type {\n",
       "        vertical-align: middle;\n",
       "    }\n",
       "\n",
       "    .dataframe tbody tr th {\n",
       "        vertical-align: top;\n",
       "    }\n",
       "\n",
       "    .dataframe thead th {\n",
       "        text-align: right;\n",
       "    }\n",
       "</style>\n",
       "<table border=\"1\" class=\"dataframe\">\n",
       "  <thead>\n",
       "    <tr style=\"text-align: right;\">\n",
       "      <th></th>\n",
       "      <th>ID</th>\n",
       "      <th>Target</th>\n",
       "    </tr>\n",
       "  </thead>\n",
       "  <tbody>\n",
       "    <tr>\n",
       "      <th>0</th>\n",
       "      <td>ID00001</td>\n",
       "      <td>+</td>\n",
       "    </tr>\n",
       "    <tr>\n",
       "      <th>1</th>\n",
       "      <td>ID00002</td>\n",
       "      <td>-</td>\n",
       "    </tr>\n",
       "    <tr>\n",
       "      <th>2</th>\n",
       "      <td>ID00003</td>\n",
       "      <td>-</td>\n",
       "    </tr>\n",
       "    <tr>\n",
       "      <th>3</th>\n",
       "      <td>ID00004</td>\n",
       "      <td>-</td>\n",
       "    </tr>\n",
       "    <tr>\n",
       "      <th>4</th>\n",
       "      <td>ID00005</td>\n",
       "      <td>+</td>\n",
       "    </tr>\n",
       "    <tr>\n",
       "      <th>5</th>\n",
       "      <td>ID00006</td>\n",
       "      <td>+</td>\n",
       "    </tr>\n",
       "    <tr>\n",
       "      <th>6</th>\n",
       "      <td>ID00007</td>\n",
       "      <td>-</td>\n",
       "    </tr>\n",
       "    <tr>\n",
       "      <th>7</th>\n",
       "      <td>ID00008</td>\n",
       "      <td>-</td>\n",
       "    </tr>\n",
       "    <tr>\n",
       "      <th>8</th>\n",
       "      <td>ID00009</td>\n",
       "      <td>-</td>\n",
       "    </tr>\n",
       "    <tr>\n",
       "      <th>9</th>\n",
       "      <td>ID00010</td>\n",
       "      <td>-</td>\n",
       "    </tr>\n",
       "  </tbody>\n",
       "</table>\n",
       "</div>"
      ],
      "text/plain": [
       "        ID Target\n",
       "0  ID00001      +\n",
       "1  ID00002      -\n",
       "2  ID00003      -\n",
       "3  ID00004      -\n",
       "4  ID00005      +\n",
       "5  ID00006      +\n",
       "6  ID00007      -\n",
       "7  ID00008      -\n",
       "8  ID00009      -\n",
       "9  ID00010      -"
      ]
     },
     "execution_count": 18,
     "metadata": {},
     "output_type": "execute_result"
    }
   ],
   "source": [
    "Bin_Target.head(10)"
   ]
  },
  {
   "cell_type": "markdown",
   "metadata": {},
   "source": [
    "### Fit method"
   ]
  },
  {
   "cell_type": "code",
   "execution_count": 19,
   "metadata": {
    "scrolled": true
   },
   "outputs": [
    {
     "name": "stdout",
     "output_type": "stream",
     "text": [
      "Missing Values :\n",
      "\n",
      "                            Total         %\n",
      "1_diffClosing stocks(kmt)     261  2.569151\n",
      "2_diffClosing stocks(kmt)     257  2.529777\n",
      "3_diffClosing stocks(kmt)     253  2.490403\n",
      "4_diffClosing stocks(kmt)     249  2.451029\n",
      "5_diffClosing stocks(kmt)     245  2.411655\n",
      "6_diffClosing stocks(kmt)     241  2.372281\n",
      "7_diffClosing stocks(kmt)     238  2.342750\n",
      "8_diffClosing stocks(kmt)     235  2.313220\n",
      "9_diffClosing stocks(kmt)     232  2.283689\n",
      "10_diffClosing stocks(kmt)    228  2.244315\n",
      "11_diffClosing stocks(kmt)    224  2.204941\n",
      "12_diffClosing stocks(kmt)    220  2.165567\n",
      "1_diffImports(kmt)            151  1.486367\n",
      "2_diffImports(kmt)            148  1.456836\n",
      "3_diffImports(kmt)            145  1.427306\n",
      "4_diffImports(kmt)            142  1.397775\n",
      "5_diffImports(kmt)            139  1.368245\n",
      "6_diffImports(kmt)            136  1.338714\n",
      "7_diffImports(kmt)            133  1.309184\n",
      "8_diffImports(kmt)            130  1.279654\n",
      "9_diffImports(kmt)            127  1.250123\n",
      "10_diffImports(kmt)           124  1.220593\n",
      "11_diffImports(kmt)           121  1.191062\n",
      "12_diffImports(kmt)           118  1.161532 \n",
      "\n",
      "Missing values filled by 0 \n",
      "\n",
      "Searching for the best Classifier on 1000 datas using roc_auc loss... \n",
      "\n",
      "\n",
      " Bagging: 0.6883 (+/- 0.0437)\n",
      "\n",
      " Gradient Boosting: 0.7189 (+/- 0.0289)\n",
      "\n",
      " XGBoost: 0.7121 (+/- 0.0225)\n",
      "\n",
      " Random Forest: 0.7194 (+/- 0.0320)\n",
      "\n",
      " Decision Tree: 0.6157 (+/- 0.0129)\n",
      "\n",
      " Extra Tree: 0.6687 (+/- 0.0374)\n",
      "\n",
      " KNN: 0.6367 (+/- 0.0594)\n",
      "\n",
      " SVM: 0.5040 (+/- 0.0054)\n",
      "\n",
      " Searching for the best hyperparametres of Random Forest using hard_grid on 1000 data among : \n",
      "\n",
      "{'n_estimators': [10, 100, 300, 600, 1000, 1200], 'max_depth': [5, 10, 15, 20, 25], 'criterion': ['gini', 'entropy']} \n",
      "\n",
      "Fitting 3 folds for each of 60 candidates, totalling 180 fits\n"
     ]
    },
    {
     "name": "stderr",
     "output_type": "stream",
     "text": [
      "[Parallel(n_jobs=-1)]: Done  42 tasks      | elapsed:   38.6s\n",
      "[Parallel(n_jobs=-1)]: Done 180 out of 180 | elapsed:  3.4min finished\n"
     ]
    },
    {
     "name": "stdout",
     "output_type": "stream",
     "text": [
      "\n",
      " In the end, the best estimator is : Random Forest Classifier\n",
      "\n",
      " Using these hyperparametres : {'criterion': 'gini', 'max_depth': 5, 'n_estimators': 100}\n",
      "\n",
      " With this roc_auc score : 0.7437758885025835\n"
     ]
    },
    {
     "name": "stderr",
     "output_type": "stream",
     "text": [
      "C:\\ProgramData\\Anaconda3\\lib\\site-packages\\sklearn\\preprocessing\\label.py:151: DeprecationWarning: The truth value of an empty array is ambiguous. Returning False, but in future this will result in an error. Use `array.size > 0` to check that an array is not empty.\n",
      "  if diff:\n"
     ]
    }
   ],
   "source": [
    "Bin = BestEstimator(type_esti = 'Classifier', hard_grid=True)\n",
    "Bin.fit(Bin_Train, Bin_Target, scoring = 'roc_auc') "
   ]
  },
  {
   "cell_type": "markdown",
   "metadata": {},
   "source": [
    "### All pred methods"
   ]
  },
  {
   "cell_type": "code",
   "execution_count": 20,
   "metadata": {},
   "outputs": [
    {
     "name": "stderr",
     "output_type": "stream",
     "text": [
      "C:\\ProgramData\\Anaconda3\\lib\\site-packages\\sklearn\\preprocessing\\label.py:151: DeprecationWarning: The truth value of an empty array is ambiguous. Returning False, but in future this will result in an error. Use `array.size > 0` to check that an array is not empty.\n",
      "  if diff:\n"
     ]
    },
    {
     "data": {
      "text/html": [
       "<div>\n",
       "<style scoped>\n",
       "    .dataframe tbody tr th:only-of-type {\n",
       "        vertical-align: middle;\n",
       "    }\n",
       "\n",
       "    .dataframe tbody tr th {\n",
       "        vertical-align: top;\n",
       "    }\n",
       "\n",
       "    .dataframe thead th {\n",
       "        text-align: right;\n",
       "    }\n",
       "</style>\n",
       "<table border=\"1\" class=\"dataframe\">\n",
       "  <thead>\n",
       "    <tr style=\"text-align: right;\">\n",
       "      <th></th>\n",
       "      <th>ID</th>\n",
       "      <th>Target</th>\n",
       "    </tr>\n",
       "  </thead>\n",
       "  <tbody>\n",
       "    <tr>\n",
       "      <th>0</th>\n",
       "      <td>ID00001</td>\n",
       "      <td>+</td>\n",
       "    </tr>\n",
       "    <tr>\n",
       "      <th>1</th>\n",
       "      <td>ID00002</td>\n",
       "      <td>+</td>\n",
       "    </tr>\n",
       "    <tr>\n",
       "      <th>2</th>\n",
       "      <td>ID00003</td>\n",
       "      <td>-</td>\n",
       "    </tr>\n",
       "    <tr>\n",
       "      <th>3</th>\n",
       "      <td>ID00004</td>\n",
       "      <td>-</td>\n",
       "    </tr>\n",
       "    <tr>\n",
       "      <th>4</th>\n",
       "      <td>ID00005</td>\n",
       "      <td>+</td>\n",
       "    </tr>\n",
       "    <tr>\n",
       "      <th>5</th>\n",
       "      <td>ID00006</td>\n",
       "      <td>-</td>\n",
       "    </tr>\n",
       "    <tr>\n",
       "      <th>6</th>\n",
       "      <td>ID00007</td>\n",
       "      <td>-</td>\n",
       "    </tr>\n",
       "    <tr>\n",
       "      <th>7</th>\n",
       "      <td>ID00008</td>\n",
       "      <td>-</td>\n",
       "    </tr>\n",
       "    <tr>\n",
       "      <th>8</th>\n",
       "      <td>ID00009</td>\n",
       "      <td>+</td>\n",
       "    </tr>\n",
       "    <tr>\n",
       "      <th>9</th>\n",
       "      <td>ID00010</td>\n",
       "      <td>-</td>\n",
       "    </tr>\n",
       "  </tbody>\n",
       "</table>\n",
       "</div>"
      ],
      "text/plain": [
       "        ID Target\n",
       "0  ID00001      +\n",
       "1  ID00002      +\n",
       "2  ID00003      -\n",
       "3  ID00004      -\n",
       "4  ID00005      +\n",
       "5  ID00006      -\n",
       "6  ID00007      -\n",
       "7  ID00008      -\n",
       "8  ID00009      +\n",
       "9  ID00010      -"
      ]
     },
     "execution_count": 20,
     "metadata": {},
     "output_type": "execute_result"
    }
   ],
   "source": [
    "Bin.pred_grid(Bin_Train[0:10], ID='ID', value=0)"
   ]
  },
  {
   "cell_type": "code",
   "execution_count": 21,
   "metadata": {},
   "outputs": [
    {
     "name": "stderr",
     "output_type": "stream",
     "text": [
      "C:\\ProgramData\\Anaconda3\\lib\\site-packages\\sklearn\\preprocessing\\label.py:151: DeprecationWarning: The truth value of an empty array is ambiguous. Returning False, but in future this will result in an error. Use `array.size > 0` to check that an array is not empty.\n",
      "  if diff:\n"
     ]
    },
    {
     "data": {
      "text/html": [
       "<div>\n",
       "<style scoped>\n",
       "    .dataframe tbody tr th:only-of-type {\n",
       "        vertical-align: middle;\n",
       "    }\n",
       "\n",
       "    .dataframe tbody tr th {\n",
       "        vertical-align: top;\n",
       "    }\n",
       "\n",
       "    .dataframe thead th {\n",
       "        text-align: right;\n",
       "    }\n",
       "</style>\n",
       "<table border=\"1\" class=\"dataframe\">\n",
       "  <thead>\n",
       "    <tr style=\"text-align: right;\">\n",
       "      <th></th>\n",
       "      <th>ID</th>\n",
       "      <th>Target</th>\n",
       "    </tr>\n",
       "  </thead>\n",
       "  <tbody>\n",
       "    <tr>\n",
       "      <th>0</th>\n",
       "      <td>ID00001</td>\n",
       "      <td>+</td>\n",
       "    </tr>\n",
       "    <tr>\n",
       "      <th>1</th>\n",
       "      <td>ID00002</td>\n",
       "      <td>+</td>\n",
       "    </tr>\n",
       "    <tr>\n",
       "      <th>2</th>\n",
       "      <td>ID00003</td>\n",
       "      <td>-</td>\n",
       "    </tr>\n",
       "    <tr>\n",
       "      <th>3</th>\n",
       "      <td>ID00004</td>\n",
       "      <td>-</td>\n",
       "    </tr>\n",
       "    <tr>\n",
       "      <th>4</th>\n",
       "      <td>ID00005</td>\n",
       "      <td>+</td>\n",
       "    </tr>\n",
       "    <tr>\n",
       "      <th>5</th>\n",
       "      <td>ID00006</td>\n",
       "      <td>-</td>\n",
       "    </tr>\n",
       "    <tr>\n",
       "      <th>6</th>\n",
       "      <td>ID00007</td>\n",
       "      <td>-</td>\n",
       "    </tr>\n",
       "    <tr>\n",
       "      <th>7</th>\n",
       "      <td>ID00008</td>\n",
       "      <td>-</td>\n",
       "    </tr>\n",
       "    <tr>\n",
       "      <th>8</th>\n",
       "      <td>ID00009</td>\n",
       "      <td>-</td>\n",
       "    </tr>\n",
       "    <tr>\n",
       "      <th>9</th>\n",
       "      <td>ID00010</td>\n",
       "      <td>-</td>\n",
       "    </tr>\n",
       "  </tbody>\n",
       "</table>\n",
       "</div>"
      ],
      "text/plain": [
       "        ID Target\n",
       "0  ID00001      +\n",
       "1  ID00002      +\n",
       "2  ID00003      -\n",
       "3  ID00004      -\n",
       "4  ID00005      +\n",
       "5  ID00006      -\n",
       "6  ID00007      -\n",
       "7  ID00008      -\n",
       "8  ID00009      -\n",
       "9  ID00010      -"
      ]
     },
     "execution_count": 21,
     "metadata": {},
     "output_type": "execute_result"
    }
   ],
   "source": [
    "Bin.pred(Bin_Train[0:10], ID='ID', value=0, refit = True)"
   ]
  },
  {
   "cell_type": "code",
   "execution_count": 22,
   "metadata": {},
   "outputs": [
    {
     "name": "stderr",
     "output_type": "stream",
     "text": [
      "C:\\ProgramData\\Anaconda3\\lib\\site-packages\\sklearn\\preprocessing\\label.py:151: DeprecationWarning: The truth value of an empty array is ambiguous. Returning False, but in future this will result in an error. Use `array.size > 0` to check that an array is not empty.\n",
      "  if diff:\n"
     ]
    },
    {
     "data": {
      "text/html": [
       "<div>\n",
       "<style scoped>\n",
       "    .dataframe tbody tr th:only-of-type {\n",
       "        vertical-align: middle;\n",
       "    }\n",
       "\n",
       "    .dataframe tbody tr th {\n",
       "        vertical-align: top;\n",
       "    }\n",
       "\n",
       "    .dataframe thead th {\n",
       "        text-align: right;\n",
       "    }\n",
       "</style>\n",
       "<table border=\"1\" class=\"dataframe\">\n",
       "  <thead>\n",
       "    <tr style=\"text-align: right;\">\n",
       "      <th></th>\n",
       "      <th>ID</th>\n",
       "      <th>+</th>\n",
       "      <th>-</th>\n",
       "    </tr>\n",
       "  </thead>\n",
       "  <tbody>\n",
       "    <tr>\n",
       "      <th>0</th>\n",
       "      <td>ID00001</td>\n",
       "      <td>0.744035</td>\n",
       "      <td>0.255965</td>\n",
       "    </tr>\n",
       "    <tr>\n",
       "      <th>1</th>\n",
       "      <td>ID00002</td>\n",
       "      <td>0.592116</td>\n",
       "      <td>0.407884</td>\n",
       "    </tr>\n",
       "    <tr>\n",
       "      <th>2</th>\n",
       "      <td>ID00003</td>\n",
       "      <td>0.399270</td>\n",
       "      <td>0.600730</td>\n",
       "    </tr>\n",
       "    <tr>\n",
       "      <th>3</th>\n",
       "      <td>ID00004</td>\n",
       "      <td>0.227182</td>\n",
       "      <td>0.772818</td>\n",
       "    </tr>\n",
       "    <tr>\n",
       "      <th>4</th>\n",
       "      <td>ID00005</td>\n",
       "      <td>0.633558</td>\n",
       "      <td>0.366442</td>\n",
       "    </tr>\n",
       "    <tr>\n",
       "      <th>5</th>\n",
       "      <td>ID00006</td>\n",
       "      <td>0.430929</td>\n",
       "      <td>0.569071</td>\n",
       "    </tr>\n",
       "    <tr>\n",
       "      <th>6</th>\n",
       "      <td>ID00007</td>\n",
       "      <td>0.303413</td>\n",
       "      <td>0.696587</td>\n",
       "    </tr>\n",
       "    <tr>\n",
       "      <th>7</th>\n",
       "      <td>ID00008</td>\n",
       "      <td>0.125750</td>\n",
       "      <td>0.874250</td>\n",
       "    </tr>\n",
       "    <tr>\n",
       "      <th>8</th>\n",
       "      <td>ID00009</td>\n",
       "      <td>0.455283</td>\n",
       "      <td>0.544717</td>\n",
       "    </tr>\n",
       "    <tr>\n",
       "      <th>9</th>\n",
       "      <td>ID00010</td>\n",
       "      <td>0.173155</td>\n",
       "      <td>0.826845</td>\n",
       "    </tr>\n",
       "  </tbody>\n",
       "</table>\n",
       "</div>"
      ],
      "text/plain": [
       "        ID         +         -\n",
       "0  ID00001  0.744035  0.255965\n",
       "1  ID00002  0.592116  0.407884\n",
       "2  ID00003  0.399270  0.600730\n",
       "3  ID00004  0.227182  0.772818\n",
       "4  ID00005  0.633558  0.366442\n",
       "5  ID00006  0.430929  0.569071\n",
       "6  ID00007  0.303413  0.696587\n",
       "7  ID00008  0.125750  0.874250\n",
       "8  ID00009  0.455283  0.544717\n",
       "9  ID00010  0.173155  0.826845"
      ]
     },
     "execution_count": 22,
     "metadata": {},
     "output_type": "execute_result"
    }
   ],
   "source": [
    "#Bin.pred_grid_proba(Bin.Transform(Bin_Train[0:10]), ID = 'ID')\n",
    "Bin.pred_proba(Bin_Train[0:10], ID_Test = 'ID', ID_pred = True, refit = True)"
   ]
  },
  {
   "cell_type": "code",
   "execution_count": 23,
   "metadata": {},
   "outputs": [
    {
     "name": "stderr",
     "output_type": "stream",
     "text": [
      "C:\\ProgramData\\Anaconda3\\lib\\site-packages\\sklearn\\preprocessing\\label.py:151: DeprecationWarning: The truth value of an empty array is ambiguous. Returning False, but in future this will result in an error. Use `array.size > 0` to check that an array is not empty.\n",
      "  if diff:\n"
     ]
    },
    {
     "data": {
      "text/html": [
       "<div>\n",
       "<style scoped>\n",
       "    .dataframe tbody tr th:only-of-type {\n",
       "        vertical-align: middle;\n",
       "    }\n",
       "\n",
       "    .dataframe tbody tr th {\n",
       "        vertical-align: top;\n",
       "    }\n",
       "\n",
       "    .dataframe thead th {\n",
       "        text-align: right;\n",
       "    }\n",
       "</style>\n",
       "<table border=\"1\" class=\"dataframe\">\n",
       "  <thead>\n",
       "    <tr style=\"text-align: right;\">\n",
       "      <th></th>\n",
       "      <th>ID</th>\n",
       "      <th>+</th>\n",
       "      <th>-</th>\n",
       "    </tr>\n",
       "  </thead>\n",
       "  <tbody>\n",
       "    <tr>\n",
       "      <th>0</th>\n",
       "      <td>ID00001</td>\n",
       "      <td>0.744035</td>\n",
       "      <td>0.255965</td>\n",
       "    </tr>\n",
       "    <tr>\n",
       "      <th>1</th>\n",
       "      <td>ID00002</td>\n",
       "      <td>0.592116</td>\n",
       "      <td>0.407884</td>\n",
       "    </tr>\n",
       "    <tr>\n",
       "      <th>2</th>\n",
       "      <td>ID00003</td>\n",
       "      <td>0.399270</td>\n",
       "      <td>0.600730</td>\n",
       "    </tr>\n",
       "    <tr>\n",
       "      <th>3</th>\n",
       "      <td>ID00004</td>\n",
       "      <td>0.227182</td>\n",
       "      <td>0.772818</td>\n",
       "    </tr>\n",
       "    <tr>\n",
       "      <th>4</th>\n",
       "      <td>ID00005</td>\n",
       "      <td>0.633558</td>\n",
       "      <td>0.366442</td>\n",
       "    </tr>\n",
       "    <tr>\n",
       "      <th>5</th>\n",
       "      <td>ID00006</td>\n",
       "      <td>0.430929</td>\n",
       "      <td>0.569071</td>\n",
       "    </tr>\n",
       "    <tr>\n",
       "      <th>6</th>\n",
       "      <td>ID00007</td>\n",
       "      <td>0.303413</td>\n",
       "      <td>0.696587</td>\n",
       "    </tr>\n",
       "    <tr>\n",
       "      <th>7</th>\n",
       "      <td>ID00008</td>\n",
       "      <td>0.125750</td>\n",
       "      <td>0.874250</td>\n",
       "    </tr>\n",
       "    <tr>\n",
       "      <th>8</th>\n",
       "      <td>ID00009</td>\n",
       "      <td>0.455283</td>\n",
       "      <td>0.544717</td>\n",
       "    </tr>\n",
       "    <tr>\n",
       "      <th>9</th>\n",
       "      <td>ID00010</td>\n",
       "      <td>0.173155</td>\n",
       "      <td>0.826845</td>\n",
       "    </tr>\n",
       "  </tbody>\n",
       "</table>\n",
       "</div>"
      ],
      "text/plain": [
       "        ID         +         -\n",
       "0  ID00001  0.744035  0.255965\n",
       "1  ID00002  0.592116  0.407884\n",
       "2  ID00003  0.399270  0.600730\n",
       "3  ID00004  0.227182  0.772818\n",
       "4  ID00005  0.633558  0.366442\n",
       "5  ID00006  0.430929  0.569071\n",
       "6  ID00007  0.303413  0.696587\n",
       "7  ID00008  0.125750  0.874250\n",
       "8  ID00009  0.455283  0.544717\n",
       "9  ID00010  0.173155  0.826845"
      ]
     },
     "execution_count": 23,
     "metadata": {},
     "output_type": "execute_result"
    }
   ],
   "source": [
    "Bin.pred_grid_proba(Bin_Train[0:10], ID_Test = 'ID', ID_pred = True)"
   ]
  },
  {
   "cell_type": "code",
   "execution_count": 24,
   "metadata": {},
   "outputs": [
    {
     "name": "stdout",
     "output_type": "stream",
     "text": [
      "Fitting 2000 datas...\n",
      "2000 datas -> roc_auc_score = 0.6565202415250662 \n",
      "\n",
      "Fitting 5000 datas...\n",
      "5000 datas -> roc_auc_score = 0.6780300697338616 \n",
      "\n",
      "Fitting 15000 datas...\n",
      "15000 datas -> roc_auc_score = 0.6763813897043895 \n",
      "\n",
      "Fitting 25000 datas...\n",
      "25000 datas -> roc_auc_score = 0.6746791033370516 \n",
      "\n",
      "\n",
      " In the end, the best data size is 5000 \n",
      "\n",
      " With this roc_auc_score : 0.6780300697338616\n"
     ]
    }
   ],
   "source": [
    "Bin.best_size(n=[2000, 5000, 15000, 25000], metric = 'roc_auc_score')"
   ]
  },
  {
   "cell_type": "code",
   "execution_count": 25,
   "metadata": {},
   "outputs": [
    {
     "name": "stdout",
     "output_type": "stream",
     "text": [
      "Fitting 3 folds for each of 3 candidates, totalling 9 fits\n"
     ]
    },
    {
     "name": "stderr",
     "output_type": "stream",
     "text": [
      "[Parallel(n_jobs=-1)]: Done   9 out of   9 | elapsed:   36.2s finished\n"
     ]
    },
    {
     "name": "stdout",
     "output_type": "stream",
     "text": [
      "\n",
      " Best hyperparametres : {'n_estimators': 20}\n",
      "\n",
      " Giving this roc_auc score : 0.7673073066122591\n"
     ]
    }
   ],
   "source": [
    "Bin.Bagg_fit(Bin_Train, Bin_Target, n_estimators = [10,20,30],\n",
    "                 cv = 3, value = 0, ID = 'ID', metric = 'roc_auc')"
   ]
  },
  {
   "cell_type": "markdown",
   "metadata": {},
   "source": [
    "## Regression"
   ]
  },
  {
   "cell_type": "code",
   "execution_count": 6,
   "metadata": {},
   "outputs": [],
   "source": [
    "Reg_Train = pd.read_csv(r\"C:\\Users\\jecombe\\OneDrive - Capgemini\\Notebooks\\input_training.csv\", sep = ';')\n",
    "Reg_Target = pd.read_csv(r\"C:\\Users\\jecombe\\OneDrive - Capgemini\\Notebooks\\Target_Engie.csv\", sep = ';')"
   ]
  },
  {
   "cell_type": "code",
   "execution_count": 27,
   "metadata": {},
   "outputs": [
    {
     "data": {
      "text/plain": [
       "ID        617386.00000\n",
       "TARGET      2256.05711\n",
       "dtype: float64"
      ]
     },
     "execution_count": 27,
     "metadata": {},
     "output_type": "execute_result"
    }
   ],
   "source": [
    "Reg_Target.max()"
   ]
  },
  {
   "cell_type": "code",
   "execution_count": 28,
   "metadata": {},
   "outputs": [
    {
     "data": {
      "text/html": [
       "<div>\n",
       "<style scoped>\n",
       "    .dataframe tbody tr th:only-of-type {\n",
       "        vertical-align: middle;\n",
       "    }\n",
       "\n",
       "    .dataframe tbody tr th {\n",
       "        vertical-align: top;\n",
       "    }\n",
       "\n",
       "    .dataframe thead th {\n",
       "        text-align: right;\n",
       "    }\n",
       "</style>\n",
       "<table border=\"1\" class=\"dataframe\">\n",
       "  <thead>\n",
       "    <tr style=\"text-align: right;\">\n",
       "      <th></th>\n",
       "      <th>ID</th>\n",
       "      <th>MAC_CODE</th>\n",
       "      <th>Date_time</th>\n",
       "      <th>Pitch_angle</th>\n",
       "      <th>Pitch_angle_min</th>\n",
       "      <th>Pitch_angle_max</th>\n",
       "      <th>Pitch_angle_std</th>\n",
       "      <th>Hub_temperature</th>\n",
       "      <th>Hub_temperature_min</th>\n",
       "      <th>Hub_temperature_max</th>\n",
       "      <th>...</th>\n",
       "      <th>Rotor_speed</th>\n",
       "      <th>Rotor_speed_min</th>\n",
       "      <th>Rotor_speed_max</th>\n",
       "      <th>Rotor_speed_std</th>\n",
       "      <th>Rotor_bearing_temperature</th>\n",
       "      <th>Rotor_bearing_temperature_min</th>\n",
       "      <th>Rotor_bearing_temperature_max</th>\n",
       "      <th>Rotor_bearing_temperature_std</th>\n",
       "      <th>Absolute_wind_direction_c</th>\n",
       "      <th>Nacelle_angle_c</th>\n",
       "    </tr>\n",
       "  </thead>\n",
       "  <tbody>\n",
       "    <tr>\n",
       "      <th>0</th>\n",
       "      <td>1</td>\n",
       "      <td>WT3</td>\n",
       "      <td>1.0</td>\n",
       "      <td>92.470001</td>\n",
       "      <td>92.470001</td>\n",
       "      <td>92.470001</td>\n",
       "      <td>0.0</td>\n",
       "      <td>7.00</td>\n",
       "      <td>7.0</td>\n",
       "      <td>7.0</td>\n",
       "      <td>...</td>\n",
       "      <td>0.0</td>\n",
       "      <td>0.0</td>\n",
       "      <td>0.0</td>\n",
       "      <td>0.0</td>\n",
       "      <td>2.4</td>\n",
       "      <td>2.4</td>\n",
       "      <td>2.4</td>\n",
       "      <td>0.0</td>\n",
       "      <td>294.19000</td>\n",
       "      <td>294.23999</td>\n",
       "    </tr>\n",
       "    <tr>\n",
       "      <th>1</th>\n",
       "      <td>2</td>\n",
       "      <td>WT3</td>\n",
       "      <td>2.0</td>\n",
       "      <td>92.470001</td>\n",
       "      <td>92.470001</td>\n",
       "      <td>92.470001</td>\n",
       "      <td>0.0</td>\n",
       "      <td>7.00</td>\n",
       "      <td>7.0</td>\n",
       "      <td>7.0</td>\n",
       "      <td>...</td>\n",
       "      <td>0.0</td>\n",
       "      <td>0.0</td>\n",
       "      <td>0.0</td>\n",
       "      <td>0.0</td>\n",
       "      <td>2.4</td>\n",
       "      <td>2.4</td>\n",
       "      <td>2.4</td>\n",
       "      <td>0.0</td>\n",
       "      <td>297.82999</td>\n",
       "      <td>294.23999</td>\n",
       "    </tr>\n",
       "    <tr>\n",
       "      <th>2</th>\n",
       "      <td>3</td>\n",
       "      <td>WT3</td>\n",
       "      <td>3.0</td>\n",
       "      <td>92.470001</td>\n",
       "      <td>92.470001</td>\n",
       "      <td>92.470001</td>\n",
       "      <td>0.0</td>\n",
       "      <td>7.00</td>\n",
       "      <td>7.0</td>\n",
       "      <td>7.0</td>\n",
       "      <td>...</td>\n",
       "      <td>0.0</td>\n",
       "      <td>0.0</td>\n",
       "      <td>0.0</td>\n",
       "      <td>0.0</td>\n",
       "      <td>2.4</td>\n",
       "      <td>2.4</td>\n",
       "      <td>2.4</td>\n",
       "      <td>0.0</td>\n",
       "      <td>322.20999</td>\n",
       "      <td>294.23999</td>\n",
       "    </tr>\n",
       "    <tr>\n",
       "      <th>3</th>\n",
       "      <td>4</td>\n",
       "      <td>WT3</td>\n",
       "      <td>4.0</td>\n",
       "      <td>92.470001</td>\n",
       "      <td>92.470001</td>\n",
       "      <td>92.470001</td>\n",
       "      <td>0.0</td>\n",
       "      <td>6.97</td>\n",
       "      <td>6.7</td>\n",
       "      <td>7.0</td>\n",
       "      <td>...</td>\n",
       "      <td>0.0</td>\n",
       "      <td>0.0</td>\n",
       "      <td>0.0</td>\n",
       "      <td>0.0</td>\n",
       "      <td>2.4</td>\n",
       "      <td>2.4</td>\n",
       "      <td>2.4</td>\n",
       "      <td>0.0</td>\n",
       "      <td>318.69000</td>\n",
       "      <td>294.23999</td>\n",
       "    </tr>\n",
       "    <tr>\n",
       "      <th>4</th>\n",
       "      <td>5</td>\n",
       "      <td>WT3</td>\n",
       "      <td>5.0</td>\n",
       "      <td>92.470001</td>\n",
       "      <td>92.470001</td>\n",
       "      <td>92.470001</td>\n",
       "      <td>0.0</td>\n",
       "      <td>6.93</td>\n",
       "      <td>6.0</td>\n",
       "      <td>7.0</td>\n",
       "      <td>...</td>\n",
       "      <td>0.0</td>\n",
       "      <td>0.0</td>\n",
       "      <td>0.0</td>\n",
       "      <td>0.0</td>\n",
       "      <td>2.4</td>\n",
       "      <td>2.4</td>\n",
       "      <td>2.5</td>\n",
       "      <td>0.0</td>\n",
       "      <td>314.89001</td>\n",
       "      <td>294.23999</td>\n",
       "    </tr>\n",
       "  </tbody>\n",
       "</table>\n",
       "<p>5 rows × 78 columns</p>\n",
       "</div>"
      ],
      "text/plain": [
       "   ID MAC_CODE  Date_time  Pitch_angle  Pitch_angle_min  Pitch_angle_max  \\\n",
       "0   1      WT3        1.0    92.470001        92.470001        92.470001   \n",
       "1   2      WT3        2.0    92.470001        92.470001        92.470001   \n",
       "2   3      WT3        3.0    92.470001        92.470001        92.470001   \n",
       "3   4      WT3        4.0    92.470001        92.470001        92.470001   \n",
       "4   5      WT3        5.0    92.470001        92.470001        92.470001   \n",
       "\n",
       "   Pitch_angle_std  Hub_temperature  Hub_temperature_min  Hub_temperature_max  \\\n",
       "0              0.0             7.00                  7.0                  7.0   \n",
       "1              0.0             7.00                  7.0                  7.0   \n",
       "2              0.0             7.00                  7.0                  7.0   \n",
       "3              0.0             6.97                  6.7                  7.0   \n",
       "4              0.0             6.93                  6.0                  7.0   \n",
       "\n",
       "        ...         Rotor_speed  Rotor_speed_min  Rotor_speed_max  \\\n",
       "0       ...                 0.0              0.0              0.0   \n",
       "1       ...                 0.0              0.0              0.0   \n",
       "2       ...                 0.0              0.0              0.0   \n",
       "3       ...                 0.0              0.0              0.0   \n",
       "4       ...                 0.0              0.0              0.0   \n",
       "\n",
       "   Rotor_speed_std  Rotor_bearing_temperature  Rotor_bearing_temperature_min  \\\n",
       "0              0.0                        2.4                            2.4   \n",
       "1              0.0                        2.4                            2.4   \n",
       "2              0.0                        2.4                            2.4   \n",
       "3              0.0                        2.4                            2.4   \n",
       "4              0.0                        2.4                            2.4   \n",
       "\n",
       "   Rotor_bearing_temperature_max  Rotor_bearing_temperature_std  \\\n",
       "0                            2.4                            0.0   \n",
       "1                            2.4                            0.0   \n",
       "2                            2.4                            0.0   \n",
       "3                            2.4                            0.0   \n",
       "4                            2.5                            0.0   \n",
       "\n",
       "   Absolute_wind_direction_c  Nacelle_angle_c  \n",
       "0                  294.19000        294.23999  \n",
       "1                  297.82999        294.23999  \n",
       "2                  322.20999        294.23999  \n",
       "3                  318.69000        294.23999  \n",
       "4                  314.89001        294.23999  \n",
       "\n",
       "[5 rows x 78 columns]"
      ]
     },
     "execution_count": 28,
     "metadata": {},
     "output_type": "execute_result"
    }
   ],
   "source": [
    "Reg_Train.head(5)"
   ]
  },
  {
   "cell_type": "code",
   "execution_count": 29,
   "metadata": {},
   "outputs": [
    {
     "data": {
      "text/html": [
       "<div>\n",
       "<style scoped>\n",
       "    .dataframe tbody tr th:only-of-type {\n",
       "        vertical-align: middle;\n",
       "    }\n",
       "\n",
       "    .dataframe tbody tr th {\n",
       "        vertical-align: top;\n",
       "    }\n",
       "\n",
       "    .dataframe thead th {\n",
       "        text-align: right;\n",
       "    }\n",
       "</style>\n",
       "<table border=\"1\" class=\"dataframe\">\n",
       "  <thead>\n",
       "    <tr style=\"text-align: right;\">\n",
       "      <th></th>\n",
       "      <th>ID</th>\n",
       "      <th>TARGET</th>\n",
       "    </tr>\n",
       "  </thead>\n",
       "  <tbody>\n",
       "    <tr>\n",
       "      <th>0</th>\n",
       "      <td>1</td>\n",
       "      <td>-0.703</td>\n",
       "    </tr>\n",
       "    <tr>\n",
       "      <th>1</th>\n",
       "      <td>2</td>\n",
       "      <td>-0.747</td>\n",
       "    </tr>\n",
       "    <tr>\n",
       "      <th>2</th>\n",
       "      <td>3</td>\n",
       "      <td>-0.791</td>\n",
       "    </tr>\n",
       "    <tr>\n",
       "      <th>3</th>\n",
       "      <td>4</td>\n",
       "      <td>-0.736</td>\n",
       "    </tr>\n",
       "    <tr>\n",
       "      <th>4</th>\n",
       "      <td>5</td>\n",
       "      <td>-1.055</td>\n",
       "    </tr>\n",
       "  </tbody>\n",
       "</table>\n",
       "</div>"
      ],
      "text/plain": [
       "   ID  TARGET\n",
       "0   1  -0.703\n",
       "1   2  -0.747\n",
       "2   3  -0.791\n",
       "3   4  -0.736\n",
       "4   5  -1.055"
      ]
     },
     "execution_count": 29,
     "metadata": {},
     "output_type": "execute_result"
    }
   ],
   "source": [
    "Reg_Target.head(5)"
   ]
  },
  {
   "cell_type": "markdown",
   "metadata": {},
   "source": [
    "### fit method"
   ]
  },
  {
   "cell_type": "code",
   "execution_count": 30,
   "metadata": {},
   "outputs": [
    {
     "name": "stdout",
     "output_type": "stream",
     "text": [
      "Missing Values :\n",
      "\n",
      "                                Total          %\n",
      "Grid_voltage                   101322  16.411451\n",
      "Grid_voltage_std               101322  16.411451\n",
      "Grid_voltage_max               101322  16.411451\n",
      "Grid_voltage_min               101322  16.411451\n",
      "Gearbox_inlet_temperature        8064   1.306152\n",
      "Generator_converter_speed        8064   1.306152\n",
      "Generator_converter_speed_min    8064   1.306152\n",
      "Generator_converter_speed_max    8064   1.306152\n",
      "Generator_converter_speed_std    8064   1.306152\n",
      "Gearbox_inlet_temperature_min    8064   1.306152\n",
      "Gearbox_inlet_temperature_max    8064   1.306152\n",
      "Gearbox_inlet_temperature_std    8064   1.306152\n",
      "Absolute_wind_direction_c          72   0.011662\n",
      "Nacelle_angle_c                    72   0.011662 \n",
      "\n",
      "Missing values filled by 0 \n",
      "\n",
      "Searching for the best Regressor on 1000 datas using neg_mean_absolute_error loss... \n",
      "\n",
      "\n",
      " Bagging: 29.3263 (+/- 4.1682)\n",
      "\n",
      " Gradient Boosting: 26.5831 (+/- 1.3577)\n",
      "\n",
      " XGBoost: 25.6346 (+/- 2.0193)\n",
      "\n",
      " Random Forest: 27.3190 (+/- 2.6340)\n",
      "\n",
      " Decision Tree: 41.3404 (+/- 16.6506)\n",
      "\n",
      " Extra Tree: 29.3071 (+/- 3.9439)\n",
      "\n",
      " KNN: 161.6374 (+/- 12.0613)\n",
      "\n",
      " SVM: 309.5394 (+/- 36.0402)\n",
      "\n",
      " Searching for the best hyperparametres of XGBoost using hard_grid on 1000 data among : \n",
      "\n",
      "{'tol': [0.001, 0.01, 0.1, 0.3, 1], 'max_depth': [5, 10, 15, 20, 25], 'gamma': [0, 0.1, 0.01, 0.001]} \n",
      "\n",
      "Fitting 3 folds for each of 100 candidates, totalling 300 fits\n"
     ]
    },
    {
     "name": "stderr",
     "output_type": "stream",
     "text": [
      "[Parallel(n_jobs=-1)]: Done  42 tasks      | elapsed:   24.6s\n",
      "[Parallel(n_jobs=-1)]: Done 192 tasks      | elapsed:  1.8min\n",
      "[Parallel(n_jobs=-1)]: Done 300 out of 300 | elapsed:  2.9min finished\n"
     ]
    },
    {
     "name": "stdout",
     "output_type": "stream",
     "text": [
      "\n",
      " In the end, the best estimator is : XGBoost Regressor\n",
      "\n",
      " Using these hyperparametres : {'gamma': 0.1, 'max_depth': 5, 'tol': 0.001}\n",
      "\n",
      " With this neg_mean_absolute_error score : 25.602254532622563\n"
     ]
    }
   ],
   "source": [
    "#%run -i Bestestimator_neg_fixed.py\n",
    "\n",
    "Reg = BestEstimator(type_esti = 'Regressor', hard_grid=True, grid = True)\n",
    "\n",
    "Reg.fit(Reg_Train, Reg_Target, scoring = 'neg_mean_absolute_error',view_nan = True, n = 1000, n_grid = 1000) "
   ]
  },
  {
   "cell_type": "code",
   "execution_count": 31,
   "metadata": {},
   "outputs": [
    {
     "name": "stdout",
     "output_type": "stream",
     "text": [
      "Fitting 5000 datas...\n",
      "5000 datas -> mean_absolute_error = 18.030675542181598 \n",
      "\n",
      "Fitting 15000 datas...\n",
      "15000 datas -> mean_absolute_error = 16.637172858810366 \n",
      "\n",
      "Fitting 25000 datas...\n",
      "25000 datas -> mean_absolute_error = 16.02028123691847 \n",
      "\n",
      "\n",
      " In the end, the best data size is 25000 \n",
      "\n",
      " With this mean_absolute_error : 16.02028123691847\n"
     ]
    }
   ],
   "source": [
    "#Reg.best_size(n=[100,200,300, 1000, 2000, 5000], metric = 'mean_absolute_error')\n",
    "Reg.best_size(n=[2000, 5000, 15000, 25000], metric = 'mean_absolute_error')"
   ]
  },
  {
   "cell_type": "markdown",
   "metadata": {},
   "source": [
    "### All pred methods"
   ]
  },
  {
   "cell_type": "code",
   "execution_count": 32,
   "metadata": {},
   "outputs": [
    {
     "data": {
      "text/html": [
       "<div>\n",
       "<style scoped>\n",
       "    .dataframe tbody tr th:only-of-type {\n",
       "        vertical-align: middle;\n",
       "    }\n",
       "\n",
       "    .dataframe tbody tr th {\n",
       "        vertical-align: top;\n",
       "    }\n",
       "\n",
       "    .dataframe thead th {\n",
       "        text-align: right;\n",
       "    }\n",
       "</style>\n",
       "<table border=\"1\" class=\"dataframe\">\n",
       "  <thead>\n",
       "    <tr style=\"text-align: right;\">\n",
       "      <th></th>\n",
       "      <th>ID</th>\n",
       "      <th>Target</th>\n",
       "    </tr>\n",
       "  </thead>\n",
       "  <tbody>\n",
       "    <tr>\n",
       "      <th>0</th>\n",
       "      <td>1</td>\n",
       "      <td>-0.788595</td>\n",
       "    </tr>\n",
       "    <tr>\n",
       "      <th>1</th>\n",
       "      <td>2</td>\n",
       "      <td>-0.788595</td>\n",
       "    </tr>\n",
       "    <tr>\n",
       "      <th>2</th>\n",
       "      <td>3</td>\n",
       "      <td>-0.788595</td>\n",
       "    </tr>\n",
       "    <tr>\n",
       "      <th>3</th>\n",
       "      <td>4</td>\n",
       "      <td>-0.788595</td>\n",
       "    </tr>\n",
       "    <tr>\n",
       "      <th>4</th>\n",
       "      <td>5</td>\n",
       "      <td>-0.788595</td>\n",
       "    </tr>\n",
       "    <tr>\n",
       "      <th>5</th>\n",
       "      <td>6</td>\n",
       "      <td>-0.397428</td>\n",
       "    </tr>\n",
       "    <tr>\n",
       "      <th>6</th>\n",
       "      <td>7</td>\n",
       "      <td>0.036719</td>\n",
       "    </tr>\n",
       "    <tr>\n",
       "      <th>7</th>\n",
       "      <td>8</td>\n",
       "      <td>0.036719</td>\n",
       "    </tr>\n",
       "    <tr>\n",
       "      <th>8</th>\n",
       "      <td>9</td>\n",
       "      <td>0.036719</td>\n",
       "    </tr>\n",
       "    <tr>\n",
       "      <th>9</th>\n",
       "      <td>10</td>\n",
       "      <td>0.036719</td>\n",
       "    </tr>\n",
       "  </tbody>\n",
       "</table>\n",
       "</div>"
      ],
      "text/plain": [
       "   ID    Target\n",
       "0   1 -0.788595\n",
       "1   2 -0.788595\n",
       "2   3 -0.788595\n",
       "3   4 -0.788595\n",
       "4   5 -0.788595\n",
       "5   6 -0.397428\n",
       "6   7  0.036719\n",
       "7   8  0.036719\n",
       "8   9  0.036719\n",
       "9  10  0.036719"
      ]
     },
     "execution_count": 32,
     "metadata": {},
     "output_type": "execute_result"
    }
   ],
   "source": [
    "Reg.pred(Reg_Train[0:10], ID='ID', refit = True)"
   ]
  },
  {
   "cell_type": "code",
   "execution_count": 33,
   "metadata": {},
   "outputs": [
    {
     "data": {
      "text/html": [
       "<div>\n",
       "<style scoped>\n",
       "    .dataframe tbody tr th:only-of-type {\n",
       "        vertical-align: middle;\n",
       "    }\n",
       "\n",
       "    .dataframe tbody tr th {\n",
       "        vertical-align: top;\n",
       "    }\n",
       "\n",
       "    .dataframe thead th {\n",
       "        text-align: right;\n",
       "    }\n",
       "</style>\n",
       "<table border=\"1\" class=\"dataframe\">\n",
       "  <thead>\n",
       "    <tr style=\"text-align: right;\">\n",
       "      <th></th>\n",
       "      <th>ID</th>\n",
       "      <th>Target</th>\n",
       "    </tr>\n",
       "  </thead>\n",
       "  <tbody>\n",
       "    <tr>\n",
       "      <th>0</th>\n",
       "      <td>1</td>\n",
       "      <td>-0.788595</td>\n",
       "    </tr>\n",
       "    <tr>\n",
       "      <th>1</th>\n",
       "      <td>2</td>\n",
       "      <td>-0.788595</td>\n",
       "    </tr>\n",
       "    <tr>\n",
       "      <th>2</th>\n",
       "      <td>3</td>\n",
       "      <td>-0.788595</td>\n",
       "    </tr>\n",
       "    <tr>\n",
       "      <th>3</th>\n",
       "      <td>4</td>\n",
       "      <td>-0.788595</td>\n",
       "    </tr>\n",
       "    <tr>\n",
       "      <th>4</th>\n",
       "      <td>5</td>\n",
       "      <td>-0.788595</td>\n",
       "    </tr>\n",
       "    <tr>\n",
       "      <th>5</th>\n",
       "      <td>6</td>\n",
       "      <td>-0.397428</td>\n",
       "    </tr>\n",
       "    <tr>\n",
       "      <th>6</th>\n",
       "      <td>7</td>\n",
       "      <td>0.036719</td>\n",
       "    </tr>\n",
       "    <tr>\n",
       "      <th>7</th>\n",
       "      <td>8</td>\n",
       "      <td>0.036719</td>\n",
       "    </tr>\n",
       "    <tr>\n",
       "      <th>8</th>\n",
       "      <td>9</td>\n",
       "      <td>0.036719</td>\n",
       "    </tr>\n",
       "    <tr>\n",
       "      <th>9</th>\n",
       "      <td>10</td>\n",
       "      <td>0.036719</td>\n",
       "    </tr>\n",
       "  </tbody>\n",
       "</table>\n",
       "</div>"
      ],
      "text/plain": [
       "   ID    Target\n",
       "0   1 -0.788595\n",
       "1   2 -0.788595\n",
       "2   3 -0.788595\n",
       "3   4 -0.788595\n",
       "4   5 -0.788595\n",
       "5   6 -0.397428\n",
       "6   7  0.036719\n",
       "7   8  0.036719\n",
       "8   9  0.036719\n",
       "9  10  0.036719"
      ]
     },
     "execution_count": 33,
     "metadata": {},
     "output_type": "execute_result"
    }
   ],
   "source": [
    "Reg.pred_grid(Reg_Train[0:10], ID='ID')"
   ]
  },
  {
   "cell_type": "markdown",
   "metadata": {},
   "source": [
    "### Bagg_fit method"
   ]
  },
  {
   "cell_type": "code",
   "execution_count": 34,
   "metadata": {},
   "outputs": [
    {
     "name": "stdout",
     "output_type": "stream",
     "text": [
      "Fitting 3 folds for each of 8 candidates, totalling 24 fits\n"
     ]
    },
    {
     "name": "stderr",
     "output_type": "stream",
     "text": [
      "[Parallel(n_jobs=-1)]: Done  24 out of  24 | elapsed:   12.4s finished\n"
     ]
    },
    {
     "name": "stdout",
     "output_type": "stream",
     "text": [
      "\n",
      " Best hyperparametres : {'eta': 0.001, 'gamma': 0.1, 'max_depth': 10}\n",
      "\n",
      " Giving this mean_absolute_error score : 0.3399626792472564\n"
     ]
    }
   ],
   "source": [
    "Reg.custom_grid(Reg_Train, Reg_Target, ID='ID', target_ID=True, n=1000, metric='mean_absolute_error', \n",
    "                params = {'eta': [0.001, .01],\n",
    "                              'max_depth': [5, 10],\n",
    "                              'gamma': [0, .1]}\n",
    ", cv=3, DF=None, value=0)"
   ]
  },
  {
   "cell_type": "code",
   "execution_count": 35,
   "metadata": {},
   "outputs": [
    {
     "name": "stdout",
     "output_type": "stream",
     "text": [
      "Fitting 3 folds for each of 3 candidates, totalling 9 fits\n"
     ]
    },
    {
     "name": "stderr",
     "output_type": "stream",
     "text": [
      "[Parallel(n_jobs=-1)]: Done   9 out of   9 | elapsed:   42.3s finished\n"
     ]
    },
    {
     "name": "stdout",
     "output_type": "stream",
     "text": [
      "\n",
      " Best hyperparametres : {'n_estimators': 10}\n",
      "\n",
      " Giving this mean_absolute_error score : 0.4253485027281567\n"
     ]
    }
   ],
   "source": [
    "Reg.Bagg_fit(Reg_Train, Reg_Target, n_estimators = [10,20,30],\n",
    "                 cv = 3, value = 0, ID = 'ID', metric = 'mean_absolute_error')"
   ]
  },
  {
   "cell_type": "code",
   "execution_count": null,
   "metadata": {},
   "outputs": [],
   "source": []
  },
  {
   "cell_type": "code",
   "execution_count": null,
   "metadata": {},
   "outputs": [],
   "source": []
  },
  {
   "cell_type": "markdown",
   "metadata": {},
   "source": [
    "# Tests indépendants"
   ]
  },
  {
   "cell_type": "code",
   "execution_count": 16,
   "metadata": {},
   "outputs": [],
   "source": [
    "Multi = BestEstimator(hard_grid=False)\n",
    "Bin = BestEstimator(type_esti = 'Classifier', grid = False)\n",
    "#Multi.fit(Multi_Train, Multi_Target, scoring = 'accuracy') "
   ]
  },
  {
   "cell_type": "code",
   "execution_count": 17,
   "metadata": {},
   "outputs": [
    {
     "name": "stdout",
     "output_type": "stream",
     "text": [
      "Missing Values :\n",
      "\n",
      "                            Total         %\n",
      "1_diffClosing stocks(kmt)     261  2.569151\n",
      "2_diffClosing stocks(kmt)     257  2.529777\n",
      "3_diffClosing stocks(kmt)     253  2.490403\n",
      "4_diffClosing stocks(kmt)     249  2.451029\n",
      "5_diffClosing stocks(kmt)     245  2.411655\n",
      "6_diffClosing stocks(kmt)     241  2.372281\n",
      "7_diffClosing stocks(kmt)     238  2.342750\n",
      "8_diffClosing stocks(kmt)     235  2.313220\n",
      "9_diffClosing stocks(kmt)     232  2.283689\n",
      "10_diffClosing stocks(kmt)    228  2.244315\n",
      "11_diffClosing stocks(kmt)    224  2.204941\n",
      "12_diffClosing stocks(kmt)    220  2.165567\n",
      "1_diffImports(kmt)            151  1.486367\n",
      "2_diffImports(kmt)            148  1.456836\n",
      "3_diffImports(kmt)            145  1.427306\n",
      "4_diffImports(kmt)            142  1.397775\n",
      "5_diffImports(kmt)            139  1.368245\n",
      "6_diffImports(kmt)            136  1.338714\n",
      "7_diffImports(kmt)            133  1.309184\n",
      "8_diffImports(kmt)            130  1.279654\n",
      "9_diffImports(kmt)            127  1.250123\n",
      "10_diffImports(kmt)           124  1.220593\n",
      "11_diffImports(kmt)           121  1.191062\n",
      "12_diffImports(kmt)           118  1.161532 \n",
      "\n",
      "Missing values filled by 0 \n",
      "\n",
      "Searching for the best Classifier on 1000 datas using roc_auc loss... \n",
      "\n",
      "\n",
      " Bagging: 0.6925 (+/- 0.0388)\n",
      "\n",
      " Gradient Boosting: 0.7205 (+/- 0.0248)\n",
      "\n",
      " XGBoost: 0.7121 (+/- 0.0225)\n",
      "\n",
      " Random Forest: 0.7293 (+/- 0.0439)\n",
      "\n",
      " Decision Tree: 0.6165 (+/- 0.0341)\n",
      "\n",
      " Extra Tree: 0.6700 (+/- 0.0103)\n",
      "\n",
      " KNN: 0.6367 (+/- 0.0594)\n",
      "\n",
      " SVM: 0.5040 (+/- 0.0054)\n",
      "\n",
      " Best Classifier : Random Forest\n"
     ]
    }
   ],
   "source": [
    "Bin.fit(Bin_Train, Bin_Target)"
   ]
  },
  {
   "cell_type": "code",
   "execution_count": 20,
   "metadata": {},
   "outputs": [],
   "source": [
    "Bin_Train_plus = Bin_Train[Bin_Target['Target'] == '+']\n",
    "Bin_Target_plus = Bin_Target[Bin_Target['Target'] == '+']"
   ]
  },
  {
   "cell_type": "code",
   "execution_count": 21,
   "metadata": {},
   "outputs": [],
   "source": [
    "Bin_Train_moins = Bin_Train[Bin_Target['Target'] == '-']\n",
    "Bin_Target_moins= Bin_Target[Bin_Target['Target'] == '-']"
   ]
  },
  {
   "cell_type": "code",
   "execution_count": 27,
   "metadata": {},
   "outputs": [
    {
     "data": {
      "text/plain": [
       "(6644, 123)"
      ]
     },
     "execution_count": 27,
     "metadata": {},
     "output_type": "execute_result"
    }
   ],
   "source": [
    "Bin_Train_moins.shape"
   ]
  },
  {
   "cell_type": "code",
   "execution_count": 28,
   "metadata": {},
   "outputs": [],
   "source": [
    "Tr = [Bin_Train_plus[0:500], Bin_Train_moins[0:500]]\n",
    "tar = [Bin_Target_plus[0:500], Bin_Target_moins[0:500]]\n",
    "\n",
    "Train = pd.concat(Tr)\n",
    "Target = pd.concat(tar)"
   ]
  },
  {
   "cell_type": "code",
   "execution_count": 33,
   "metadata": {},
   "outputs": [
    {
     "data": {
      "text/plain": [
       "RandomForestClassifier(bootstrap=True, class_weight=None, criterion='gini',\n",
       "            max_depth=None, max_features='auto', max_leaf_nodes=None,\n",
       "            min_impurity_decrease=0.0, min_impurity_split=None,\n",
       "            min_samples_leaf=1, min_samples_split=2,\n",
       "            min_weight_fraction_leaf=0.0, n_estimators=10, n_jobs=1,\n",
       "            oob_score=False, random_state=0, verbose=0, warm_start=False)"
      ]
     },
     "execution_count": 33,
     "metadata": {},
     "output_type": "execute_result"
    }
   ],
   "source": [
    "n = 1000\n",
    "\n",
    "clf = RandomForestClassifier(random_state = 0)\n",
    "clf.fit(Bin.Transform(Train[0:n]), Target['Target'][0:n])\n",
    "\n",
    "clf2 = RandomForestClassifier(random_state = 0)\n",
    "clf2.fit(Bin.Transform(Bin_Train[0:n]), Bin_Target['Target'][0:n])"
   ]
  },
  {
   "cell_type": "code",
   "execution_count": 35,
   "metadata": {},
   "outputs": [],
   "source": [
    "topred = Bin.Transform(Bin_Train[0:n])\n",
    "\n",
    "predict = clf.predict(topred)\n",
    "predict2 = clf2.predict(topred)"
   ]
  },
  {
   "cell_type": "code",
   "execution_count": 42,
   "metadata": {},
   "outputs": [],
   "source": [
    "Trur = Bin_Target['Target'][0:n]\n",
    "\n",
    "predict11 = [1]*n\n",
    "predict22 = [1]*n\n",
    "Truu = [1]*n\n",
    "\n",
    "for i in range(n):\n",
    "    if predict[i] == \"-\":\n",
    "        predict11[i] =0\n",
    "        \n",
    "for i in range(n):\n",
    "    if predict2[i] == \"-\":\n",
    "        predict22[i] =0\n",
    "        \n",
    "for i in range(n):\n",
    "    if Trur[i] == \"-\":\n",
    "        Truu[i] =0\n",
    "\n"
   ]
  },
  {
   "cell_type": "code",
   "execution_count": 134,
   "metadata": {},
   "outputs": [],
   "source": [
    "from sklearn.model_selection import train_test_split\n",
    "\n",
    "\n",
    "Train, Test, Target_TR, Target_TE = train_test_split(Multi_Train,Multi_Target)\n",
    "\n",
    "%run -i FeatureEngineering.py\n",
    "\n",
    "Train.fillna(0, inplace = True)\n",
    "test = FeatureEngineering(Train)"
   ]
  },
  {
   "cell_type": "code",
   "execution_count": 135,
   "metadata": {},
   "outputs": [
    {
     "ename": "AttributeError",
     "evalue": "'FeatureEngineering' object has no attribute 'get_corr'",
     "output_type": "error",
     "traceback": [
      "\u001b[1;31m---------------------------------------------------------------------------\u001b[0m",
      "\u001b[1;31mAttributeError\u001b[0m                            Traceback (most recent call last)",
      "\u001b[1;32m~\\OneDrive - Capgemini\\GitHub\\Pipeline\\FeatureEngineering.py\u001b[0m in \u001b[0;36m<module>\u001b[1;34m\u001b[0m\n\u001b[1;32m----> 1\u001b[1;33m \u001b[0mtest\u001b[0m\u001b[1;33m.\u001b[0m\u001b[0mget_corr\u001b[0m\u001b[1;33m(\u001b[0m\u001b[0mTrain\u001b[0m\u001b[1;33m,\u001b[0m \u001b[0mTarget\u001b[0m\u001b[1;33m)\u001b[0m\u001b[1;33m\u001b[0m\u001b[1;33m\u001b[0m\u001b[0m\n\u001b[0m",
      "\u001b[1;31mAttributeError\u001b[0m: 'FeatureEngineering' object has no attribute 'get_corr'"
     ]
    }
   ],
   "source": [
    "test.get_corr(Train, Target)"
   ]
  },
  {
   "cell_type": "code",
   "execution_count": 80,
   "metadata": {
    "scrolled": true
   },
   "outputs": [
    {
     "name": "stdout",
     "output_type": "stream",
     "text": [
      "\n",
      " SHIPPING_MODE : \n",
      " \n",
      " ['NORMAL' 'MONDIAL_RELAY_PREPAYE' 'RECOMMANDE' 'SUIVI' 'MONDIAL_RELAY'\n",
      " 'SO_RECOMMANDE' 'EXPRESS_DELIVERY' 'SO_POINT_RELAIS' 'CHRONOPOST'\n",
      " 'PICKUP' 0 'Kiala'] \n",
      "\n",
      "\n",
      " WARRANTIES_FLG : \n",
      " \n",
      " [False  True] \n",
      "\n",
      "\n",
      " WARRANTIES_PRICE : \n",
      " \n",
      " [0 '<5' '5<20' '20<50' '50<100' '100<500'] \n",
      "\n",
      "\n",
      " PRICECLUB_STATUS : \n",
      " \n",
      " ['UNSUBSCRIBED' 'REGULAR' 'GOLD' 'PLATINUM' 'SILVER' 0] \n",
      "\n",
      "\n",
      " PURCHASE_COUNT : \n",
      " \n",
      " ['100<500' '5<20' '20<50' '<5' '50<100' '>500'] \n",
      "\n",
      "\n",
      " BUYING_DATE : \n",
      " \n",
      " ['2/2017' '3/2017' '9/2017' '4/2017' '7/2017' '6/2017' '10/2017' '1/2017'\n",
      " '5/2017' '8/2017'] \n",
      "\n",
      "\n",
      " SELLER_SCORE_COUNT : \n",
      " \n",
      " ['10000<100000' '1000<10000' '100<1000' '<100' '100000<1000000' 0] \n",
      "\n",
      "\n",
      " SELLER_COUNTRY : \n",
      " \n",
      " ['HONG KONG' 'FRANCE, METROPOLITAN' 'CHINA' 'SPAIN' 'GERMANY'\n",
      " 'UNITED KINGDOM' 'ITALY' 'UNITED STATES' 'SWITZERLAND' 'JAPAN' 'ANDORRA'\n",
      " 'NETHERLANDS' 'ISRAEL' 'BELGIUM' 'IRELAND' 'BULGARIA' 'POLAND'\n",
      " 'LUXEMBOURG' 'PORTUGAL' 'AUSTRIA' 'LITHUANIA' 'SINGAPORE' 'LIECHTENSTEIN'\n",
      " 'CANADA' 'MARTINIQUE' 'GUYANA' 'SLOVAKIA (Slovak Republic)' 'MALAYSIA'\n",
      " 'ESTONIA' 'LATVIA' 'SWEDEN' 'JERSEY' 'GIBRALTAR' 'GREECE' 'SLOVENIA'\n",
      " 'VATICAN CITY STATE (HOLY SEE)' 'ROMANIA' 'MALTA'] \n",
      "\n",
      "\n",
      " PRODUCT_TYPE : \n",
      " \n",
      " ['CELLPHONE_ACCESSORY' 'MAGAZINE' 'TOYS' 'CONSUMABLE' 'PERIPHERAL'\n",
      " 'COMPONENT' 'ACCESSOIRE_ANIMALERIE' 'SHOES' 'SONO_STUDIO' 'VIDEO' 'BOOKS'\n",
      " 'GAMES' 'BRICOLAGE' 'LOISIRS CREATIFS' 'E-LIQUIDS' 'GARDEN_TOOLS'\n",
      " 'COSMETIC' 'AUDIO VIDEO ACCESSORIES' 'CELLPHONE' 'TABLE_GAMES'\n",
      " 'WEARABLE ELECTRONICS' 'FURNITURE' 'VIDEO GAMES ACCESSORY' 'VINYL'\n",
      " 'FOURNITURES PAPETERIE' 'HEADPHONES/MICROPHONES' 'CLOTHES'\n",
      " 'GARDEN_FURNITURE' 'AIRSOFT-PAINTBALL' 'COLLECTION' 'GPS'\n",
      " 'SATELLITE AND TNT' 'VIDEO LOT' 'CD' 'APPLIANCES ACCESSORIES'\n",
      " 'TABLE AND KITCHEN' 'ELECTRONIC CIGARETTE' 'FIGURINES' 'SPORTING_GOOD'\n",
      " 'AUTO ACCESSORY' 'CHILDREN' 'OUTDOOR_TOYS' 'NETWORK' 'DECORATION'\n",
      " 'BODYCARE' 'LINGE_MAISON' 'SEXTOYS' 'HOUSEKEEPING' 'CAMCORDER'\n",
      " 'PLAY CARDS' 'SAC_BAGAGERIE' 'WATCH' 'REPRODUCTIONS ARTISTIQUES'\n",
      " 'GASTRONOMIE' 'LAPTOP' 'SWIMMING_POOL' 'BREAKFAST' 'PHONE' 'DISK DRIVES'\n",
      " 'HEATING' 'INSTRUMENT' 'JEWELS_DECLINATION' 'HARD DRIVES'\n",
      " 'K7 MD RECORDER' 'PDA' 'SCREEN' 'LENS' 'DEGUISEMENT' 'BOARD GAMES'\n",
      " 'UPS & POWER DEVICES' 'SONG_BOOKS' 'DESKTOP' 'TIRE' 'SMALLROBOTS'\n",
      " 'SERVICES PRICEMINISTER' 'MEMORY ADAPTERS' 'CONSOLE' 'CAMERA' 'STORAGE'\n",
      " 'RAM' 'COOKING' 'ROLE PLAYING GAMES' 'ACCESSOIRE_CYCLE_CYCLOMOTEUR'\n",
      " 'SOFTWARE' 'TV' 'TURN TABLE' 'ROBOTS' 'PORTABLE_AUDIO' 'PEINTURE'\n",
      " 'VIDEO CARDS' 'SPEAKER' 'DVD_PLAYER' 'MODEL' 'INSOLITE' 'OEUVREUNIQUE'\n",
      " 'BOISSON' 'SYSTEM ACCESSORIES' 'BOOKS LOT' 'PRINTER' 'WASHING'\n",
      " 'PHOTO_ARGENTIQUE' 'NUMISMATIQUE' 'VIDEO GAMES LOT' 'PROJECTOR' 'TAPIS'\n",
      " 'HIFI SYSTEM' 'SCANNER' 'VOD' 'FILTER' 'PLANT' 'MOTHERBOARDS'\n",
      " 'PROCESSOR UPGRADES' 'RADIO TUNER' 'FROST' 'DIGITAL GAMES AND SOFWARES'\n",
      " 'SONORISATION _AUTOMOBILE' 'VHS_PLAYER' 'SUPPORTS_AUDIO_VIDEO'\n",
      " 'CALCULATOR' 'FLASH' 'SYSTEM CABINETS' 'SOUND CARDS'\n",
      " 'MATERIEL_PUBLICITAIRE' 'CD PLAYER & CD RECORDER' 'RADIO RECEPTOR'\n",
      " 'CLOTHES LOT' 'AMPLIFICATOR' 'BINOCULARS' 'SHOES ACCESSORIES' 'SEWING'\n",
      " 'TELESCOPE' 'DON ASSOCIATION' 'MILITARIA' 'MUSIC LOT' 'CYCLE'\n",
      " 'AUTORADIOS'] \n",
      "\n",
      "\n",
      " PRODUCT_FAMILY : \n",
      " \n",
      " ['ELECTRONICS' 'BOOKS' 'BABY' 'COMPUTER' 'WHITE' 'CLOTHING' 'HIFI' 'VIDEO'\n",
      " 'GAMES' 'SPORT' 'MUSIC' 'WINE'] \n",
      "\n",
      "\n",
      " ITEM_PRICE : \n",
      " \n",
      " ['<10' '20<50' '100<500' '10<20' '50<100' '500<1000' '1000<5000'] \n",
      "\n"
     ]
    }
   ],
   "source": [
    "test.Unique(Data_base = False)"
   ]
  },
  {
   "cell_type": "code",
   "execution_count": 132,
   "metadata": {},
   "outputs": [
    {
     "ename": "NameError",
     "evalue": "name 'Train' is not defined",
     "output_type": "error",
     "traceback": [
      "\u001b[1;31m---------------------------------------------------------------------------\u001b[0m",
      "\u001b[1;31mNameError\u001b[0m                                 Traceback (most recent call last)",
      "\u001b[1;32m~\\OneDrive - Capgemini\\GitHub\\Pipeline\\FeatureEngineering.py\u001b[0m in \u001b[0;36m<module>\u001b[1;34m\u001b[0m\n\u001b[0;32m      1\u001b[0m \u001b[0mget_ipython\u001b[0m\u001b[1;33m(\u001b[0m\u001b[1;33m)\u001b[0m\u001b[1;33m.\u001b[0m\u001b[0mrun_line_magic\u001b[0m\u001b[1;33m(\u001b[0m\u001b[1;34m'run'\u001b[0m\u001b[1;33m,\u001b[0m \u001b[1;34m'-i FeatureEngineering.py'\u001b[0m\u001b[1;33m)\u001b[0m\u001b[1;33m\u001b[0m\u001b[1;33m\u001b[0m\u001b[0m\n\u001b[0;32m      2\u001b[0m \u001b[1;33m\u001b[0m\u001b[0m\n\u001b[1;32m----> 3\u001b[1;33m \u001b[0mTrain\u001b[0m\u001b[1;33m.\u001b[0m\u001b[0mfillna\u001b[0m\u001b[1;33m(\u001b[0m\u001b[1;36m0\u001b[0m\u001b[1;33m,\u001b[0m \u001b[0minplace\u001b[0m \u001b[1;33m=\u001b[0m \u001b[1;32mTrue\u001b[0m\u001b[1;33m)\u001b[0m\u001b[1;33m\u001b[0m\u001b[1;33m\u001b[0m\u001b[0m\n\u001b[0m\u001b[0;32m      4\u001b[0m \u001b[0mtest\u001b[0m \u001b[1;33m=\u001b[0m \u001b[0mFeatureEngineering\u001b[0m\u001b[1;33m(\u001b[0m\u001b[0mTrain\u001b[0m\u001b[1;33m[\u001b[0m\u001b[1;36m0\u001b[0m\u001b[1;33m:\u001b[0m\u001b[1;36m5000\u001b[0m\u001b[1;33m]\u001b[0m\u001b[1;33m)\u001b[0m\u001b[1;33m\u001b[0m\u001b[1;33m\u001b[0m\u001b[0m\n\u001b[0;32m      5\u001b[0m \u001b[1;33m\u001b[0m\u001b[0m\n",
      "\u001b[1;31mNameError\u001b[0m: name 'Train' is not defined"
     ]
    }
   ],
   "source": [
    "%run -i FeatureEngineering.py\n",
    "\n",
    "Train.fillna(0, inplace = True)\n",
    "test = FeatureEngineering(Train[0:5000])\n",
    "\n",
    "\n",
    "import time\n",
    "start = time.time()\n",
    "\n",
    "#DF = test.To_numeric_freq()\n",
    "\n",
    "end = time.time()\n",
    "print(end - start)\n",
    "\n",
    "\n",
    "\n",
    "\n"
   ]
  },
  {
   "cell_type": "code",
   "execution_count": 120,
   "metadata": {},
   "outputs": [
    {
     "ename": "NameError",
     "evalue": "name 'Train' is not defined",
     "output_type": "error",
     "traceback": [
      "\u001b[1;31m---------------------------------------------------------------------------\u001b[0m",
      "\u001b[1;31mNameError\u001b[0m                                 Traceback (most recent call last)",
      "\u001b[1;32m~\\OneDrive - Capgemini\\Pipeline\\FeatureEngineering.py\u001b[0m in \u001b[0;36m<module>\u001b[1;34m\u001b[0m\n\u001b[0;32m      1\u001b[0m \u001b[0mget_ipython\u001b[0m\u001b[1;33m(\u001b[0m\u001b[1;33m)\u001b[0m\u001b[1;33m.\u001b[0m\u001b[0mrun_line_magic\u001b[0m\u001b[1;33m(\u001b[0m\u001b[1;34m'run'\u001b[0m\u001b[1;33m,\u001b[0m \u001b[1;34m'-i FeatureEngineering.py'\u001b[0m\u001b[1;33m)\u001b[0m\u001b[1;33m\u001b[0m\u001b[1;33m\u001b[0m\u001b[0m\n\u001b[0;32m      2\u001b[0m \u001b[1;33m\u001b[0m\u001b[0m\n\u001b[1;32m----> 3\u001b[1;33m \u001b[0mTrain\u001b[0m\u001b[1;33m.\u001b[0m\u001b[0mfillna\u001b[0m\u001b[1;33m(\u001b[0m\u001b[1;36m0\u001b[0m\u001b[1;33m,\u001b[0m \u001b[0minplace\u001b[0m \u001b[1;33m=\u001b[0m \u001b[1;32mTrue\u001b[0m\u001b[1;33m)\u001b[0m\u001b[1;33m\u001b[0m\u001b[1;33m\u001b[0m\u001b[0m\n\u001b[0m\u001b[0;32m      4\u001b[0m \u001b[0mtest\u001b[0m \u001b[1;33m=\u001b[0m \u001b[0mFeatureEngineering\u001b[0m\u001b[1;33m(\u001b[0m\u001b[0mTrain\u001b[0m\u001b[1;33m[\u001b[0m\u001b[1;36m0\u001b[0m\u001b[1;33m:\u001b[0m\u001b[1;36m100\u001b[0m\u001b[1;33m]\u001b[0m\u001b[1;33m)\u001b[0m\u001b[1;33m\u001b[0m\u001b[1;33m\u001b[0m\u001b[0m\n\u001b[0;32m      5\u001b[0m \u001b[1;33m\u001b[0m\u001b[0m\n",
      "\u001b[1;31mNameError\u001b[0m: name 'Train' is not defined"
     ]
    }
   ],
   "source": [
    "%run -i FeatureEngineering.py\n",
    "\n",
    "Train.fillna(0, inplace = True)\n",
    "test = FeatureEngineering(Train[0:100])\n",
    "\n",
    "test.To_numeric_freq(columns = ['PRICECLUB_STATUS'])"
   ]
  },
  {
   "cell_type": "code",
   "execution_count": 116,
   "metadata": {},
   "outputs": [
    {
     "data": {
      "text/plain": [
       "{'SHIPPING_MODE': array(['NORMAL', 'RECOMMANDE', 'MONDIAL_RELAY', 'SUIVI',\n",
       "        'SO_POINT_RELAIS', 'MONDIAL_RELAY_PREPAYE', 'SO_RECOMMANDE'],\n",
       "       dtype=object),\n",
       " 'PRICECLUB_STATUS': array(['UNSUBSCRIBED', 'PLATINUM', 'REGULAR', 'GOLD', 'SILVER', 0],\n",
       "       dtype=object)}"
      ]
     },
     "execution_count": 116,
     "metadata": {},
     "output_type": "execute_result"
    }
   ],
   "source": [
    "test.Dict"
   ]
  },
  {
   "cell_type": "code",
   "execution_count": 243,
   "metadata": {},
   "outputs": [
    {
     "data": {
      "text/plain": [
       "array(['NORMAL', 'SUIVI', 'RECOMMANDE', 'MONDIAL_RELAY',\n",
       "       'MONDIAL_RELAY_PREPAYE', 'SO_POINT_RELAIS', 'SO_RECOMMANDE', nan,\n",
       "       'CHRONOPOST', 'EXPRESS_DELIVERY', 'PICKUP', 'Kiala'], dtype=object)"
      ]
     },
     "execution_count": 243,
     "metadata": {},
     "output_type": "execute_result"
    }
   ],
   "source": [
    "Dict['SHIPPING_MODE']"
   ]
  },
  {
   "cell_type": "code",
   "execution_count": 136,
   "metadata": {},
   "outputs": [
    {
     "name": "stdout",
     "output_type": "stream",
     "text": [
      "SHIPPING_MODE\n",
      "SHIPPING_PRICE\n",
      "WARRANTIES_PRICE\n",
      "PRICECLUB_STATUS\n",
      "PURCHASE_COUNT\n",
      "BUYING_DATE\n",
      "SELLER_SCORE_COUNT\n",
      "SELLER_COUNTRY\n",
      "PRODUCT_TYPE\n",
      "PRODUCT_FAMILY\n",
      "ITEM_PRICE\n"
     ]
    }
   ],
   "source": [
    "for i in Dict.keys():\n",
    "    #print(Dict[i])\n",
    "    print(i)"
   ]
  },
  {
   "cell_type": "code",
   "execution_count": 207,
   "metadata": {},
   "outputs": [
    {
     "data": {
      "text/plain": [
       "11"
      ]
     },
     "execution_count": 207,
     "metadata": {},
     "output_type": "execute_result"
    }
   ],
   "source": [
    "len(Dict)"
   ]
  },
  {
   "cell_type": "code",
   "execution_count": 142,
   "metadata": {},
   "outputs": [],
   "source": [
    "df = Train['SHIPPING_MODE'].value_counts(normalize = True)"
   ]
  },
  {
   "cell_type": "code",
   "execution_count": 182,
   "metadata": {},
   "outputs": [
    {
     "data": {
      "text/plain": [
       "NORMAL                   0.668709\n",
       "RECOMMANDE               0.185724\n",
       "SUIVI                    0.069412\n",
       "MONDIAL_RELAY            0.022500\n",
       "SO_POINT_RELAIS          0.021657\n",
       "MONDIAL_RELAY_PREPAYE    0.017684\n",
       "SO_RECOMMANDE            0.007946\n",
       "EXPRESS_DELIVERY         0.003853\n",
       "CHRONOPOST               0.001471\n",
       "PICKUP                   0.001017\n",
       "Kiala                    0.000027\n",
       "Name: SHIPPING_MODE, dtype: float64"
      ]
     },
     "execution_count": 182,
     "metadata": {},
     "output_type": "execute_result"
    }
   ],
   "source": [
    "df"
   ]
  },
  {
   "cell_type": "code",
   "execution_count": 3,
   "metadata": {},
   "outputs": [],
   "source": [
    "%run -i BestEstimator.py\n",
    "clf1 = BestEstimator(grid = False, hard_grid = True)"
   ]
  },
  {
   "cell_type": "code",
   "execution_count": 4,
   "metadata": {},
   "outputs": [
    {
     "name": "stderr",
     "output_type": "stream",
     "text": [
      "C:\\Users\\jecombe\\AppData\\Local\\Continuum\\anaconda3\\lib\\site-packages\\sklearn\\ensemble\\forest.py:246: FutureWarning: The default value of n_estimators will change from 10 in version 0.20 to 100 in 0.22.\n",
      "  \"10 in version 0.20 to 100 in 0.22.\", FutureWarning)\n"
     ]
    },
    {
     "data": {
      "image/png": "[encoded data removed]",
      "text/plain": [
       "<Figure size 1440x1080 with 1 Axes>"
      ]
     },
     "metadata": {
      "needs_background": "light"
     },
     "output_type": "display_data"
    }
   ],
   "source": [
    "clf = RandomForestClassifier()\n",
    "clf1 = BestEstimator(grid = False, hard_grid = True)\n",
    "\n",
    "clf1.Feature_Importances_Tree(Multi_Train[0:100], Multi_Target[0:100], ID = 'ID', value = 0, nb_features = 10)"
   ]
  },
  {
   "cell_type": "code",
   "execution_count": 28,
   "metadata": {},
   "outputs": [
    {
     "data": {
      "image/png": "[encoded data removed]",
      "text/plain": [
       "<Figure size 1440x1080 with 2 Axes>"
      ]
     },
     "metadata": {
      "needs_background": "light"
     },
     "output_type": "display_data"
    }
   ],
   "source": [
    "clf1.corr_mat(Reg_Train, Reg_Target, ID = 'ID', n = 1000, n_pairs = 8)"
   ]
  },
  {
   "cell_type": "code",
   "execution_count": 35,
   "metadata": {},
   "outputs": [
    {
     "name": "stderr",
     "output_type": "stream",
     "text": [
      "C:\\Users\\jecombe\\AppData\\Local\\Continuum\\anaconda3\\lib\\site-packages\\sklearn\\ensemble\\forest.py:246: FutureWarning: The default value of n_estimators will change from 10 in version 0.20 to 100 in 0.22.\n",
      "  \"10 in version 0.20 to 100 in 0.22.\", FutureWarning)\n"
     ]
    },
    {
     "data": {
      "image/png": "[encoded data removed]",
      "text/plain": [
       "<Figure size 1440x1080 with 1 Axes>"
      ]
     },
     "metadata": {
      "needs_background": "light"
     },
     "output_type": "display_data"
    }
   ],
   "source": [
    "clf = ExtraTreesRegressor()\n",
    "clf1 = BestEstimator(grid = False, hard_grid = True)\n",
    "\n",
    "clf1.Feature_Importances_Tree(clf, Reg_Train[0:100], Reg_Target[0:100], ID = 'ID', value = 0, nb_features = 10)"
   ]
  },
  {
   "cell_type": "code",
   "execution_count": 32,
   "metadata": {},
   "outputs": [
    {
     "data": {
      "image/png": "[encoded data removed]",
      "text/plain": [
       "<Figure size 1440x1080 with 2 Axes>"
      ]
     },
     "metadata": {
      "needs_background": "light"
     },
     "output_type": "display_data"
    }
   ],
   "source": [
    "clf1.corr_mat(Multi_Train, Multi_Target, ID = 'ID', n = 1000, n_pairs = 8)"
   ]
  },
  {
   "cell_type": "code",
   "execution_count": 9,
   "metadata": {},
   "outputs": [
    {
     "data": {
      "text/html": [
       "<div>\n",
       "<style scoped>\n",
       "    .dataframe tbody tr th:only-of-type {\n",
       "        vertical-align: middle;\n",
       "    }\n",
       "\n",
       "    .dataframe tbody tr th {\n",
       "        vertical-align: top;\n",
       "    }\n",
       "\n",
       "    .dataframe thead th {\n",
       "        text-align: right;\n",
       "    }\n",
       "</style>\n",
       "<table border=\"1\" class=\"dataframe\">\n",
       "  <thead>\n",
       "    <tr style=\"text-align: right;\">\n",
       "      <th></th>\n",
       "      <th>Features</th>\n",
       "      <th>f_classif</th>\n",
       "    </tr>\n",
       "  </thead>\n",
       "  <tbody>\n",
       "    <tr>\n",
       "      <th>0</th>\n",
       "      <td>SELLER_COUNTRY</td>\n",
       "      <td>2.338931</td>\n",
       "    </tr>\n",
       "    <tr>\n",
       "      <th>1</th>\n",
       "      <td>SELLER_SCORE_AVERAGE</td>\n",
       "      <td>2.193988</td>\n",
       "    </tr>\n",
       "    <tr>\n",
       "      <th>2</th>\n",
       "      <td>ITEM_PRICE</td>\n",
       "      <td>1.890710</td>\n",
       "    </tr>\n",
       "    <tr>\n",
       "      <th>3</th>\n",
       "      <td>BUYING_DATE</td>\n",
       "      <td>1.694069</td>\n",
       "    </tr>\n",
       "    <tr>\n",
       "      <th>4</th>\n",
       "      <td>WARRANTIES_PRICE</td>\n",
       "      <td>1.326646</td>\n",
       "    </tr>\n",
       "    <tr>\n",
       "      <th>5</th>\n",
       "      <td>SELLER_SCORE_COUNT</td>\n",
       "      <td>1.280663</td>\n",
       "    </tr>\n",
       "    <tr>\n",
       "      <th>6</th>\n",
       "      <td>PURCHASE_COUNT</td>\n",
       "      <td>1.198512</td>\n",
       "    </tr>\n",
       "    <tr>\n",
       "      <th>7</th>\n",
       "      <td>WARRANTIES_FLG</td>\n",
       "      <td>1.165600</td>\n",
       "    </tr>\n",
       "    <tr>\n",
       "      <th>8</th>\n",
       "      <td>BUYER_DEPARTMENT</td>\n",
       "      <td>1.108469</td>\n",
       "    </tr>\n",
       "    <tr>\n",
       "      <th>9</th>\n",
       "      <td>REGISTRATION_DATE</td>\n",
       "      <td>0.938583</td>\n",
       "    </tr>\n",
       "    <tr>\n",
       "      <th>10</th>\n",
       "      <td>COUPON_PAYMENT</td>\n",
       "      <td>0.929517</td>\n",
       "    </tr>\n",
       "    <tr>\n",
       "      <th>11</th>\n",
       "      <td>PRODUCT_TYPE</td>\n",
       "      <td>0.760115</td>\n",
       "    </tr>\n",
       "    <tr>\n",
       "      <th>12</th>\n",
       "      <td>WALLET_PAYMENT</td>\n",
       "      <td>0.747125</td>\n",
       "    </tr>\n",
       "    <tr>\n",
       "      <th>13</th>\n",
       "      <td>SELLER_DEPARTMENT</td>\n",
       "      <td>0.743424</td>\n",
       "    </tr>\n",
       "    <tr>\n",
       "      <th>14</th>\n",
       "      <td>RSP_PAYMENT</td>\n",
       "      <td>0.709200</td>\n",
       "    </tr>\n",
       "    <tr>\n",
       "      <th>15</th>\n",
       "      <td>CARD_PAYMENT</td>\n",
       "      <td>0.571894</td>\n",
       "    </tr>\n",
       "    <tr>\n",
       "      <th>16</th>\n",
       "      <td>SHIPPING_PRICE</td>\n",
       "      <td>0.526489</td>\n",
       "    </tr>\n",
       "    <tr>\n",
       "      <th>17</th>\n",
       "      <td>BUYER_BIRTHDAY_DATE</td>\n",
       "      <td>0.448571</td>\n",
       "    </tr>\n",
       "    <tr>\n",
       "      <th>18</th>\n",
       "      <td>PRICECLUB_STATUS</td>\n",
       "      <td>0.438738</td>\n",
       "    </tr>\n",
       "    <tr>\n",
       "      <th>19</th>\n",
       "      <td>SHIPPING_MODE</td>\n",
       "      <td>0.404783</td>\n",
       "    </tr>\n",
       "    <tr>\n",
       "      <th>20</th>\n",
       "      <td>PRODUCT_FAMILY</td>\n",
       "      <td>0.367349</td>\n",
       "    </tr>\n",
       "  </tbody>\n",
       "</table>\n",
       "</div>"
      ],
      "text/plain": [
       "                Features  f_classif\n",
       "0         SELLER_COUNTRY   2.338931\n",
       "1   SELLER_SCORE_AVERAGE   2.193988\n",
       "2             ITEM_PRICE   1.890710\n",
       "3            BUYING_DATE   1.694069\n",
       "4       WARRANTIES_PRICE   1.326646\n",
       "5     SELLER_SCORE_COUNT   1.280663\n",
       "6         PURCHASE_COUNT   1.198512\n",
       "7         WARRANTIES_FLG   1.165600\n",
       "8       BUYER_DEPARTMENT   1.108469\n",
       "9      REGISTRATION_DATE   0.938583\n",
       "10        COUPON_PAYMENT   0.929517\n",
       "11          PRODUCT_TYPE   0.760115\n",
       "12        WALLET_PAYMENT   0.747125\n",
       "13     SELLER_DEPARTMENT   0.743424\n",
       "14           RSP_PAYMENT   0.709200\n",
       "15          CARD_PAYMENT   0.571894\n",
       "16        SHIPPING_PRICE   0.526489\n",
       "17   BUYER_BIRTHDAY_DATE   0.448571\n",
       "18      PRICECLUB_STATUS   0.438738\n",
       "19         SHIPPING_MODE   0.404783\n",
       "20        PRODUCT_FAMILY   0.367349"
      ]
     },
     "execution_count": 9,
     "metadata": {},
     "output_type": "execute_result"
    }
   ],
   "source": [
    "clf1.Feature_Importances_Test(Multi_Train, Multi_Target, n=100, test_used = f_classif)"
   ]
  },
  {
   "cell_type": "code",
   "execution_count": 29,
   "metadata": {},
   "outputs": [
    {
     "data": {
      "text/html": [
       "<div>\n",
       "<style scoped>\n",
       "    .dataframe tbody tr th:only-of-type {\n",
       "        vertical-align: middle;\n",
       "    }\n",
       "\n",
       "    .dataframe tbody tr th {\n",
       "        vertical-align: top;\n",
       "    }\n",
       "\n",
       "    .dataframe thead th {\n",
       "        text-align: right;\n",
       "    }\n",
       "</style>\n",
       "<table border=\"1\" class=\"dataframe\">\n",
       "  <thead>\n",
       "    <tr style=\"text-align: right;\">\n",
       "      <th></th>\n",
       "      <th>feature_1</th>\n",
       "      <th>feature_2</th>\n",
       "      <th>correlation_abs</th>\n",
       "    </tr>\n",
       "  </thead>\n",
       "  <tbody>\n",
       "    <tr>\n",
       "      <th>0</th>\n",
       "      <td>WARRANTIES_PRICE</td>\n",
       "      <td>WARRANTIES_FLG</td>\n",
       "      <td>0.982630</td>\n",
       "    </tr>\n",
       "    <tr>\n",
       "      <th>1</th>\n",
       "      <td>CARD_PAYMENT</td>\n",
       "      <td>WALLET_PAYMENT</td>\n",
       "      <td>0.655717</td>\n",
       "    </tr>\n",
       "    <tr>\n",
       "      <th>2</th>\n",
       "      <td>RSP_PAYMENT</td>\n",
       "      <td>PRICECLUB_STATUS</td>\n",
       "      <td>0.540061</td>\n",
       "    </tr>\n",
       "    <tr>\n",
       "      <th>3</th>\n",
       "      <td>REGISTRATION_DATE</td>\n",
       "      <td>PURCHASE_COUNT</td>\n",
       "      <td>0.442369</td>\n",
       "    </tr>\n",
       "    <tr>\n",
       "      <th>4</th>\n",
       "      <td>SELLER_DEPARTMENT</td>\n",
       "      <td>SHIPPING_PRICE</td>\n",
       "      <td>0.374038</td>\n",
       "    </tr>\n",
       "  </tbody>\n",
       "</table>\n",
       "</div>"
      ],
      "text/plain": [
       "           feature_1         feature_2  correlation_abs\n",
       "0   WARRANTIES_PRICE    WARRANTIES_FLG         0.982630\n",
       "1       CARD_PAYMENT    WALLET_PAYMENT         0.655717\n",
       "2        RSP_PAYMENT  PRICECLUB_STATUS         0.540061\n",
       "3  REGISTRATION_DATE    PURCHASE_COUNT         0.442369\n",
       "4  SELLER_DEPARTMENT    SHIPPING_PRICE         0.374038"
      ]
     },
     "execution_count": 29,
     "metadata": {},
     "output_type": "execute_result"
    }
   ],
   "source": [
    "clf1.get_highest_corr(Multi_Train, Multi_Target)"
   ]
  },
  {
   "cell_type": "code",
   "execution_count": 45,
   "metadata": {},
   "outputs": [
    {
     "data": {
      "text/html": [
       "<div>\n",
       "<style scoped>\n",
       "    .dataframe tbody tr th:only-of-type {\n",
       "        vertical-align: middle;\n",
       "    }\n",
       "\n",
       "    .dataframe tbody tr th {\n",
       "        vertical-align: top;\n",
       "    }\n",
       "\n",
       "    .dataframe thead th {\n",
       "        text-align: right;\n",
       "    }\n",
       "</style>\n",
       "<table border=\"1\" class=\"dataframe\">\n",
       "  <thead>\n",
       "    <tr style=\"text-align: right;\">\n",
       "      <th></th>\n",
       "      <th>features</th>\n",
       "      <th>Target Correlation</th>\n",
       "    </tr>\n",
       "  </thead>\n",
       "  <tbody>\n",
       "    <tr>\n",
       "      <th>0</th>\n",
       "      <td>PRODUCT_TYPE</td>\n",
       "      <td>0.135933</td>\n",
       "    </tr>\n",
       "    <tr>\n",
       "      <th>1</th>\n",
       "      <td>SHIPPING_PRICE</td>\n",
       "      <td>0.095060</td>\n",
       "    </tr>\n",
       "    <tr>\n",
       "      <th>2</th>\n",
       "      <td>SELLER_SCORE_COUNT</td>\n",
       "      <td>0.091340</td>\n",
       "    </tr>\n",
       "    <tr>\n",
       "      <th>3</th>\n",
       "      <td>WARRANTIES_PRICE</td>\n",
       "      <td>0.081010</td>\n",
       "    </tr>\n",
       "    <tr>\n",
       "      <th>4</th>\n",
       "      <td>SELLER_COUNTRY</td>\n",
       "      <td>0.072617</td>\n",
       "    </tr>\n",
       "    <tr>\n",
       "      <th>5</th>\n",
       "      <td>WARRANTIES_FLG</td>\n",
       "      <td>0.071631</td>\n",
       "    </tr>\n",
       "    <tr>\n",
       "      <th>6</th>\n",
       "      <td>PRICECLUB_STATUS</td>\n",
       "      <td>0.069498</td>\n",
       "    </tr>\n",
       "    <tr>\n",
       "      <th>7</th>\n",
       "      <td>CARD_PAYMENT</td>\n",
       "      <td>0.067164</td>\n",
       "    </tr>\n",
       "    <tr>\n",
       "      <th>8</th>\n",
       "      <td>REGISTRATION_DATE</td>\n",
       "      <td>0.065092</td>\n",
       "    </tr>\n",
       "    <tr>\n",
       "      <th>9</th>\n",
       "      <td>PURCHASE_COUNT</td>\n",
       "      <td>0.044525</td>\n",
       "    </tr>\n",
       "    <tr>\n",
       "      <th>10</th>\n",
       "      <td>BUYING_DATE</td>\n",
       "      <td>0.025035</td>\n",
       "    </tr>\n",
       "    <tr>\n",
       "      <th>11</th>\n",
       "      <td>COUPON_PAYMENT</td>\n",
       "      <td>0.014222</td>\n",
       "    </tr>\n",
       "    <tr>\n",
       "      <th>12</th>\n",
       "      <td>BUYER_BIRTHDAY_DATE</td>\n",
       "      <td>-0.002004</td>\n",
       "    </tr>\n",
       "    <tr>\n",
       "      <th>13</th>\n",
       "      <td>BUYER_DEPARTMENT</td>\n",
       "      <td>-0.008175</td>\n",
       "    </tr>\n",
       "    <tr>\n",
       "      <th>14</th>\n",
       "      <td>WALLET_PAYMENT</td>\n",
       "      <td>-0.015719</td>\n",
       "    </tr>\n",
       "    <tr>\n",
       "      <th>15</th>\n",
       "      <td>RSP_PAYMENT</td>\n",
       "      <td>-0.023216</td>\n",
       "    </tr>\n",
       "    <tr>\n",
       "      <th>16</th>\n",
       "      <td>SELLER_DEPARTMENT</td>\n",
       "      <td>-0.024491</td>\n",
       "    </tr>\n",
       "    <tr>\n",
       "      <th>17</th>\n",
       "      <td>PRODUCT_FAMILY</td>\n",
       "      <td>-0.076133</td>\n",
       "    </tr>\n",
       "    <tr>\n",
       "      <th>18</th>\n",
       "      <td>ITEM_PRICE</td>\n",
       "      <td>-0.185426</td>\n",
       "    </tr>\n",
       "    <tr>\n",
       "      <th>19</th>\n",
       "      <td>SELLER_SCORE_AVERAGE</td>\n",
       "      <td>-0.199755</td>\n",
       "    </tr>\n",
       "  </tbody>\n",
       "</table>\n",
       "</div>"
      ],
      "text/plain": [
       "                features  Target Correlation\n",
       "0           PRODUCT_TYPE            0.135933\n",
       "1         SHIPPING_PRICE            0.095060\n",
       "2     SELLER_SCORE_COUNT            0.091340\n",
       "3       WARRANTIES_PRICE            0.081010\n",
       "4         SELLER_COUNTRY            0.072617\n",
       "5         WARRANTIES_FLG            0.071631\n",
       "6       PRICECLUB_STATUS            0.069498\n",
       "7           CARD_PAYMENT            0.067164\n",
       "8      REGISTRATION_DATE            0.065092\n",
       "9         PURCHASE_COUNT            0.044525\n",
       "10           BUYING_DATE            0.025035\n",
       "11        COUPON_PAYMENT            0.014222\n",
       "12   BUYER_BIRTHDAY_DATE           -0.002004\n",
       "13      BUYER_DEPARTMENT           -0.008175\n",
       "14        WALLET_PAYMENT           -0.015719\n",
       "15           RSP_PAYMENT           -0.023216\n",
       "16     SELLER_DEPARTMENT           -0.024491\n",
       "17        PRODUCT_FAMILY           -0.076133\n",
       "18            ITEM_PRICE           -0.185426\n",
       "19  SELLER_SCORE_AVERAGE           -0.199755"
      ]
     },
     "execution_count": 45,
     "metadata": {},
     "output_type": "execute_result"
    }
   ],
   "source": [
    "%run -i BestEstimator.py\n",
    "clf1 = BestEstimator(grid = False, hard_grid = True)\n",
    "\n",
    "clf1.get_highest_corr_target(Multi_Train, Multi_Target)"
   ]
  },
  {
   "cell_type": "code",
   "execution_count": 37,
   "metadata": {},
   "outputs": [
    {
     "data": {
      "text/plain": [
       "BUYER_BIRTHDAY_DATE    NaN\n",
       "BUYER_DEPARTMENT       NaN\n",
       "BUYING_DATE            NaN\n",
       "CARD_PAYMENT           NaN\n",
       "CLAIM_TYPE             NaN\n",
       "COUPON_PAYMENT         NaN\n",
       "ITEM_PRICE             NaN\n",
       "PRICECLUB_STATUS       NaN\n",
       "PRODUCT_FAMILY         NaN\n",
       "PRODUCT_TYPE           NaN\n",
       "PURCHASE_COUNT         NaN\n",
       "REGISTRATION_DATE      NaN\n",
       "RSP_PAYMENT            NaN\n",
       "SELLER_COUNTRY         NaN\n",
       "SELLER_DEPARTMENT      NaN\n",
       "SELLER_SCORE_AVERAGE   NaN\n",
       "SELLER_SCORE_COUNT     NaN\n",
       "SHIPPING_MODE          NaN\n",
       "SHIPPING_PRICE         NaN\n",
       "WALLET_PAYMENT         NaN\n",
       "WARRANTIES_FLG         NaN\n",
       "WARRANTIES_PRICE       NaN\n",
       "dtype: float64"
      ]
     },
     "execution_count": 37,
     "metadata": {},
     "output_type": "execute_result"
    }
   ],
   "source": [
    "tr = clf1.Transform(Multi_Train[0:100])\n",
    "tar = clf1.Transform(Multi_Target[0:100])\n",
    "\n",
    "tr.corrwith(tar)"
   ]
  },
  {
   "cell_type": "code",
   "execution_count": null,
   "metadata": {},
   "outputs": [],
   "source": []
  }
 ],
 "metadata": {
  "kernelspec": {
   "display_name": "Python 3",
   "language": "python",
   "name": "python3"
  },
  "language_info": {
   "codemirror_mode": {
    "name": "ipython",
    "version": 3
   },
   "file_extension": ".py",
   "mimetype": "text/x-python",
   "name": "python",
   "nbconvert_exporter": "python",
   "pygments_lexer": "ipython3",
   "version": "3.7.1"
  }
 },
 "nbformat": 4,
 "nbformat_minor": 2
}
