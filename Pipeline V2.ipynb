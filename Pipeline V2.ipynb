{
 "cells": [
  {
   "cell_type": "code",
   "execution_count": null,
   "metadata": {},
   "outputs": [],
   "source": []
  },
  {
   "cell_type": "code",
   "execution_count": 5,
   "metadata": {},
   "outputs": [],
   "source": [
    "%run -i bestestimator_v2.py"
   ]
  },
  {
   "cell_type": "markdown",
   "metadata": {},
   "source": [
    "### Multiclass"
   ]
  },
  {
   "cell_type": "code",
   "execution_count": 2,
   "metadata": {},
   "outputs": [],
   "source": [
    "Train = pd.read_csv(r\"C:\\Users\\jecombe\\OneDrive - Capgemini\\Notebooks\\Train.csv\", sep = ',')\n",
    "Target = pd.read_csv(r\"C:\\Users\\jecombe\\OneDrive - Capgemini\\Notebooks\\Target.csv\", sep = ';')"
   ]
  },
  {
   "cell_type": "code",
   "execution_count": 6,
   "metadata": {},
   "outputs": [
    {
     "name": "stdout",
     "output_type": "stream",
     "text": [
      "Missing Values :\n",
      "\n",
      "                      Total       %\n",
      "WARRANTIES_PRICE      96603  96.603\n",
      "SHIPPING_PRICE        67610  67.610\n",
      "BUYER_BIRTHDAY_DATE    5836   5.836\n",
      "SHIPPING_MODE           315   0.315\n",
      "PRICECLUB_STATUS         57   0.057\n",
      "SELLER_SCORE_AVERAGE      6   0.006\n",
      "SELLER_SCORE_COUNT        6   0.006 \n",
      "\n",
      "NaN data filled by 0 \n",
      "\n",
      "Searching for the best regressor on 1000 data using accuracy loss... \n",
      "\n",
      "\n",
      " Bagging: 0.4600 (+/- 0.0051)\n",
      "\n",
      " Gradient Boosting: 0.4681 (+/- 0.0194)\n"
     ]
    },
    {
     "name": "stderr",
     "output_type": "stream",
     "text": [
      "C:\\ProgramData\\Anaconda3\\lib\\site-packages\\sklearn\\preprocessing\\label.py:151: DeprecationWarning: The truth value of an empty array is ambiguous. Returning False, but in future this will result in an error. Use `array.size > 0` to check that an array is not empty.\n",
      "  if diff:\n",
      "C:\\ProgramData\\Anaconda3\\lib\\site-packages\\sklearn\\preprocessing\\label.py:151: DeprecationWarning: The truth value of an empty array is ambiguous. Returning False, but in future this will result in an error. Use `array.size > 0` to check that an array is not empty.\n",
      "  if diff:\n",
      "C:\\ProgramData\\Anaconda3\\lib\\site-packages\\sklearn\\preprocessing\\label.py:151: DeprecationWarning: The truth value of an empty array is ambiguous. Returning False, but in future this will result in an error. Use `array.size > 0` to check that an array is not empty.\n",
      "  if diff:\n"
     ]
    },
    {
     "name": "stdout",
     "output_type": "stream",
     "text": [
      "\n",
      " XGBoost: 0.4900 (+/- 0.0156)\n",
      "\n",
      " Random Forest: 0.5010 (+/- 0.0157)\n",
      "\n",
      " Decision Tree: 0.3500 (+/- 0.0110)\n",
      "\n",
      " Extra Tree: 0.4750 (+/- 0.0364)\n",
      "\n",
      " KNN: 0.4470 (+/- 0.0126)\n",
      "\n",
      " SVM: 0.4870 (+/- 0.0027)\n",
      "\n",
      " Searching for the best hyperparametres of Random Forest on 1000 data among : \n",
      "\n",
      "{'n_estimators': [10, 100, 300], 'max_depth': [5, 10, None], 'criterion': ['gini', 'entropy']} \n",
      "\n",
      "Fitting 3 folds for each of 18 candidates, totalling 54 fits\n"
     ]
    },
    {
     "name": "stderr",
     "output_type": "stream",
     "text": [
      "[Parallel(n_jobs=-1)]: Done  42 tasks      | elapsed:   17.4s\n",
      "[Parallel(n_jobs=-1)]: Done  54 out of  54 | elapsed:   21.3s finished\n"
     ]
    },
    {
     "name": "stdout",
     "output_type": "stream",
     "text": [
      "\n",
      " Finally, the best estimator is : Random Forest classifier\n",
      "\n",
      " Using these hyperparametres : {'criterion': 'gini', 'max_depth': None, 'n_estimators': 300}\n",
      "\n",
      " With this accuracy score : 0.512\n"
     ]
    }
   ],
   "source": [
    "clf = BestEstimator(type_esti = 'classifier', \n",
    "                 cv = 3, \n",
    "                 grid = True, \n",
    "                 hard_grid = False,\n",
    "                 cv_grid = 3)\n",
    "\n",
    "clf.fit(Train, Target,\n",
    "            ID = 'ID',\n",
    "            target_ID = True,\n",
    "            n = 1000,\n",
    "            n_grid = 1000,\n",
    "            view_nan = True,\n",
    "        scoring = 'accuracy',\n",
    "       value = 0) "
   ]
  },
  {
   "cell_type": "code",
   "execution_count": null,
   "metadata": {},
   "outputs": [
    {
     "name": "stdout",
     "output_type": "stream",
     "text": [
      "Fitting 3 folds for each of 4 candidates, totalling 12 fits\n"
     ]
    }
   ],
   "source": [
    "clf.Bagg_fit(Train, Target, n_estimators = [10,20,100,150], ID = 'ID', metric = 'accuracy')"
   ]
  },
  {
   "cell_type": "markdown",
   "metadata": {},
   "source": [
    "### Binary"
   ]
  },
  {
   "cell_type": "code",
   "execution_count": 11,
   "metadata": {},
   "outputs": [
    {
     "name": "stderr",
     "output_type": "stream",
     "text": [
      "C:\\ProgramData\\Anaconda3\\lib\\site-packages\\ipykernel_launcher.py:11: SettingWithCopyWarning: \n",
      "A value is trying to be set on a copy of a slice from a DataFrame\n",
      "\n",
      "See the caveats in the documentation: http://pandas.pydata.org/pandas-docs/stable/indexing.html#indexing-view-versus-copy\n",
      "  # This is added back by InteractiveShellApp.init_path()\n",
      "C:\\ProgramData\\Anaconda3\\lib\\site-packages\\pandas\\core\\indexing.py:189: SettingWithCopyWarning: \n",
      "A value is trying to be set on a copy of a slice from a DataFrame\n",
      "\n",
      "See the caveats in the documentation: http://pandas.pydata.org/pandas-docs/stable/indexing.html#indexing-view-versus-copy\n",
      "  self._setitem_with_indexer(indexer, value)\n"
     ]
    }
   ],
   "source": [
    "Train = pd.read_csv(r\"C:\\Users\\jecombe\\OneDrive - Capgemini\\Notebooks\\Train1.csv\", sep = ';')\n",
    "target = pd.read_csv(r\"C:\\Users\\jecombe\\OneDrive - Capgemini\\Notebooks\\Target1.csv\", sep = ';')\n",
    "\n",
    "Target = pd.DataFrame()\n",
    "Target['ID'] = target['ID']\n",
    "Target['Target'] = [np.nan]*target.shape[0]\n",
    "\n",
    "\n",
    "for i in range(target.shape[0]):\n",
    "    if target['Target'][i] == 1:\n",
    "        Target['Target'][i] ='+'\n",
    "    else :\n",
    "        Target['Target'][i] ='-'\n",
    "        \n",
    "        "
   ]
  },
  {
   "cell_type": "code",
   "execution_count": 12,
   "metadata": {},
   "outputs": [
    {
     "name": "stdout",
     "output_type": "stream",
     "text": [
      "NaN data filled by 0 \n",
      "\n",
      "Searching for the best regressor on 1000 data using roc_auc loss... \n",
      "\n",
      "\n",
      " Bagging: 0.6963 (+/- 0.0254)\n",
      "\n",
      " Gradient Boosting: 0.7104 (+/- 0.0125)\n",
      "\n",
      " XGBoost: 0.7121 (+/- 0.0225)\n",
      "\n",
      " Random Forest: 0.7269 (+/- 0.0375)\n",
      "\n",
      " Decision Tree: 0.6295 (+/- 0.0285)\n",
      "\n",
      " Extra Tree: 0.6647 (+/- 0.0102)\n",
      "\n",
      " KNN: 0.6367 (+/- 0.0594)\n",
      "\n",
      " SVM: 0.5040 (+/- 0.0054)\n",
      "\n",
      " Searching for the best hyperparametres of Random Forest on 1000 data among : \n",
      "\n",
      "{'n_estimators': [10, 100, 300], 'max_depth': [5, 10, None], 'criterion': ['gini', 'entropy']} \n",
      "\n",
      "Fitting 3 folds for each of 18 candidates, totalling 54 fits\n"
     ]
    },
    {
     "name": "stderr",
     "output_type": "stream",
     "text": [
      "[Parallel(n_jobs=-1)]: Done  42 tasks      | elapsed:   22.4s\n",
      "[Parallel(n_jobs=-1)]: Done  54 out of  54 | elapsed:   28.2s finished\n"
     ]
    },
    {
     "name": "stdout",
     "output_type": "stream",
     "text": [
      "\n",
      " Finally, the best estimator is : Random Forest classifier\n",
      "\n",
      " Using these hyperparametres : {'criterion': 'entropy', 'max_depth': 5, 'n_estimators': 300}\n",
      "\n",
      " With this roc_auc score : 0.7438012216910522\n"
     ]
    }
   ],
   "source": [
    "clf = BestEstimator(type_esti = 'classifier', \n",
    "                 cv = 3, \n",
    "                 grid = True, \n",
    "                 hard_grid = False,\n",
    "                 cv_grid = 3)\n",
    "\n",
    "clf.fit(Train, Target,\n",
    "            ID = 'ID',\n",
    "            target_ID = True,\n",
    "            n = 1000,\n",
    "            n_grid = 1000,\n",
    "            value_nan = 0,\n",
    "            view_nan = False,\n",
    "           params = False,\n",
    "        scoring = 'roc_auc') "
   ]
  },
  {
   "cell_type": "markdown",
   "metadata": {},
   "source": [
    "### Regression"
   ]
  },
  {
   "cell_type": "code",
   "execution_count": 7,
   "metadata": {},
   "outputs": [],
   "source": [
    "Train = pd.read_csv(r\"C:\\Users\\jecombe\\OneDrive - Capgemini\\Notebooks\\input_training.csv\", sep = ';')\n",
    "Target = pd.read_csv(r\"C:\\Users\\jecombe\\OneDrive - Capgemini\\Notebooks\\Target_Engie.csv\", sep = ';')"
   ]
  },
  {
   "cell_type": "code",
   "execution_count": null,
   "metadata": {},
   "outputs": [
    {
     "name": "stdout",
     "output_type": "stream",
     "text": [
      "Missing Values :\n",
      "\n",
      "                                Total          %\n",
      "Grid_voltage                   101322  16.411451\n",
      "Grid_voltage_std               101322  16.411451\n",
      "Grid_voltage_max               101322  16.411451\n",
      "Grid_voltage_min               101322  16.411451\n",
      "Gearbox_inlet_temperature        8064   1.306152\n",
      "Generator_converter_speed        8064   1.306152\n",
      "Generator_converter_speed_min    8064   1.306152\n",
      "Generator_converter_speed_max    8064   1.306152\n",
      "Generator_converter_speed_std    8064   1.306152\n",
      "Gearbox_inlet_temperature_min    8064   1.306152\n",
      "Gearbox_inlet_temperature_max    8064   1.306152\n",
      "Gearbox_inlet_temperature_std    8064   1.306152\n",
      "Absolute_wind_direction_c          72   0.011662\n",
      "Nacelle_angle_c                    72   0.011662 \n",
      "\n",
      "NaN data filled by 0 \n",
      "\n"
     ]
    }
   ],
   "source": [
    "clf = BestEstimator(type_esti = 'regressor', \n",
    "                 cv = 3, \n",
    "                 grid = True, \n",
    "                 hard_grid = True,\n",
    "                 cv_grid = 3)\n",
    "\n",
    "clf.fit(Train, Target,\n",
    "            ID = 'ID',\n",
    "            target_ID = True,\n",
    "            n = 500,\n",
    "            n_grid = 500,\n",
    "            value_nan = 0,\n",
    "            view_nan = True,\n",
    "           params = False,\n",
    "        scoring = 'r2') "
   ]
  },
  {
   "cell_type": "code",
   "execution_count": null,
   "metadata": {},
   "outputs": [],
   "source": [
    "clf.pred_grid(Train[0:50], ID = 'ID', prob = False)"
   ]
  },
  {
   "cell_type": "code",
   "execution_count": null,
   "metadata": {},
   "outputs": [],
   "source": [
    "clf.pred(Train[0:50], ID = 'ID', prob = False, n = 1000)"
   ]
  },
  {
   "cell_type": "code",
   "execution_count": null,
   "metadata": {},
   "outputs": [],
   "source": []
  },
  {
   "cell_type": "code",
   "execution_count": null,
   "metadata": {},
   "outputs": [],
   "source": []
  },
  {
   "cell_type": "code",
   "execution_count": 9,
   "metadata": {},
   "outputs": [],
   "source": [
    "%run -i bestestimator_v2.py"
   ]
  },
  {
   "cell_type": "code",
   "execution_count": 4,
   "metadata": {},
   "outputs": [],
   "source": [
    " params = {'n_estimators': [10, 100, 300],\n",
    "           'max_depth': [5, 10, None]}"
   ]
  },
  {
   "cell_type": "code",
   "execution_count": null,
   "metadata": {},
   "outputs": [],
   "source": []
  },
  {
   "cell_type": "code",
   "execution_count": 10,
   "metadata": {},
   "outputs": [
    {
     "name": "stdout",
     "output_type": "stream",
     "text": [
      "Fitting 3 folds for each of 9 candidates, totalling 27 fits\n"
     ]
    },
    {
     "name": "stderr",
     "output_type": "stream",
     "text": [
      "[Parallel(n_jobs=-1)]: Done  27 out of  27 | elapsed:   19.1s finished\n"
     ]
    },
    {
     "name": "stdout",
     "output_type": "stream",
     "text": [
      "\n",
      " Best hyperparametres : {'max_depth': 10, 'n_estimators': 100}\n",
      "\n",
      " Giving this r2 score : -1.0361581538638591\n"
     ]
    }
   ],
   "source": [
    "clf = BestEstimator(type_esti = 'regressor', \n",
    "                 cv = 3, \n",
    "                 grid = True, \n",
    "                 hard_grid = False,\n",
    "                 cv_grid = 3)\n",
    "\n",
    "clf.custom_grid(Train, Target, ID = 'ID', target_ID = True,\n",
    "                    n = 1000, metric = 'r2', params = params, cv = 3, DF = RandomForestRegressor())"
   ]
  },
  {
   "cell_type": "code",
   "execution_count": null,
   "metadata": {},
   "outputs": [],
   "source": []
  }
 ],
 "metadata": {
  "kernelspec": {
   "display_name": "Python 3",
   "language": "python",
   "name": "python3"
  },
  "language_info": {
   "codemirror_mode": {
    "name": "ipython",
    "version": 3
   },
   "file_extension": ".py",
   "mimetype": "text/x-python",
   "name": "python",
   "nbconvert_exporter": "python",
   "pygments_lexer": "ipython3",
   "version": "3.7.0"
  }
 },
 "nbformat": 4,
 "nbformat_minor": 2
}
