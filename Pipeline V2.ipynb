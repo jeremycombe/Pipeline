{
 "cells": [
  {
   "cell_type": "code",
   "execution_count": 23,
   "metadata": {},
   "outputs": [],
   "source": [
    "%run -i bestestimator_v2.py"
   ]
  },
  {
   "cell_type": "markdown",
   "metadata": {},
   "source": [
    "### Multiclass"
   ]
  },
  {
   "cell_type": "code",
   "execution_count": 2,
   "metadata": {},
   "outputs": [],
   "source": [
    "Train = pd.read_csv(r\"C:\\Users\\jecombe\\OneDrive - Capgemini\\Notebooks\\Train.csv\", sep = ',')\n",
    "Target = pd.read_csv(r\"C:\\Users\\jecombe\\OneDrive - Capgemini\\Notebooks\\Target.csv\", sep = ';')"
   ]
  },
  {
   "cell_type": "markdown",
   "metadata": {},
   "source": [
    "### Binary"
   ]
  },
  {
   "cell_type": "code",
   "execution_count": 19,
   "metadata": {},
   "outputs": [],
   "source": [
    "Train = pd.read_csv(r\"C:\\Users\\jecombe\\OneDrive - Capgemini\\Notebooks\\Train1.csv\", sep = ';')\n",
    "Target = pd.read_csv(r\"C:\\Users\\jecombe\\OneDrive - Capgemini\\Notebooks\\Target1.csv\", sep = ';')"
   ]
  },
  {
   "cell_type": "markdown",
   "metadata": {},
   "source": [
    "### Regression"
   ]
  },
  {
   "cell_type": "code",
   "execution_count": null,
   "metadata": {},
   "outputs": [],
   "source": [
    "Train = pd.read_csv(r\"C:\\Users\\jecombe\\OneDrive - Capgemini\\Notebooks\\input_training.csv\", sep = ';')\n",
    "Target = pd.read_csv(r\"C:\\Users\\jecombe\\OneDrive - Capgemini\\Notebooks\\Target_Engie.csv\", sep = ';')"
   ]
  },
  {
   "cell_type": "code",
   "execution_count": 24,
   "metadata": {},
   "outputs": [
    {
     "name": "stdout",
     "output_type": "stream",
     "text": [
      "Missing Values :\n",
      "\n",
      "                            Total         %\n",
      "1_diffClosing stocks(kmt)     261  2.569151\n",
      "2_diffClosing stocks(kmt)     257  2.529777\n",
      "3_diffClosing stocks(kmt)     253  2.490403\n",
      "4_diffClosing stocks(kmt)     249  2.451029\n",
      "5_diffClosing stocks(kmt)     245  2.411655\n",
      "6_diffClosing stocks(kmt)     241  2.372281\n",
      "7_diffClosing stocks(kmt)     238  2.342750\n",
      "8_diffClosing stocks(kmt)     235  2.313220\n",
      "9_diffClosing stocks(kmt)     232  2.283689\n",
      "10_diffClosing stocks(kmt)    228  2.244315\n",
      "11_diffClosing stocks(kmt)    224  2.204941\n",
      "12_diffClosing stocks(kmt)    220  2.165567\n",
      "1_diffImports(kmt)            151  1.486367\n",
      "2_diffImports(kmt)            148  1.456836\n",
      "3_diffImports(kmt)            145  1.427306\n",
      "4_diffImports(kmt)            142  1.397775\n",
      "5_diffImports(kmt)            139  1.368245\n",
      "6_diffImports(kmt)            136  1.338714\n",
      "7_diffImports(kmt)            133  1.309184\n",
      "8_diffImports(kmt)            130  1.279654\n",
      "9_diffImports(kmt)            127  1.250123\n",
      "10_diffImports(kmt)           124  1.220593\n",
      "11_diffImports(kmt)           121  1.191062\n",
      "12_diffImports(kmt)           118  1.161532 \n",
      "\n",
      "NaN data filled by 0 \n",
      "\n",
      "Searching for the best regressor on 1000 data using AUC loss... \n",
      "\n",
      "\n",
      " Bagging: 0.7112 (+/- 0.0375)\n",
      "\n",
      " Gradient Boosting: 0.7118 (+/- 0.0133)\n",
      "\n",
      " XGBoost: 0.7121 (+/- 0.0225)\n",
      "\n",
      " Random Forest: 0.7196 (+/- 0.0355)\n",
      "\n",
      " Decision Tree: 0.6340 (+/- 0.0264)\n",
      "\n",
      " Extra Tree: 0.6824 (+/- 0.0368)\n",
      "\n",
      " KNN: 0.6367 (+/- 0.0594)\n",
      "\n",
      " SVM: 0.5040 (+/- 0.0054)\n",
      "\n",
      " Searching for the best hyperparametres of Random Forest on 1000 data among : \n",
      "\n",
      "{'n_estimators': [10, 100, 300], 'max_depth': [5, 10, None], 'criterion': ['gini', 'entropy']} \n",
      "\n",
      "Fitting 3 folds for each of 18 candidates, totalling 54 fits\n"
     ]
    },
    {
     "name": "stderr",
     "output_type": "stream",
     "text": [
      "[Parallel(n_jobs=-1)]: Done  42 tasks      | elapsed:   17.4s\n",
      "[Parallel(n_jobs=-1)]: Done  54 out of  54 | elapsed:   22.5s finished\n"
     ]
    },
    {
     "name": "stdout",
     "output_type": "stream",
     "text": [
      "\n",
      " Finally, the best estimator is : Random Forest classifier\n",
      "\n",
      " Using these hyperparametres : {'criterion': 'entropy', 'max_depth': 5, 'n_estimators': 100}\n",
      "\n",
      " With this AUC score : 0.7436210162248299\n"
     ]
    }
   ],
   "source": [
    "clf = BestEstimator(type_esti = 'classifier', \n",
    "                 cv = 3, \n",
    "                 grid = True, \n",
    "                 hard_grid = False,\n",
    "                 cv_grid = 3)\n",
    "\n",
    "clf.fit(Train, Target,\n",
    "            ID = 'ID',\n",
    "            target_ID = True,\n",
    "            n = 1000,\n",
    "            n_grid = 1000,\n",
    "            value_nan = 0,\n",
    "            view_nan = True,\n",
    "           params = False,\n",
    "        scoring = 'AUC') "
   ]
  },
  {
   "cell_type": "code",
   "execution_count": 8,
   "metadata": {},
   "outputs": [
    {
     "name": "stdout",
     "output_type": "stream",
     "text": [
      "Missing Values :\n",
      "\n",
      "                                Total          %\n",
      "Grid_voltage                   101322  16.411451\n",
      "Grid_voltage_std               101322  16.411451\n",
      "Grid_voltage_max               101322  16.411451\n",
      "Grid_voltage_min               101322  16.411451\n",
      "Gearbox_inlet_temperature        8064   1.306152\n",
      "Generator_converter_speed        8064   1.306152\n",
      "Generator_converter_speed_min    8064   1.306152\n",
      "Generator_converter_speed_max    8064   1.306152\n",
      "Generator_converter_speed_std    8064   1.306152\n",
      "Gearbox_inlet_temperature_min    8064   1.306152\n",
      "Gearbox_inlet_temperature_max    8064   1.306152\n",
      "Gearbox_inlet_temperature_std    8064   1.306152\n",
      "Absolute_wind_direction_c          72   0.011662\n",
      "Nacelle_angle_c                    72   0.011662 \n",
      "\n",
      "NaN data filled by 0 \n",
      "\n",
      "Searching for the best regressor on 1000 data using explained_variance loss... \n",
      "\n",
      "\n",
      " Bagging: 0.9677 (+/- 0.0258)\n",
      "\n",
      " Gradient Boosting: 0.9766 (+/- 0.0081)\n",
      "\n",
      " XGBoost: 0.9761 (+/- 0.0139)\n",
      "\n",
      " Random Forest: 0.9703 (+/- 0.0206)\n",
      "\n",
      " Decision Tree: 0.9351 (+/- 0.0179)\n",
      "\n",
      " Extra Tree: 0.9699 (+/- 0.0120)\n",
      "\n",
      " KNN: 0.6072 (+/- 0.0933)\n",
      "\n",
      " SVM: 0.0000 (+/- 0.0000)\n",
      "\n",
      " Searching for the best hyperparametres of Gradient Boosting on 1000 data among : \n",
      "\n",
      "{'n_estimators': [100, 300, 600], 'max_depth': [5, 10, None], 'learning_rate': [0.001, 0.01, 0.1], 'loss': ['ls', 'lad']} \n",
      "\n",
      "Fitting 3 folds for each of 54 candidates, totalling 162 fits\n"
     ]
    },
    {
     "name": "stderr",
     "output_type": "stream",
     "text": [
      "[Parallel(n_jobs=-1)]: Done  42 tasks      | elapsed:  1.5min\n",
      "[Parallel(n_jobs=-1)]: Done 162 out of 162 | elapsed:  5.2min finished\n"
     ]
    },
    {
     "name": "stdout",
     "output_type": "stream",
     "text": [
      "\n",
      " Finally, the best estimator is : Gradient Boosting regressor\n",
      "\n",
      " Using these hyperparametres : {'learning_rate': 0.1, 'loss': 'lad', 'max_depth': 10, 'n_estimators': 600}\n",
      "\n",
      " With this explained_variance score : 0.9707338413345542\n"
     ]
    }
   ],
   "source": [
    "Reg = BestEstimator(type_esti = 'regressor', \n",
    "                 cv = 3, \n",
    "                 grid = True, \n",
    "                 hard_grid = False,\n",
    "                 cv_grid = 3)\n",
    "\n",
    "Reg.fit(Train, Target,\n",
    "            ID = 'ID',\n",
    "            target_ID = True,\n",
    "            n = 1000,\n",
    "            n_grid = 1000,\n",
    "            value_nan = 0,\n",
    "            view_nan = True,\n",
    "           params = False,\n",
    "       scoring = 'explained_variance') "
   ]
  },
  {
   "cell_type": "code",
   "execution_count": null,
   "metadata": {},
   "outputs": [],
   "source": []
  }
 ],
 "metadata": {
  "kernelspec": {
   "display_name": "Python 3",
   "language": "python",
   "name": "python3"
  },
  "language_info": {
   "codemirror_mode": {
    "name": "ipython",
    "version": 3
   },
   "file_extension": ".py",
   "mimetype": "text/x-python",
   "name": "python",
   "nbconvert_exporter": "python",
   "pygments_lexer": "ipython3",
   "version": "3.7.0"
  }
 },
 "nbformat": 4,
 "nbformat_minor": 2
}
