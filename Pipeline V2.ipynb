{
 "cells": [
  {
   "cell_type": "code",
   "execution_count": null,
   "metadata": {},
   "outputs": [],
   "source": []
  },
  {
   "cell_type": "code",
   "execution_count": 8,
   "metadata": {},
   "outputs": [],
   "source": [
    "%run -i bestestimator_v2.py"
   ]
  },
  {
   "cell_type": "markdown",
   "metadata": {},
   "source": [
    "### Multiclass"
   ]
  },
  {
   "cell_type": "code",
   "execution_count": 9,
   "metadata": {},
   "outputs": [],
   "source": [
    "Train = pd.read_csv(r\"C:\\Users\\jecombe\\OneDrive - Capgemini\\Notebooks\\Train.csv\", sep = ',')\n",
    "Target = pd.read_csv(r\"C:\\Users\\jecombe\\OneDrive - Capgemini\\Notebooks\\Target.csv\", sep = ';')"
   ]
  },
  {
   "cell_type": "code",
   "execution_count": 10,
   "metadata": {},
   "outputs": [
    {
     "name": "stdout",
     "output_type": "stream",
     "text": [
      "Missing Values :\n",
      "\n",
      "                      Total       %\n",
      "WARRANTIES_PRICE      96603  96.603\n",
      "SHIPPING_PRICE        67610  67.610\n",
      "BUYER_BIRTHDAY_DATE    5836   5.836\n",
      "SHIPPING_MODE           315   0.315\n",
      "PRICECLUB_STATUS         57   0.057\n",
      "SELLER_SCORE_AVERAGE      6   0.006\n",
      "SELLER_SCORE_COUNT        6   0.006 \n",
      "\n",
      "NaN data filled by 0 \n",
      "\n",
      "Searching for the best regressor on 1000 data using accuracy loss... \n",
      "\n",
      "\n",
      " Bagging: 0.4730 (+/- 0.0096)\n",
      "\n",
      " Gradient Boosting: 0.4681 (+/- 0.0153)\n"
     ]
    },
    {
     "name": "stderr",
     "output_type": "stream",
     "text": [
      "C:\\ProgramData\\Anaconda3\\lib\\site-packages\\sklearn\\preprocessing\\label.py:151: DeprecationWarning: The truth value of an empty array is ambiguous. Returning False, but in future this will result in an error. Use `array.size > 0` to check that an array is not empty.\n",
      "  if diff:\n",
      "C:\\ProgramData\\Anaconda3\\lib\\site-packages\\sklearn\\preprocessing\\label.py:151: DeprecationWarning: The truth value of an empty array is ambiguous. Returning False, but in future this will result in an error. Use `array.size > 0` to check that an array is not empty.\n",
      "  if diff:\n",
      "C:\\ProgramData\\Anaconda3\\lib\\site-packages\\sklearn\\preprocessing\\label.py:151: DeprecationWarning: The truth value of an empty array is ambiguous. Returning False, but in future this will result in an error. Use `array.size > 0` to check that an array is not empty.\n",
      "  if diff:\n"
     ]
    },
    {
     "name": "stdout",
     "output_type": "stream",
     "text": [
      "\n",
      " XGBoost: 0.4900 (+/- 0.0156)\n",
      "\n",
      " Random Forest: 0.4990 (+/- 0.0075)\n",
      "\n",
      " Decision Tree: 0.3650 (+/- 0.0101)\n",
      "\n",
      " Extra Tree: 0.4540 (+/- 0.0285)\n",
      "\n",
      " KNN: 0.4470 (+/- 0.0126)\n",
      "\n",
      " SVM: 0.4870 (+/- 0.0027)\n",
      "\n",
      " Searching for the best hyperparametres of Random Forest on 1000 data among : \n",
      "\n",
      "{'n_estimators': [10, 100, 300], 'max_depth': [5, 10, None], 'criterion': ['gini', 'entropy']} \n",
      "\n",
      "Fitting 3 folds for each of 18 candidates, totalling 54 fits\n"
     ]
    },
    {
     "name": "stderr",
     "output_type": "stream",
     "text": [
      "[Parallel(n_jobs=-1)]: Done  42 tasks      | elapsed:   14.6s\n",
      "[Parallel(n_jobs=-1)]: Done  54 out of  54 | elapsed:   18.2s finished\n"
     ]
    },
    {
     "name": "stdout",
     "output_type": "stream",
     "text": [
      "\n",
      " Finally, the best estimator is : Random Forest Classifier\n",
      "\n",
      " Using these hyperparametres : {'criterion': 'entropy', 'max_depth': 10, 'n_estimators': 100}\n",
      "\n",
      " With this accuracy score : 0.51\n"
     ]
    }
   ],
   "source": [
    "clf = BestEstimator(type_esti = 'Classifier', \n",
    "                 cv = 3, \n",
    "                 grid = True, \n",
    "                 hard_grid = False,\n",
    "                 cv_grid = 3)\n",
    "\n",
    "clf.fit(Train, Target,\n",
    "            ID = 'ID',\n",
    "            target_ID = True,\n",
    "            n = 1000,\n",
    "            n_grid = 1000,\n",
    "            view_nan = True,\n",
    "        scoring = 'accuracy',\n",
    "       value = 0) "
   ]
  },
  {
   "cell_type": "code",
   "execution_count": 12,
   "metadata": {},
   "outputs": [
    {
     "name": "stdout",
     "output_type": "stream",
     "text": [
      "Fitting 3 folds for each of 2 candidates, totalling 6 fits\n"
     ]
    },
    {
     "name": "stderr",
     "output_type": "stream",
     "text": [
      "C:\\ProgramData\\Anaconda3\\lib\\site-packages\\sklearn\\model_selection\\_split.py:605: Warning: The least populated class in y has only 1 members, which is too few. The minimum number of members in any class cannot be less than n_splits=3.\n",
      "  % (min_groups, self.n_splits)), Warning)\n",
      "[Parallel(n_jobs=-1)]: Done   6 out of   6 | elapsed:   30.5s remaining:    0.0s\n",
      "[Parallel(n_jobs=-1)]: Done   6 out of   6 | elapsed:   30.5s finished\n"
     ]
    },
    {
     "name": "stdout",
     "output_type": "stream",
     "text": [
      "\n",
      " Best hyperparametres : {'n_estimators': 10}\n",
      "\n",
      " Giving this accuracy score : 0.5133333333333333\n",
      "BaggingClassifier(base_estimator=RandomForestClassifier(bootstrap=True, class_weight=None, criterion='entropy',\n",
      "            max_depth=10, max_features='auto', max_leaf_nodes=None,\n",
      "            min_impurity_decrease=0.0, min_impurity_split=None,\n",
      "            min_samples_leaf=1, min_samples_split=2,\n",
      "            min_weight_fraction_leaf=0.0, n_estimators=100, n_jobs=-1,\n",
      "            oob_score=False, random_state=None, verbose=0,\n",
      "            warm_start=False),\n",
      "         bootstrap=True, bootstrap_features=False, max_features=1.0,\n",
      "         max_samples=1.0, n_estimators=10, n_jobs=1, oob_score=False,\n",
      "         random_state=None, verbose=0, warm_start=False)\n"
     ]
    }
   ],
   "source": [
    "clf.Bagg_fit(Train, Target, n_estimators = [10,40], ID = 'ID', metric = 'accuracy', n = 300)"
   ]
  },
  {
   "cell_type": "markdown",
   "metadata": {},
   "source": [
    "### Binary"
   ]
  },
  {
   "cell_type": "code",
   "execution_count": 5,
   "metadata": {},
   "outputs": [
    {
     "name": "stderr",
     "output_type": "stream",
     "text": [
      "bestestimator_v2.py:11: SettingWithCopyWarning: \n",
      "A value is trying to be set on a copy of a slice from a DataFrame\n",
      "\n",
      "See the caveats in the documentation: http://pandas.pydata.org/pandas-docs/stable/indexing.html#indexing-view-versus-copy\n",
      "  from sklearn.tree import DecisionTreeClassifier, DecisionTreeRegressor\n",
      "C:\\ProgramData\\Anaconda3\\lib\\site-packages\\pandas\\core\\indexing.py:189: SettingWithCopyWarning: \n",
      "A value is trying to be set on a copy of a slice from a DataFrame\n",
      "\n",
      "See the caveats in the documentation: http://pandas.pydata.org/pandas-docs/stable/indexing.html#indexing-view-versus-copy\n",
      "  self._setitem_with_indexer(indexer, value)\n"
     ]
    }
   ],
   "source": [
    "Train = pd.read_csv(r\"C:\\Users\\jecombe\\OneDrive - Capgemini\\Notebooks\\Train1.csv\", sep = ';')\n",
    "target = pd.read_csv(r\"C:\\Users\\jecombe\\OneDrive - Capgemini\\Notebooks\\Target1.csv\", sep = ';')\n",
    "\n",
    "Target = pd.DataFrame()\n",
    "Target['ID'] = target['ID']\n",
    "Target['Target'] = [np.nan]*target.shape[0]\n",
    "\n",
    "\n",
    "for i in range(target.shape[0]):\n",
    "    if target['Target'][i] == 1:\n",
    "        Target['Target'][i] ='+'\n",
    "    else :\n",
    "        Target['Target'][i] ='-'\n",
    "        \n",
    "        "
   ]
  },
  {
   "cell_type": "code",
   "execution_count": 9,
   "metadata": {},
   "outputs": [
    {
     "name": "stdout",
     "output_type": "stream",
     "text": [
      "NaN data filled by 0 \n",
      "\n",
      "Searching for the best regressor on 1000 data using roc_auc loss... \n",
      "\n",
      "\n",
      " Bagging: 0.7116 (+/- 0.0077)\n",
      "\n",
      " Gradient Boosting: 0.7215 (+/- 0.0355)\n",
      "\n",
      " XGBoost: 0.7121 (+/- 0.0225)\n",
      "\n",
      " Random Forest: 0.7269 (+/- 0.0401)\n",
      "\n",
      " Decision Tree: 0.6278 (+/- 0.0293)\n",
      "\n",
      " Extra Tree: 0.6797 (+/- 0.0246)\n",
      "\n",
      " KNN: 0.6367 (+/- 0.0594)\n",
      "\n",
      " SVM: 0.5040 (+/- 0.0054)\n",
      "\n",
      " Searching for the best hyperparametres of Random Forest on 1000 data among : \n",
      "\n",
      "{'n_estimators': [10, 100, 300], 'max_depth': [5, 10, None], 'criterion': ['gini', 'entropy']} \n",
      "\n",
      "Fitting 3 folds for each of 18 candidates, totalling 54 fits\n"
     ]
    },
    {
     "name": "stderr",
     "output_type": "stream",
     "text": [
      "[Parallel(n_jobs=-1)]: Done  42 tasks      | elapsed:   18.3s\n",
      "[Parallel(n_jobs=-1)]: Done  54 out of  54 | elapsed:   23.2s finished\n"
     ]
    },
    {
     "name": "stdout",
     "output_type": "stream",
     "text": [
      "\n",
      " Finally, the best estimator is : Random Forest classifier\n",
      "\n",
      " Using these hyperparametres : {'criterion': 'entropy', 'max_depth': 5, 'n_estimators': 300}\n",
      "\n",
      " With this roc_auc score : 0.7407524989135159\n"
     ]
    }
   ],
   "source": [
    "clf = BestEstimator(type_esti = 'classifier', \n",
    "                 cv = 3, \n",
    "                 grid = True, \n",
    "                 hard_grid = False,\n",
    "                 cv_grid = 3)\n",
    "\n",
    "clf.fit(Train, Target,\n",
    "            ID = 'ID',\n",
    "            target_ID = True,\n",
    "            n = 1000,\n",
    "            n_grid = 1000,\n",
    "            view_nan = False,\n",
    "        scoring = 'roc_auc') "
   ]
  },
  {
   "cell_type": "code",
   "execution_count": 11,
   "metadata": {},
   "outputs": [
    {
     "name": "stdout",
     "output_type": "stream",
     "text": [
      "Fitting 3 folds for each of 3 candidates, totalling 9 fits\n"
     ]
    },
    {
     "name": "stderr",
     "output_type": "stream",
     "text": [
      "[Parallel(n_jobs=-1)]: Done   9 out of   9 | elapsed:  3.0min finished\n"
     ]
    },
    {
     "name": "stdout",
     "output_type": "stream",
     "text": [
      "\n",
      " Best hyperparametres : {'n_estimators': 100}\n",
      "\n",
      " Giving this roc_auc score : 0.718\n"
     ]
    }
   ],
   "source": [
    "clf.Bagg_fit(Train, Target, n_estimators = [10,20,100], ID = 'ID', metric = 'roc_auc', n = 500)"
   ]
  },
  {
   "cell_type": "markdown",
   "metadata": {},
   "source": [
    "### Regression"
   ]
  },
  {
   "cell_type": "code",
   "execution_count": 12,
   "metadata": {},
   "outputs": [],
   "source": [
    "Train = pd.read_csv(r\"C:\\Users\\jecombe\\OneDrive - Capgemini\\Notebooks\\input_training.csv\", sep = ';')\n",
    "Target = pd.read_csv(r\"C:\\Users\\jecombe\\OneDrive - Capgemini\\Notebooks\\Target_Engie.csv\", sep = ';')"
   ]
  },
  {
   "cell_type": "code",
   "execution_count": 13,
   "metadata": {},
   "outputs": [
    {
     "name": "stdout",
     "output_type": "stream",
     "text": [
      "Missing Values :\n",
      "\n",
      "                                Total          %\n",
      "Grid_voltage                   101322  16.411451\n",
      "Grid_voltage_std               101322  16.411451\n",
      "Grid_voltage_max               101322  16.411451\n",
      "Grid_voltage_min               101322  16.411451\n",
      "Gearbox_inlet_temperature        8064   1.306152\n",
      "Generator_converter_speed        8064   1.306152\n",
      "Generator_converter_speed_min    8064   1.306152\n",
      "Generator_converter_speed_max    8064   1.306152\n",
      "Generator_converter_speed_std    8064   1.306152\n",
      "Gearbox_inlet_temperature_min    8064   1.306152\n",
      "Gearbox_inlet_temperature_max    8064   1.306152\n",
      "Gearbox_inlet_temperature_std    8064   1.306152\n",
      "Absolute_wind_direction_c          72   0.011662\n",
      "Nacelle_angle_c                    72   0.011662 \n",
      "\n",
      "NaN data filled by 0 \n",
      "\n",
      "Searching for the best regressor on 500 data using r2 loss... \n",
      "\n",
      "\n",
      " Bagging: 0.9634 (+/- 0.0235)\n",
      "\n",
      " Gradient Boosting: 0.9721 (+/- 0.0141)\n",
      "\n",
      " XGBoost: 0.9666 (+/- 0.0235)\n",
      "\n",
      " Random Forest: 0.9708 (+/- 0.0170)\n",
      "\n",
      " Decision Tree: 0.9574 (+/- 0.0336)\n",
      "\n",
      " Extra Tree: 0.9653 (+/- 0.0192)\n",
      "\n",
      " KNN: 0.4415 (+/- 0.0731)\n",
      "\n",
      " SVM: -0.1587 (+/- 0.1594)\n",
      "\n",
      " Searching for the best hyperparametres of Gradient Boosting on 500 data among : \n",
      "\n",
      "{'n_estimators': [100, 300, 600], 'max_depth': [5, 10, None], 'learning_rate': [0.001, 0.01, 0.1], 'loss': ['ls', 'lad']} \n",
      "\n",
      "Fitting 3 folds for each of 54 candidates, totalling 162 fits\n"
     ]
    },
    {
     "name": "stderr",
     "output_type": "stream",
     "text": [
      "[Parallel(n_jobs=-1)]: Done  42 tasks      | elapsed:   39.2s\n",
      "[Parallel(n_jobs=-1)]: Done 162 out of 162 | elapsed:  2.5min finished\n"
     ]
    },
    {
     "name": "stdout",
     "output_type": "stream",
     "text": [
      "\n",
      " Finally, the best estimator is : Gradient Boosting regressor\n",
      "\n",
      " Using these hyperparametres : {'learning_rate': 0.01, 'loss': 'ls', 'max_depth': 5, 'n_estimators': 600}\n",
      "\n",
      " With this r2 score : 0.9750078443220153\n"
     ]
    }
   ],
   "source": [
    "clf = BestEstimator(type_esti = 'regressor', \n",
    "                 cv = 3, \n",
    "                 grid = True, \n",
    "                 hard_grid = False,\n",
    "                 cv_grid = 3)\n",
    "\n",
    "clf.fit(Train, Target,\n",
    "            ID = 'ID',\n",
    "            target_ID = True,\n",
    "            n = 500,\n",
    "            n_grid = 500,\n",
    "            view_nan = True,\n",
    "        scoring = 'r2') "
   ]
  },
  {
   "cell_type": "code",
   "execution_count": 14,
   "metadata": {},
   "outputs": [
    {
     "name": "stdout",
     "output_type": "stream",
     "text": [
      "Fitting 3 folds for each of 2 candidates, totalling 6 fits\n"
     ]
    },
    {
     "name": "stderr",
     "output_type": "stream",
     "text": [
      "[Parallel(n_jobs=-1)]: Done   6 out of   6 | elapsed:   43.7s remaining:    0.0s\n",
      "[Parallel(n_jobs=-1)]: Done   6 out of   6 | elapsed:   43.7s finished\n"
     ]
    },
    {
     "name": "stdout",
     "output_type": "stream",
     "text": [
      "\n",
      " Best hyperparametres : {'n_estimators': 20}\n",
      "\n",
      " Giving this r2 score : 0.1628245956749507\n"
     ]
    }
   ],
   "source": [
    "clf.Bagg_fit(Train, Target, n_estimators = [10,20], ID = 'ID', metric = 'r2', n = 500, type_esti = 'Regressor')"
   ]
  },
  {
   "cell_type": "code",
   "execution_count": null,
   "metadata": {},
   "outputs": [],
   "source": []
  }
 ],
 "metadata": {
  "kernelspec": {
   "display_name": "Python 3",
   "language": "python",
   "name": "python3"
  },
  "language_info": {
   "codemirror_mode": {
    "name": "ipython",
    "version": 3
   },
   "file_extension": ".py",
   "mimetype": "text/x-python",
   "name": "python",
   "nbconvert_exporter": "python",
   "pygments_lexer": "ipython3",
   "version": "3.7.0"
  }
 },
 "nbformat": 4,
 "nbformat_minor": 2
}
