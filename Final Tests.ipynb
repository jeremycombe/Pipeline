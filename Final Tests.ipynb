{
 "cells": [
  {
   "cell_type": "markdown",
   "metadata": {},
   "source": [
    "# Datasets"
   ]
  },
  {
   "cell_type": "code",
   "execution_count": 1,
   "metadata": {},
   "outputs": [
    {
     "name": "stderr",
     "output_type": "stream",
     "text": [
      "C:\\ProgramData\\Anaconda3\\lib\\site-packages\\sklearn\\ensemble\\weight_boosting.py:29: DeprecationWarning: numpy.core.umath_tests is an internal NumPy module and should not be imported. It will be removed in a future NumPy release.\n",
      "  from numpy.core.umath_tests import inner1d\n"
     ]
    }
   ],
   "source": [
    "%run -i bestestimator_v2.py"
   ]
  },
  {
   "cell_type": "markdown",
   "metadata": {},
   "source": [
    "### Multiclass"
   ]
  },
  {
   "cell_type": "code",
   "execution_count": 2,
   "metadata": {},
   "outputs": [],
   "source": [
    "Multi_Train = pd.read_csv(r\"C:\\Users\\jecombe\\OneDrive - Capgemini\\Notebooks\\Train.csv\", sep = ',')\n",
    "Multi_Target = pd.read_csv(r\"C:\\Users\\jecombe\\OneDrive - Capgemini\\Notebooks\\Target.csv\", sep = ';')"
   ]
  },
  {
   "cell_type": "code",
   "execution_count": 3,
   "metadata": {},
   "outputs": [
    {
     "data": {
      "text/html": [
       "<div>\n",
       "<style scoped>\n",
       "    .dataframe tbody tr th:only-of-type {\n",
       "        vertical-align: middle;\n",
       "    }\n",
       "\n",
       "    .dataframe tbody tr th {\n",
       "        vertical-align: top;\n",
       "    }\n",
       "\n",
       "    .dataframe thead th {\n",
       "        text-align: right;\n",
       "    }\n",
       "</style>\n",
       "<table border=\"1\" class=\"dataframe\">\n",
       "  <thead>\n",
       "    <tr style=\"text-align: right;\">\n",
       "      <th></th>\n",
       "      <th>ID</th>\n",
       "      <th>SHIPPING_MODE</th>\n",
       "      <th>SHIPPING_PRICE</th>\n",
       "      <th>WARRANTIES_FLG</th>\n",
       "      <th>WARRANTIES_PRICE</th>\n",
       "      <th>CARD_PAYMENT</th>\n",
       "      <th>COUPON_PAYMENT</th>\n",
       "      <th>RSP_PAYMENT</th>\n",
       "      <th>WALLET_PAYMENT</th>\n",
       "      <th>PRICECLUB_STATUS</th>\n",
       "      <th>...</th>\n",
       "      <th>BUYER_BIRTHDAY_DATE</th>\n",
       "      <th>BUYER_DEPARTMENT</th>\n",
       "      <th>BUYING_DATE</th>\n",
       "      <th>SELLER_SCORE_COUNT</th>\n",
       "      <th>SELLER_SCORE_AVERAGE</th>\n",
       "      <th>SELLER_COUNTRY</th>\n",
       "      <th>SELLER_DEPARTMENT</th>\n",
       "      <th>PRODUCT_TYPE</th>\n",
       "      <th>PRODUCT_FAMILY</th>\n",
       "      <th>ITEM_PRICE</th>\n",
       "    </tr>\n",
       "  </thead>\n",
       "  <tbody>\n",
       "    <tr>\n",
       "      <th>0</th>\n",
       "      <td>0</td>\n",
       "      <td>NORMAL</td>\n",
       "      <td>NaN</td>\n",
       "      <td>False</td>\n",
       "      <td>NaN</td>\n",
       "      <td>1</td>\n",
       "      <td>0</td>\n",
       "      <td>1</td>\n",
       "      <td>0</td>\n",
       "      <td>UNSUBSCRIBED</td>\n",
       "      <td>...</td>\n",
       "      <td>1992.0</td>\n",
       "      <td>34</td>\n",
       "      <td>3/2017</td>\n",
       "      <td>10000&lt;100000</td>\n",
       "      <td>46.0</td>\n",
       "      <td>FRANCE, METROPOLITAN</td>\n",
       "      <td>61</td>\n",
       "      <td>CELLPHONE_ACCESSORY</td>\n",
       "      <td>ELECTRONICS</td>\n",
       "      <td>&lt;10</td>\n",
       "    </tr>\n",
       "    <tr>\n",
       "      <th>1</th>\n",
       "      <td>1</td>\n",
       "      <td>NORMAL</td>\n",
       "      <td>NaN</td>\n",
       "      <td>False</td>\n",
       "      <td>NaN</td>\n",
       "      <td>1</td>\n",
       "      <td>0</td>\n",
       "      <td>0</td>\n",
       "      <td>0</td>\n",
       "      <td>UNSUBSCRIBED</td>\n",
       "      <td>...</td>\n",
       "      <td>1952.0</td>\n",
       "      <td>77</td>\n",
       "      <td>8/2017</td>\n",
       "      <td>10000&lt;100000</td>\n",
       "      <td>45.0</td>\n",
       "      <td>FRANCE, METROPOLITAN</td>\n",
       "      <td>30</td>\n",
       "      <td>CELLPHONE_ACCESSORY</td>\n",
       "      <td>ELECTRONICS</td>\n",
       "      <td>&lt;10</td>\n",
       "    </tr>\n",
       "    <tr>\n",
       "      <th>2</th>\n",
       "      <td>2</td>\n",
       "      <td>NORMAL</td>\n",
       "      <td>NaN</td>\n",
       "      <td>False</td>\n",
       "      <td>NaN</td>\n",
       "      <td>0</td>\n",
       "      <td>0</td>\n",
       "      <td>0</td>\n",
       "      <td>1</td>\n",
       "      <td>PLATINUM</td>\n",
       "      <td>...</td>\n",
       "      <td>1991.0</td>\n",
       "      <td>58</td>\n",
       "      <td>5/2017</td>\n",
       "      <td>10000&lt;100000</td>\n",
       "      <td>43.0</td>\n",
       "      <td>CHINA</td>\n",
       "      <td>-1</td>\n",
       "      <td>TOYS</td>\n",
       "      <td>BABY</td>\n",
       "      <td>&lt;10</td>\n",
       "    </tr>\n",
       "  </tbody>\n",
       "</table>\n",
       "<p>3 rows × 22 columns</p>\n",
       "</div>"
      ],
      "text/plain": [
       "   ID SHIPPING_MODE SHIPPING_PRICE  WARRANTIES_FLG WARRANTIES_PRICE  \\\n",
       "0   0        NORMAL            NaN           False              NaN   \n",
       "1   1        NORMAL            NaN           False              NaN   \n",
       "2   2        NORMAL            NaN           False              NaN   \n",
       "\n",
       "   CARD_PAYMENT  COUPON_PAYMENT  RSP_PAYMENT  WALLET_PAYMENT PRICECLUB_STATUS  \\\n",
       "0             1               0            1               0     UNSUBSCRIBED   \n",
       "1             1               0            0               0     UNSUBSCRIBED   \n",
       "2             0               0            0               1         PLATINUM   \n",
       "\n",
       "     ...      BUYER_BIRTHDAY_DATE BUYER_DEPARTMENT  BUYING_DATE  \\\n",
       "0    ...                   1992.0               34       3/2017   \n",
       "1    ...                   1952.0               77       8/2017   \n",
       "2    ...                   1991.0               58       5/2017   \n",
       "\n",
       "   SELLER_SCORE_COUNT SELLER_SCORE_AVERAGE        SELLER_COUNTRY  \\\n",
       "0        10000<100000                 46.0  FRANCE, METROPOLITAN   \n",
       "1        10000<100000                 45.0  FRANCE, METROPOLITAN   \n",
       "2        10000<100000                 43.0                 CHINA   \n",
       "\n",
       "   SELLER_DEPARTMENT         PRODUCT_TYPE  PRODUCT_FAMILY ITEM_PRICE  \n",
       "0                 61  CELLPHONE_ACCESSORY     ELECTRONICS        <10  \n",
       "1                 30  CELLPHONE_ACCESSORY     ELECTRONICS        <10  \n",
       "2                 -1                 TOYS            BABY        <10  \n",
       "\n",
       "[3 rows x 22 columns]"
      ]
     },
     "execution_count": 3,
     "metadata": {},
     "output_type": "execute_result"
    }
   ],
   "source": [
    "Multi_Train.head(3)"
   ]
  },
  {
   "cell_type": "code",
   "execution_count": 4,
   "metadata": {},
   "outputs": [
    {
     "data": {
      "text/html": [
       "<div>\n",
       "<style scoped>\n",
       "    .dataframe tbody tr th:only-of-type {\n",
       "        vertical-align: middle;\n",
       "    }\n",
       "\n",
       "    .dataframe tbody tr th {\n",
       "        vertical-align: top;\n",
       "    }\n",
       "\n",
       "    .dataframe thead th {\n",
       "        text-align: right;\n",
       "    }\n",
       "</style>\n",
       "<table border=\"1\" class=\"dataframe\">\n",
       "  <thead>\n",
       "    <tr style=\"text-align: right;\">\n",
       "      <th></th>\n",
       "      <th>ID</th>\n",
       "      <th>CLAIM_TYPE</th>\n",
       "    </tr>\n",
       "  </thead>\n",
       "  <tbody>\n",
       "    <tr>\n",
       "      <th>0</th>\n",
       "      <td>0</td>\n",
       "      <td>DAMAGED</td>\n",
       "    </tr>\n",
       "    <tr>\n",
       "      <th>1</th>\n",
       "      <td>1</td>\n",
       "      <td>-</td>\n",
       "    </tr>\n",
       "    <tr>\n",
       "      <th>2</th>\n",
       "      <td>2</td>\n",
       "      <td>NOT_RECEIVED</td>\n",
       "    </tr>\n",
       "    <tr>\n",
       "      <th>3</th>\n",
       "      <td>3</td>\n",
       "      <td>-</td>\n",
       "    </tr>\n",
       "    <tr>\n",
       "      <th>4</th>\n",
       "      <td>4</td>\n",
       "      <td>WITHDRAWAL</td>\n",
       "    </tr>\n",
       "  </tbody>\n",
       "</table>\n",
       "</div>"
      ],
      "text/plain": [
       "   ID    CLAIM_TYPE\n",
       "0   0       DAMAGED\n",
       "1   1             -\n",
       "2   2  NOT_RECEIVED\n",
       "3   3             -\n",
       "4   4    WITHDRAWAL"
      ]
     },
     "execution_count": 4,
     "metadata": {},
     "output_type": "execute_result"
    }
   ],
   "source": [
    "Multi_Target.head(5)"
   ]
  },
  {
   "cell_type": "markdown",
   "metadata": {},
   "source": [
    "### fit method"
   ]
  },
  {
   "cell_type": "code",
   "execution_count": null,
   "metadata": {},
   "outputs": [
    {
     "name": "stdout",
     "output_type": "stream",
     "text": [
      "Missing Values :\n",
      "\n",
      "                      Total       %\n",
      "WARRANTIES_PRICE      96603  96.603\n",
      "SHIPPING_PRICE        67610  67.610\n",
      "BUYER_BIRTHDAY_DATE    5836   5.836\n",
      "SHIPPING_MODE           315   0.315\n",
      "PRICECLUB_STATUS         57   0.057\n",
      "SELLER_SCORE_AVERAGE      6   0.006\n",
      "SELLER_SCORE_COUNT        6   0.006 \n",
      "\n",
      "NaN data filled by 0 \n",
      "\n",
      "Searching for the best regressor on 1000 data using accuracy loss... \n",
      "\n",
      "\n",
      " Bagging: 0.4670 (+/- 0.0129)\n",
      "\n",
      " Gradient Boosting: 0.4671 (+/- 0.0166)\n"
     ]
    },
    {
     "name": "stderr",
     "output_type": "stream",
     "text": [
      "C:\\ProgramData\\Anaconda3\\lib\\site-packages\\sklearn\\preprocessing\\label.py:151: DeprecationWarning: The truth value of an empty array is ambiguous. Returning False, but in future this will result in an error. Use `array.size > 0` to check that an array is not empty.\n",
      "  if diff:\n",
      "C:\\ProgramData\\Anaconda3\\lib\\site-packages\\sklearn\\preprocessing\\label.py:151: DeprecationWarning: The truth value of an empty array is ambiguous. Returning False, but in future this will result in an error. Use `array.size > 0` to check that an array is not empty.\n",
      "  if diff:\n",
      "C:\\ProgramData\\Anaconda3\\lib\\site-packages\\sklearn\\preprocessing\\label.py:151: DeprecationWarning: The truth value of an empty array is ambiguous. Returning False, but in future this will result in an error. Use `array.size > 0` to check that an array is not empty.\n",
      "  if diff:\n"
     ]
    },
    {
     "name": "stdout",
     "output_type": "stream",
     "text": [
      "\n",
      " XGBoost: 0.4900 (+/- 0.0156)\n",
      "\n",
      " Random Forest: 0.4980 (+/- 0.0113)\n",
      "\n",
      " Decision Tree: 0.3460 (+/- 0.0227)\n",
      "\n",
      " Extra Tree: 0.4520 (+/- 0.0171)\n",
      "\n",
      " KNN: 0.4470 (+/- 0.0126)\n",
      "\n",
      " SVM: 0.4870 (+/- 0.0027)\n",
      "\n",
      " Searching for the best hyperparametres of Random Forest on 1000 data among : \n",
      "\n",
      "{'n_estimators': [10, 100, 300], 'max_depth': [5, 10, None], 'criterion': ['gini', 'entropy']} \n",
      "\n",
      "Fitting 3 folds for each of 18 candidates, totalling 54 fits\n"
     ]
    },
    {
     "name": "stderr",
     "output_type": "stream",
     "text": [
      "[Parallel(n_jobs=-1)]: Done  42 tasks      | elapsed:   13.4s\n"
     ]
    }
   ],
   "source": [
    "Multi = BestEstimator(hard_grid=False)\n",
    "Multi.fit(Multi_Train, Multi_Target, scoring = 'accuracy') "
   ]
  },
  {
   "cell_type": "code",
   "execution_count": null,
   "metadata": {},
   "outputs": [],
   "source": [
    "Multi.best_size(n=[100,200,300, 1000, 2000, 5000], metric = 'accuracy_score')"
   ]
  },
  {
   "cell_type": "markdown",
   "metadata": {},
   "source": [
    "### All pred methods"
   ]
  },
  {
   "cell_type": "code",
   "execution_count": null,
   "metadata": {},
   "outputs": [],
   "source": [
    "Multi.pred(Multi_Train[20:30], ID='ID', refit = True)"
   ]
  },
  {
   "cell_type": "code",
   "execution_count": null,
   "metadata": {},
   "outputs": [],
   "source": [
    "Multi.pred_grid(Multi_Train[0:10], ID='ID', value=0)"
   ]
  },
  {
   "cell_type": "code",
   "execution_count": null,
   "metadata": {},
   "outputs": [],
   "source": [
    "#Multi.pred_grid_proba(Multi_Train[0:10].drop(['ID'],axis = 1), ID = None)"
   ]
  },
  {
   "cell_type": "code",
   "execution_count": null,
   "metadata": {},
   "outputs": [],
   "source": [
    "#Multi.pred_grid_proba(Multi_Train[0:10].drop(['ID'],axis = 1), ID = None)"
   ]
  },
  {
   "cell_type": "markdown",
   "metadata": {},
   "source": [
    "### Bagg_fit method"
   ]
  },
  {
   "cell_type": "code",
   "execution_count": null,
   "metadata": {},
   "outputs": [],
   "source": [
    "Multi.Bagg_fit(Multi_Train, Multi_Target, n_estimators = [10,20,30], type_esti = 'Classifier', n = 1000,\n",
    "                 cv = 3, value = 0, ID = 'ID', metric = 'accuracy')"
   ]
  },
  {
   "cell_type": "markdown",
   "metadata": {},
   "source": [
    "### Binary class"
   ]
  },
  {
   "cell_type": "code",
   "execution_count": null,
   "metadata": {},
   "outputs": [],
   "source": [
    "Bin_Train = pd.read_csv(r\"C:\\Users\\jecombe\\OneDrive - Capgemini\\Notebooks\\Train1.csv\", sep = ';')\n",
    "target = pd.read_csv(r\"C:\\Users\\jecombe\\OneDrive - Capgemini\\Notebooks\\Target1.csv\", sep = ';')\n",
    "\n",
    "Bin_Target = pd.DataFrame()\n",
    "Bin_Target['ID'] = target['ID']\n",
    "Bin_Target['Target'] = [np.nan]*target.shape[0]\n",
    "\n",
    "\n",
    "for i in range(target.shape[0]):\n",
    "    if target['Target'][i] == 1:\n",
    "        Bin_Target['Target'][i] ='+'\n",
    "    else :\n",
    "        Bin_Target['Target'][i] ='-'\n",
    "        \n",
    "        "
   ]
  },
  {
   "cell_type": "code",
   "execution_count": null,
   "metadata": {},
   "outputs": [],
   "source": [
    "#Bin_Train = pd.read_csv(r\"C:\\Users\\jecombe\\OneDrive - Capgemini\\Notebooks\\Train1.csv\", sep = ';')\n",
    "#target = pd.read_csv(r\"C:\\Users\\jecombe\\OneDrive - Capgemini\\Notebooks\\Target1.csv\", sep = ';')\n",
    "\n",
    "#Bin_Train = Bin_Train[0:100]\n",
    "#target = target[0:100]\n",
    "\n",
    "#Bin_Target = pd.DataFrame()\n",
    "#Bin_Target['ID'] = target['ID']\n",
    "#Bin_Target['Target'] = [1]*target.shape[0]\n",
    "\n",
    "\n",
    "#for i in range(target.shape[0]):\n",
    "#    if target['Target'][i] == 0:\n",
    "#        Bin_Target['Target'][i] =-1"
   ]
  },
  {
   "cell_type": "code",
   "execution_count": null,
   "metadata": {},
   "outputs": [],
   "source": [
    "Bin_Train.head(3)"
   ]
  },
  {
   "cell_type": "code",
   "execution_count": null,
   "metadata": {},
   "outputs": [],
   "source": [
    "Bin_Target.head(10)"
   ]
  },
  {
   "cell_type": "markdown",
   "metadata": {},
   "source": [
    "### Fit method"
   ]
  },
  {
   "cell_type": "code",
   "execution_count": null,
   "metadata": {},
   "outputs": [],
   "source": [
    "Bin = BestEstimator()\n",
    "Bin.fit(Bin_Train, Bin_Target, scoring = 'roc_auc', n_grid = 100) "
   ]
  },
  {
   "cell_type": "code",
   "execution_count": null,
   "metadata": {},
   "outputs": [],
   "source": [
    "Bin.best_size(n=[100,200,300, 1000, 2000, 5000], metric = 'roc_auc_score')"
   ]
  },
  {
   "cell_type": "markdown",
   "metadata": {},
   "source": [
    "### pred_grid & pred methods"
   ]
  },
  {
   "cell_type": "code",
   "execution_count": null,
   "metadata": {},
   "outputs": [],
   "source": [
    "Bin.pred(Bin_Train[0:10], ID='ID', refit = True)"
   ]
  },
  {
   "cell_type": "code",
   "execution_count": null,
   "metadata": {},
   "outputs": [],
   "source": [
    "Bin.pred_grid(Bin_Train[0:10], ID='ID')"
   ]
  },
  {
   "cell_type": "code",
   "execution_count": null,
   "metadata": {},
   "outputs": [],
   "source": [
    "#Bin.pred_grid_proba(Bin_Train[0:10])"
   ]
  },
  {
   "cell_type": "code",
   "execution_count": null,
   "metadata": {},
   "outputs": [],
   "source": [
    "Bin.Bagg_fit(Bin_Train, Bin_Target, n_estimators = [10,20,30], type_esti = 'Classifier', n = 300,\n",
    "                 cv = 3, value = 0, ID = 'ID', metric = 'roc_auc')"
   ]
  },
  {
   "cell_type": "markdown",
   "metadata": {},
   "source": [
    "### Regression"
   ]
  },
  {
   "cell_type": "code",
   "execution_count": null,
   "metadata": {},
   "outputs": [],
   "source": [
    "Reg_Train = pd.read_csv(r\"C:\\Users\\jecombe\\OneDrive - Capgemini\\Notebooks\\input_training.csv\", sep = ';')\n",
    "Reg_Target = pd.read_csv(r\"C:\\Users\\jecombe\\OneDrive - Capgemini\\Notebooks\\Target_Engie.csv\", sep = ';')"
   ]
  },
  {
   "cell_type": "code",
   "execution_count": null,
   "metadata": {},
   "outputs": [],
   "source": [
    "Reg_Train.head(3)"
   ]
  },
  {
   "cell_type": "code",
   "execution_count": null,
   "metadata": {},
   "outputs": [],
   "source": [
    "Reg_Target.head(5)"
   ]
  },
  {
   "cell_type": "markdown",
   "metadata": {},
   "source": [
    "### fit method"
   ]
  },
  {
   "cell_type": "code",
   "execution_count": null,
   "metadata": {},
   "outputs": [],
   "source": [
    "Reg = BestEstimator(type_esti = 'Regressor')\n",
    "\n",
    "Reg.fit(Reg_Train, Reg_Target, scoring = 'r2', n_grid= 200) "
   ]
  },
  {
   "cell_type": "code",
   "execution_count": null,
   "metadata": {},
   "outputs": [],
   "source": [
    "Multi.best_size(n=[100,200,300, 1000, 2000, 5000], metric = 'r2')"
   ]
  },
  {
   "cell_type": "markdown",
   "metadata": {},
   "source": [
    "###  pred_grid & pred_grid methods"
   ]
  },
  {
   "cell_type": "code",
   "execution_count": null,
   "metadata": {},
   "outputs": [],
   "source": [
    "Reg.pred(Reg_Train[0:10], ID='ID')"
   ]
  },
  {
   "cell_type": "code",
   "execution_count": null,
   "metadata": {},
   "outputs": [],
   "source": [
    "#Reg.pred_grid(Reg_Train[0:10], ID='ID')"
   ]
  },
  {
   "cell_type": "markdown",
   "metadata": {},
   "source": [
    "### Bagg_fit method"
   ]
  },
  {
   "cell_type": "code",
   "execution_count": null,
   "metadata": {},
   "outputs": [],
   "source": [
    "Bin.Bagg_fit(Reg_Train, Reg_Target, n_estimators = [10,20,30], type_esti = 'Regressor', n = 300,\n",
    "                 cv = 3, value = 0, ID = 'ID', metric = 'r2')"
   ]
  },
  {
   "cell_type": "code",
   "execution_count": null,
   "metadata": {},
   "outputs": [],
   "source": []
  }
 ],
 "metadata": {
  "kernelspec": {
   "display_name": "Python 3",
   "language": "python",
   "name": "python3"
  },
  "language_info": {
   "codemirror_mode": {
    "name": "ipython",
    "version": 3
   },
   "file_extension": ".py",
   "mimetype": "text/x-python",
   "name": "python",
   "nbconvert_exporter": "python",
   "pygments_lexer": "ipython3",
   "version": "3.7.0"
  }
 },
 "nbformat": 4,
 "nbformat_minor": 2
}
