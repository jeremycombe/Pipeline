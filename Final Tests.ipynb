{
 "cells": [
  {
   "cell_type": "markdown",
   "metadata": {},
   "source": [
    "# Datasets"
   ]
  },
  {
   "cell_type": "code",
   "execution_count": 2,
   "metadata": {},
   "outputs": [
    {
     "name": "stderr",
     "output_type": "stream",
     "text": [
      "C:\\ProgramData\\Anaconda3\\lib\\site-packages\\sklearn\\ensemble\\weight_boosting.py:29: DeprecationWarning: numpy.core.umath_tests is an internal NumPy module and should not be imported. It will be removed in a future NumPy release.\n",
      "  from numpy.core.umath_tests import inner1d\n"
     ]
    }
   ],
   "source": [
    "%run -i bestestimator_v2.py"
   ]
  },
  {
   "cell_type": "markdown",
   "metadata": {},
   "source": [
    "### Multiclass"
   ]
  },
  {
   "cell_type": "code",
   "execution_count": 2,
   "metadata": {},
   "outputs": [],
   "source": [
    "Multi_Train = pd.read_csv(r\"C:\\Users\\jecombe\\OneDrive - Capgemini\\Notebooks\\Train.csv\", sep = ',')\n",
    "Multi_Target = pd.read_csv(r\"C:\\Users\\jecombe\\OneDrive - Capgemini\\Notebooks\\Target.csv\", sep = ';')"
   ]
  },
  {
   "cell_type": "code",
   "execution_count": 3,
   "metadata": {},
   "outputs": [
    {
     "data": {
      "text/html": [
       "<div>\n",
       "<style scoped>\n",
       "    .dataframe tbody tr th:only-of-type {\n",
       "        vertical-align: middle;\n",
       "    }\n",
       "\n",
       "    .dataframe tbody tr th {\n",
       "        vertical-align: top;\n",
       "    }\n",
       "\n",
       "    .dataframe thead th {\n",
       "        text-align: right;\n",
       "    }\n",
       "</style>\n",
       "<table border=\"1\" class=\"dataframe\">\n",
       "  <thead>\n",
       "    <tr style=\"text-align: right;\">\n",
       "      <th></th>\n",
       "      <th>ID</th>\n",
       "      <th>SHIPPING_MODE</th>\n",
       "      <th>SHIPPING_PRICE</th>\n",
       "      <th>WARRANTIES_FLG</th>\n",
       "      <th>WARRANTIES_PRICE</th>\n",
       "      <th>CARD_PAYMENT</th>\n",
       "      <th>COUPON_PAYMENT</th>\n",
       "      <th>RSP_PAYMENT</th>\n",
       "      <th>WALLET_PAYMENT</th>\n",
       "      <th>PRICECLUB_STATUS</th>\n",
       "      <th>...</th>\n",
       "      <th>BUYER_BIRTHDAY_DATE</th>\n",
       "      <th>BUYER_DEPARTMENT</th>\n",
       "      <th>BUYING_DATE</th>\n",
       "      <th>SELLER_SCORE_COUNT</th>\n",
       "      <th>SELLER_SCORE_AVERAGE</th>\n",
       "      <th>SELLER_COUNTRY</th>\n",
       "      <th>SELLER_DEPARTMENT</th>\n",
       "      <th>PRODUCT_TYPE</th>\n",
       "      <th>PRODUCT_FAMILY</th>\n",
       "      <th>ITEM_PRICE</th>\n",
       "    </tr>\n",
       "  </thead>\n",
       "  <tbody>\n",
       "    <tr>\n",
       "      <th>0</th>\n",
       "      <td>0</td>\n",
       "      <td>NORMAL</td>\n",
       "      <td>NaN</td>\n",
       "      <td>False</td>\n",
       "      <td>NaN</td>\n",
       "      <td>1</td>\n",
       "      <td>0</td>\n",
       "      <td>1</td>\n",
       "      <td>0</td>\n",
       "      <td>UNSUBSCRIBED</td>\n",
       "      <td>...</td>\n",
       "      <td>1992.0</td>\n",
       "      <td>34</td>\n",
       "      <td>3/2017</td>\n",
       "      <td>10000&lt;100000</td>\n",
       "      <td>46.0</td>\n",
       "      <td>FRANCE, METROPOLITAN</td>\n",
       "      <td>61</td>\n",
       "      <td>CELLPHONE_ACCESSORY</td>\n",
       "      <td>ELECTRONICS</td>\n",
       "      <td>&lt;10</td>\n",
       "    </tr>\n",
       "    <tr>\n",
       "      <th>1</th>\n",
       "      <td>1</td>\n",
       "      <td>NORMAL</td>\n",
       "      <td>NaN</td>\n",
       "      <td>False</td>\n",
       "      <td>NaN</td>\n",
       "      <td>1</td>\n",
       "      <td>0</td>\n",
       "      <td>0</td>\n",
       "      <td>0</td>\n",
       "      <td>UNSUBSCRIBED</td>\n",
       "      <td>...</td>\n",
       "      <td>1952.0</td>\n",
       "      <td>77</td>\n",
       "      <td>8/2017</td>\n",
       "      <td>10000&lt;100000</td>\n",
       "      <td>45.0</td>\n",
       "      <td>FRANCE, METROPOLITAN</td>\n",
       "      <td>30</td>\n",
       "      <td>CELLPHONE_ACCESSORY</td>\n",
       "      <td>ELECTRONICS</td>\n",
       "      <td>&lt;10</td>\n",
       "    </tr>\n",
       "    <tr>\n",
       "      <th>2</th>\n",
       "      <td>2</td>\n",
       "      <td>NORMAL</td>\n",
       "      <td>NaN</td>\n",
       "      <td>False</td>\n",
       "      <td>NaN</td>\n",
       "      <td>0</td>\n",
       "      <td>0</td>\n",
       "      <td>0</td>\n",
       "      <td>1</td>\n",
       "      <td>PLATINUM</td>\n",
       "      <td>...</td>\n",
       "      <td>1991.0</td>\n",
       "      <td>58</td>\n",
       "      <td>5/2017</td>\n",
       "      <td>10000&lt;100000</td>\n",
       "      <td>43.0</td>\n",
       "      <td>CHINA</td>\n",
       "      <td>-1</td>\n",
       "      <td>TOYS</td>\n",
       "      <td>BABY</td>\n",
       "      <td>&lt;10</td>\n",
       "    </tr>\n",
       "  </tbody>\n",
       "</table>\n",
       "<p>3 rows × 22 columns</p>\n",
       "</div>"
      ],
      "text/plain": [
       "   ID SHIPPING_MODE SHIPPING_PRICE  WARRANTIES_FLG WARRANTIES_PRICE  \\\n",
       "0   0        NORMAL            NaN           False              NaN   \n",
       "1   1        NORMAL            NaN           False              NaN   \n",
       "2   2        NORMAL            NaN           False              NaN   \n",
       "\n",
       "   CARD_PAYMENT  COUPON_PAYMENT  RSP_PAYMENT  WALLET_PAYMENT PRICECLUB_STATUS  \\\n",
       "0             1               0            1               0     UNSUBSCRIBED   \n",
       "1             1               0            0               0     UNSUBSCRIBED   \n",
       "2             0               0            0               1         PLATINUM   \n",
       "\n",
       "     ...      BUYER_BIRTHDAY_DATE BUYER_DEPARTMENT  BUYING_DATE  \\\n",
       "0    ...                   1992.0               34       3/2017   \n",
       "1    ...                   1952.0               77       8/2017   \n",
       "2    ...                   1991.0               58       5/2017   \n",
       "\n",
       "   SELLER_SCORE_COUNT SELLER_SCORE_AVERAGE        SELLER_COUNTRY  \\\n",
       "0        10000<100000                 46.0  FRANCE, METROPOLITAN   \n",
       "1        10000<100000                 45.0  FRANCE, METROPOLITAN   \n",
       "2        10000<100000                 43.0                 CHINA   \n",
       "\n",
       "   SELLER_DEPARTMENT         PRODUCT_TYPE  PRODUCT_FAMILY ITEM_PRICE  \n",
       "0                 61  CELLPHONE_ACCESSORY     ELECTRONICS        <10  \n",
       "1                 30  CELLPHONE_ACCESSORY     ELECTRONICS        <10  \n",
       "2                 -1                 TOYS            BABY        <10  \n",
       "\n",
       "[3 rows x 22 columns]"
      ]
     },
     "execution_count": 3,
     "metadata": {},
     "output_type": "execute_result"
    }
   ],
   "source": [
    "Multi_Train.head(3)"
   ]
  },
  {
   "cell_type": "code",
   "execution_count": 4,
   "metadata": {},
   "outputs": [
    {
     "data": {
      "text/html": [
       "<div>\n",
       "<style scoped>\n",
       "    .dataframe tbody tr th:only-of-type {\n",
       "        vertical-align: middle;\n",
       "    }\n",
       "\n",
       "    .dataframe tbody tr th {\n",
       "        vertical-align: top;\n",
       "    }\n",
       "\n",
       "    .dataframe thead th {\n",
       "        text-align: right;\n",
       "    }\n",
       "</style>\n",
       "<table border=\"1\" class=\"dataframe\">\n",
       "  <thead>\n",
       "    <tr style=\"text-align: right;\">\n",
       "      <th></th>\n",
       "      <th>ID</th>\n",
       "      <th>CLAIM_TYPE</th>\n",
       "    </tr>\n",
       "  </thead>\n",
       "  <tbody>\n",
       "    <tr>\n",
       "      <th>0</th>\n",
       "      <td>0</td>\n",
       "      <td>DAMAGED</td>\n",
       "    </tr>\n",
       "    <tr>\n",
       "      <th>1</th>\n",
       "      <td>1</td>\n",
       "      <td>-</td>\n",
       "    </tr>\n",
       "    <tr>\n",
       "      <th>2</th>\n",
       "      <td>2</td>\n",
       "      <td>NOT_RECEIVED</td>\n",
       "    </tr>\n",
       "    <tr>\n",
       "      <th>3</th>\n",
       "      <td>3</td>\n",
       "      <td>-</td>\n",
       "    </tr>\n",
       "    <tr>\n",
       "      <th>4</th>\n",
       "      <td>4</td>\n",
       "      <td>WITHDRAWAL</td>\n",
       "    </tr>\n",
       "  </tbody>\n",
       "</table>\n",
       "</div>"
      ],
      "text/plain": [
       "   ID    CLAIM_TYPE\n",
       "0   0       DAMAGED\n",
       "1   1             -\n",
       "2   2  NOT_RECEIVED\n",
       "3   3             -\n",
       "4   4    WITHDRAWAL"
      ]
     },
     "execution_count": 4,
     "metadata": {},
     "output_type": "execute_result"
    }
   ],
   "source": [
    "Multi_Target.head(5)"
   ]
  },
  {
   "cell_type": "markdown",
   "metadata": {},
   "source": [
    "### fit method"
   ]
  },
  {
   "cell_type": "code",
   "execution_count": 5,
   "metadata": {},
   "outputs": [
    {
     "name": "stdout",
     "output_type": "stream",
     "text": [
      "Missing Values :\n",
      "\n",
      "                      Total       %\n",
      "WARRANTIES_PRICE      96603  96.603\n",
      "SHIPPING_PRICE        67610  67.610\n",
      "BUYER_BIRTHDAY_DATE    5836   5.836\n",
      "SHIPPING_MODE           315   0.315\n",
      "PRICECLUB_STATUS         57   0.057\n",
      "SELLER_SCORE_AVERAGE      6   0.006\n",
      "SELLER_SCORE_COUNT        6   0.006 \n",
      "\n",
      "NaN data filled by 0 \n",
      "\n",
      "Searching for the best regressor on 1000 data using accuracy loss... \n",
      "\n",
      "\n",
      " Bagging: 0.4740 (+/- 0.0141)\n",
      "\n",
      " Gradient Boosting: 0.4701 (+/- 0.0173)\n"
     ]
    },
    {
     "name": "stderr",
     "output_type": "stream",
     "text": [
      "C:\\ProgramData\\Anaconda3\\lib\\site-packages\\sklearn\\preprocessing\\label.py:151: DeprecationWarning: The truth value of an empty array is ambiguous. Returning False, but in future this will result in an error. Use `array.size > 0` to check that an array is not empty.\n",
      "  if diff:\n",
      "C:\\ProgramData\\Anaconda3\\lib\\site-packages\\sklearn\\preprocessing\\label.py:151: DeprecationWarning: The truth value of an empty array is ambiguous. Returning False, but in future this will result in an error. Use `array.size > 0` to check that an array is not empty.\n",
      "  if diff:\n",
      "C:\\ProgramData\\Anaconda3\\lib\\site-packages\\sklearn\\preprocessing\\label.py:151: DeprecationWarning: The truth value of an empty array is ambiguous. Returning False, but in future this will result in an error. Use `array.size > 0` to check that an array is not empty.\n",
      "  if diff:\n"
     ]
    },
    {
     "name": "stdout",
     "output_type": "stream",
     "text": [
      "\n",
      " XGBoost: 0.4900 (+/- 0.0156)\n",
      "\n",
      " Random Forest: 0.5180 (+/- 0.0051)\n",
      "\n",
      " Decision Tree: 0.3670 (+/- 0.0098)\n",
      "\n",
      " Extra Tree: 0.4599 (+/- 0.0300)\n",
      "\n",
      " KNN: 0.4470 (+/- 0.0126)\n",
      "\n",
      " SVM: 0.4870 (+/- 0.0027)\n",
      "\n",
      " Searching for the best hyperparametres of Random Forest using hard_grid on 1000 data among : \n",
      "\n",
      "{'n_estimators': [10, 100, 300, 600, 1000, 1200], 'max_depth': [5, 10, 15, 20, 25], 'criterion': ['gini', 'entropy']} \n",
      "\n",
      "Fitting 3 folds for each of 60 candidates, totalling 180 fits\n"
     ]
    },
    {
     "name": "stderr",
     "output_type": "stream",
     "text": [
      "[Parallel(n_jobs=-1)]: Done  42 tasks      | elapsed:   35.6s\n",
      "[Parallel(n_jobs=-1)]: Done 180 out of 180 | elapsed:  2.5min finished\n"
     ]
    },
    {
     "name": "stdout",
     "output_type": "stream",
     "text": [
      "\n",
      " In the end, the best estimator is : Random Forest Classifier\n",
      "\n",
      " Using these hyperparametres : {'criterion': 'gini', 'max_depth': 15, 'n_estimators': 300}\n",
      "\n",
      " With this accuracy score : 0.522\n"
     ]
    },
    {
     "name": "stderr",
     "output_type": "stream",
     "text": [
      "C:\\ProgramData\\Anaconda3\\lib\\site-packages\\sklearn\\preprocessing\\label.py:151: DeprecationWarning: The truth value of an empty array is ambiguous. Returning False, but in future this will result in an error. Use `array.size > 0` to check that an array is not empty.\n",
      "  if diff:\n"
     ]
    }
   ],
   "source": [
    "Multi = BestEstimator(hard_grid=True)\n",
    "Multi.fit(Multi_Train, Multi_Target, scoring = 'accuracy') "
   ]
  },
  {
   "cell_type": "code",
   "execution_count": 6,
   "metadata": {},
   "outputs": [
    {
     "name": "stdout",
     "output_type": "stream",
     "text": [
      "Fitting on 100 data...\n",
      "100 datas -> accuracy_score = 0.4892902141957161 \n",
      "\n",
      "Fitting on 200 data...\n",
      "200 datas -> accuracy_score = 0.49700005999880004 \n",
      "\n",
      "Fitting on 300 data...\n",
      "300 datas -> accuracy_score = 0.495140097198056 \n",
      "\n",
      "Fitting on 1000 data...\n",
      "1000 datas -> accuracy_score = 0.501619967600648 \n",
      "\n",
      "Fitting on 2000 data...\n",
      "2000 datas -> accuracy_score = 0.5155996880062399 \n",
      "\n",
      "Fitting on 5000 data...\n",
      "5000 datas -> accuracy_score = 0.5275994480110398 \n",
      "\n",
      "\n",
      " In the end, the best data size is 5000 \n",
      "\n",
      " With this accuracy_score : 0.5275994480110398\n"
     ]
    }
   ],
   "source": [
    "Multi.best_size(n=[100,200,300, 1000, 2000, 5000], metric = 'accuracy_score')"
   ]
  },
  {
   "cell_type": "markdown",
   "metadata": {},
   "source": [
    "### All pred methods"
   ]
  },
  {
   "cell_type": "code",
   "execution_count": 7,
   "metadata": {},
   "outputs": [
    {
     "name": "stderr",
     "output_type": "stream",
     "text": [
      "C:\\ProgramData\\Anaconda3\\lib\\site-packages\\sklearn\\preprocessing\\label.py:151: DeprecationWarning: The truth value of an empty array is ambiguous. Returning False, but in future this will result in an error. Use `array.size > 0` to check that an array is not empty.\n",
      "  if diff:\n"
     ]
    },
    {
     "data": {
      "text/html": [
       "<div>\n",
       "<style scoped>\n",
       "    .dataframe tbody tr th:only-of-type {\n",
       "        vertical-align: middle;\n",
       "    }\n",
       "\n",
       "    .dataframe tbody tr th {\n",
       "        vertical-align: top;\n",
       "    }\n",
       "\n",
       "    .dataframe thead th {\n",
       "        text-align: right;\n",
       "    }\n",
       "</style>\n",
       "<table border=\"1\" class=\"dataframe\">\n",
       "  <thead>\n",
       "    <tr style=\"text-align: right;\">\n",
       "      <th></th>\n",
       "      <th>ID</th>\n",
       "      <th>Target</th>\n",
       "    </tr>\n",
       "  </thead>\n",
       "  <tbody>\n",
       "    <tr>\n",
       "      <th>20</th>\n",
       "      <td>20</td>\n",
       "      <td>-</td>\n",
       "    </tr>\n",
       "    <tr>\n",
       "      <th>21</th>\n",
       "      <td>21</td>\n",
       "      <td>-</td>\n",
       "    </tr>\n",
       "    <tr>\n",
       "      <th>22</th>\n",
       "      <td>22</td>\n",
       "      <td>-</td>\n",
       "    </tr>\n",
       "    <tr>\n",
       "      <th>23</th>\n",
       "      <td>23</td>\n",
       "      <td>-</td>\n",
       "    </tr>\n",
       "    <tr>\n",
       "      <th>24</th>\n",
       "      <td>24</td>\n",
       "      <td>-</td>\n",
       "    </tr>\n",
       "    <tr>\n",
       "      <th>25</th>\n",
       "      <td>25</td>\n",
       "      <td>-</td>\n",
       "    </tr>\n",
       "    <tr>\n",
       "      <th>26</th>\n",
       "      <td>26</td>\n",
       "      <td>-</td>\n",
       "    </tr>\n",
       "    <tr>\n",
       "      <th>27</th>\n",
       "      <td>27</td>\n",
       "      <td>-</td>\n",
       "    </tr>\n",
       "    <tr>\n",
       "      <th>28</th>\n",
       "      <td>28</td>\n",
       "      <td>-</td>\n",
       "    </tr>\n",
       "    <tr>\n",
       "      <th>29</th>\n",
       "      <td>29</td>\n",
       "      <td>-</td>\n",
       "    </tr>\n",
       "  </tbody>\n",
       "</table>\n",
       "</div>"
      ],
      "text/plain": [
       "    ID Target\n",
       "20  20      -\n",
       "21  21      -\n",
       "22  22      -\n",
       "23  23      -\n",
       "24  24      -\n",
       "25  25      -\n",
       "26  26      -\n",
       "27  27      -\n",
       "28  28      -\n",
       "29  29      -"
      ]
     },
     "execution_count": 7,
     "metadata": {},
     "output_type": "execute_result"
    }
   ],
   "source": [
    "Multi.pred(Multi_Train[20:30], ID='ID', refit = True)"
   ]
  },
  {
   "cell_type": "code",
   "execution_count": 8,
   "metadata": {},
   "outputs": [
    {
     "name": "stderr",
     "output_type": "stream",
     "text": [
      "C:\\ProgramData\\Anaconda3\\lib\\site-packages\\sklearn\\preprocessing\\label.py:151: DeprecationWarning: The truth value of an empty array is ambiguous. Returning False, but in future this will result in an error. Use `array.size > 0` to check that an array is not empty.\n",
      "  if diff:\n"
     ]
    },
    {
     "data": {
      "text/html": [
       "<div>\n",
       "<style scoped>\n",
       "    .dataframe tbody tr th:only-of-type {\n",
       "        vertical-align: middle;\n",
       "    }\n",
       "\n",
       "    .dataframe tbody tr th {\n",
       "        vertical-align: top;\n",
       "    }\n",
       "\n",
       "    .dataframe thead th {\n",
       "        text-align: right;\n",
       "    }\n",
       "</style>\n",
       "<table border=\"1\" class=\"dataframe\">\n",
       "  <thead>\n",
       "    <tr style=\"text-align: right;\">\n",
       "      <th></th>\n",
       "      <th>ID</th>\n",
       "      <th>Target</th>\n",
       "    </tr>\n",
       "  </thead>\n",
       "  <tbody>\n",
       "    <tr>\n",
       "      <th>0</th>\n",
       "      <td>0</td>\n",
       "      <td>-</td>\n",
       "    </tr>\n",
       "    <tr>\n",
       "      <th>1</th>\n",
       "      <td>1</td>\n",
       "      <td>-</td>\n",
       "    </tr>\n",
       "    <tr>\n",
       "      <th>2</th>\n",
       "      <td>2</td>\n",
       "      <td>-</td>\n",
       "    </tr>\n",
       "    <tr>\n",
       "      <th>3</th>\n",
       "      <td>3</td>\n",
       "      <td>SELLER_CANCEL_POSTERIORI</td>\n",
       "    </tr>\n",
       "    <tr>\n",
       "      <th>4</th>\n",
       "      <td>4</td>\n",
       "      <td>WITHDRAWAL</td>\n",
       "    </tr>\n",
       "    <tr>\n",
       "      <th>5</th>\n",
       "      <td>5</td>\n",
       "      <td>-</td>\n",
       "    </tr>\n",
       "    <tr>\n",
       "      <th>6</th>\n",
       "      <td>6</td>\n",
       "      <td>-</td>\n",
       "    </tr>\n",
       "    <tr>\n",
       "      <th>7</th>\n",
       "      <td>7</td>\n",
       "      <td>-</td>\n",
       "    </tr>\n",
       "    <tr>\n",
       "      <th>8</th>\n",
       "      <td>8</td>\n",
       "      <td>-</td>\n",
       "    </tr>\n",
       "    <tr>\n",
       "      <th>9</th>\n",
       "      <td>9</td>\n",
       "      <td>-</td>\n",
       "    </tr>\n",
       "  </tbody>\n",
       "</table>\n",
       "</div>"
      ],
      "text/plain": [
       "   ID                    Target\n",
       "0   0                         -\n",
       "1   1                         -\n",
       "2   2                         -\n",
       "3   3  SELLER_CANCEL_POSTERIORI\n",
       "4   4                WITHDRAWAL\n",
       "5   5                         -\n",
       "6   6                         -\n",
       "7   7                         -\n",
       "8   8                         -\n",
       "9   9                         -"
      ]
     },
     "execution_count": 8,
     "metadata": {},
     "output_type": "execute_result"
    }
   ],
   "source": [
    "Multi.pred_grid(Multi_Train[0:10], ID='ID', value=0)"
   ]
  },
  {
   "cell_type": "code",
   "execution_count": 9,
   "metadata": {},
   "outputs": [],
   "source": [
    "#Multi.pred_grid_proba(Multi_Train[0:10].drop(['ID'],axis = 1), ID = None)"
   ]
  },
  {
   "cell_type": "code",
   "execution_count": 10,
   "metadata": {},
   "outputs": [],
   "source": [
    "#Multi.pred_grid_proba(Multi_Train[0:10].drop(['ID'],axis = 1), ID = None)"
   ]
  },
  {
   "cell_type": "markdown",
   "metadata": {},
   "source": [
    "### Bagg_fit method"
   ]
  },
  {
   "cell_type": "code",
   "execution_count": 11,
   "metadata": {},
   "outputs": [
    {
     "name": "stdout",
     "output_type": "stream",
     "text": [
      "Fitting 3 folds for each of 3 candidates, totalling 9 fits\n"
     ]
    },
    {
     "name": "stderr",
     "output_type": "stream",
     "text": [
      "[Parallel(n_jobs=-1)]: Done   9 out of   9 | elapsed:  1.4min finished\n"
     ]
    },
    {
     "name": "stdout",
     "output_type": "stream",
     "text": [
      "\n",
      " Best hyperparametres : {'n_estimators': 10}\n",
      "\n",
      " Giving this accuracy score : 0.518\n"
     ]
    }
   ],
   "source": [
    "Multi.Bagg_fit(Multi_Train, Multi_Target, n_estimators = [10,20,30], type_esti = 'Classifier', n = 1000,\n",
    "                 cv = 3, value = 0, ID = 'ID', metric = 'accuracy')"
   ]
  },
  {
   "cell_type": "markdown",
   "metadata": {},
   "source": [
    "### Binary class"
   ]
  },
  {
   "cell_type": "code",
   "execution_count": 25,
   "metadata": {},
   "outputs": [
    {
     "name": "stderr",
     "output_type": "stream",
     "text": [
      "bestestimator_v2.py:11: SettingWithCopyWarning: \n",
      "A value is trying to be set on a copy of a slice from a DataFrame\n",
      "\n",
      "See the caveats in the documentation: http://pandas.pydata.org/pandas-docs/stable/indexing.html#indexing-view-versus-copy\n",
      "  from sklearn.tree import DecisionTreeClassifier, DecisionTreeRegressor\n",
      "C:\\ProgramData\\Anaconda3\\lib\\site-packages\\pandas\\core\\indexing.py:189: SettingWithCopyWarning: \n",
      "A value is trying to be set on a copy of a slice from a DataFrame\n",
      "\n",
      "See the caveats in the documentation: http://pandas.pydata.org/pandas-docs/stable/indexing.html#indexing-view-versus-copy\n",
      "  self._setitem_with_indexer(indexer, value)\n"
     ]
    }
   ],
   "source": [
    "Bin_Train = pd.read_csv(r\"C:\\Users\\jecombe\\OneDrive - Capgemini\\Notebooks\\Train1.csv\", sep = ';')\n",
    "target = pd.read_csv(r\"C:\\Users\\jecombe\\OneDrive - Capgemini\\Notebooks\\Target1.csv\", sep = ';')\n",
    "\n",
    "Bin_Target = pd.DataFrame()\n",
    "Bin_Target['ID'] = target['ID']\n",
    "Bin_Target['Target'] = [np.nan]*target.shape[0]\n",
    "\n",
    "\n",
    "for i in range(target.shape[0]):\n",
    "    if target['Target'][i] == 1:\n",
    "        Bin_Target['Target'][i] ='+'\n",
    "    else :\n",
    "        Bin_Target['Target'][i] ='-'\n",
    "        \n",
    "        "
   ]
  },
  {
   "cell_type": "code",
   "execution_count": 2,
   "metadata": {},
   "outputs": [],
   "source": [
    "Bin_Train = pd.read_csv(r\"C:\\Users\\jecombe\\OneDrive - Capgemini\\Notebooks\\Train1.csv\", sep = ';')\n",
    "Bin_Target = pd.read_csv(r\"C:\\Users\\jecombe\\OneDrive - Capgemini\\Notebooks\\Target1.csv\", sep = ';')"
   ]
  },
  {
   "cell_type": "code",
   "execution_count": 14,
   "metadata": {},
   "outputs": [
    {
     "data": {
      "text/html": [
       "<div>\n",
       "<style scoped>\n",
       "    .dataframe tbody tr th:only-of-type {\n",
       "        vertical-align: middle;\n",
       "    }\n",
       "\n",
       "    .dataframe tbody tr th {\n",
       "        vertical-align: top;\n",
       "    }\n",
       "\n",
       "    .dataframe thead th {\n",
       "        text-align: right;\n",
       "    }\n",
       "</style>\n",
       "<table border=\"1\" class=\"dataframe\">\n",
       "  <thead>\n",
       "    <tr style=\"text-align: right;\">\n",
       "      <th></th>\n",
       "      <th>ID</th>\n",
       "      <th>month</th>\n",
       "      <th>country</th>\n",
       "      <th>1_diffClosing stocks(kmt)</th>\n",
       "      <th>1_diffExports(kmt)</th>\n",
       "      <th>1_diffImports(kmt)</th>\n",
       "      <th>1_diffRefinery intake(kmt)</th>\n",
       "      <th>1_diffWTI</th>\n",
       "      <th>1_diffSumClosing stocks(kmt)</th>\n",
       "      <th>1_diffSumExports(kmt)</th>\n",
       "      <th>...</th>\n",
       "      <th>12_diffClosing stocks(kmt)</th>\n",
       "      <th>12_diffExports(kmt)</th>\n",
       "      <th>12_diffImports(kmt)</th>\n",
       "      <th>12_diffRefinery intake(kmt)</th>\n",
       "      <th>12_diffWTI</th>\n",
       "      <th>12_diffSumClosing stocks(kmt)</th>\n",
       "      <th>12_diffSumExports(kmt)</th>\n",
       "      <th>12_diffSumImports(kmt)</th>\n",
       "      <th>12_diffSumProduction(kmt)</th>\n",
       "      <th>12_diffSumRefinery intake(kmt)</th>\n",
       "    </tr>\n",
       "  </thead>\n",
       "  <tbody>\n",
       "    <tr>\n",
       "      <th>0</th>\n",
       "      <td>ID00001</td>\n",
       "      <td>5</td>\n",
       "      <td>52</td>\n",
       "      <td>0.0</td>\n",
       "      <td>237.0</td>\n",
       "      <td>0.0000</td>\n",
       "      <td>33.0000</td>\n",
       "      <td>-5.62</td>\n",
       "      <td>10426.2462</td>\n",
       "      <td>12135.1024</td>\n",
       "      <td>...</td>\n",
       "      <td>0.0</td>\n",
       "      <td>0.0</td>\n",
       "      <td>0.0000</td>\n",
       "      <td>14.0000</td>\n",
       "      <td>2.92</td>\n",
       "      <td>673.8569</td>\n",
       "      <td>-13007.1520</td>\n",
       "      <td>-5932.5482</td>\n",
       "      <td>-17130.8333</td>\n",
       "      <td>-13151.4560</td>\n",
       "    </tr>\n",
       "    <tr>\n",
       "      <th>1</th>\n",
       "      <td>ID00002</td>\n",
       "      <td>12</td>\n",
       "      <td>69</td>\n",
       "      <td>28.0</td>\n",
       "      <td>-34.0</td>\n",
       "      <td>60.0000</td>\n",
       "      <td>7.0000</td>\n",
       "      <td>-5.95</td>\n",
       "      <td>195.2005</td>\n",
       "      <td>7500.1033</td>\n",
       "      <td>...</td>\n",
       "      <td>-43.0</td>\n",
       "      <td>-129.0</td>\n",
       "      <td>-67.0000</td>\n",
       "      <td>-16.0000</td>\n",
       "      <td>-5.62</td>\n",
       "      <td>3217.0304</td>\n",
       "      <td>-6563.6422</td>\n",
       "      <td>-3587.5152</td>\n",
       "      <td>-13053.6586</td>\n",
       "      <td>-13005.0503</td>\n",
       "    </tr>\n",
       "    <tr>\n",
       "      <th>2</th>\n",
       "      <td>ID00003</td>\n",
       "      <td>5</td>\n",
       "      <td>74</td>\n",
       "      <td>0.0</td>\n",
       "      <td>0.0</td>\n",
       "      <td>-29.1227</td>\n",
       "      <td>-85.5816</td>\n",
       "      <td>-5.62</td>\n",
       "      <td>10426.2462</td>\n",
       "      <td>12135.1024</td>\n",
       "      <td>...</td>\n",
       "      <td>0.0</td>\n",
       "      <td>0.0</td>\n",
       "      <td>-17.8667</td>\n",
       "      <td>-13.2214</td>\n",
       "      <td>2.92</td>\n",
       "      <td>673.8569</td>\n",
       "      <td>-13007.1520</td>\n",
       "      <td>-5932.5482</td>\n",
       "      <td>-17130.8333</td>\n",
       "      <td>-13151.4560</td>\n",
       "    </tr>\n",
       "  </tbody>\n",
       "</table>\n",
       "<p>3 rows × 123 columns</p>\n",
       "</div>"
      ],
      "text/plain": [
       "        ID  month  country  1_diffClosing stocks(kmt)  1_diffExports(kmt)  \\\n",
       "0  ID00001      5       52                        0.0               237.0   \n",
       "1  ID00002     12       69                       28.0               -34.0   \n",
       "2  ID00003      5       74                        0.0                 0.0   \n",
       "\n",
       "   1_diffImports(kmt)  1_diffRefinery intake(kmt)  1_diffWTI  \\\n",
       "0              0.0000                     33.0000      -5.62   \n",
       "1             60.0000                      7.0000      -5.95   \n",
       "2            -29.1227                    -85.5816      -5.62   \n",
       "\n",
       "   1_diffSumClosing stocks(kmt)  1_diffSumExports(kmt)  \\\n",
       "0                    10426.2462             12135.1024   \n",
       "1                      195.2005              7500.1033   \n",
       "2                    10426.2462             12135.1024   \n",
       "\n",
       "                ...                12_diffClosing stocks(kmt)  \\\n",
       "0               ...                                       0.0   \n",
       "1               ...                                     -43.0   \n",
       "2               ...                                       0.0   \n",
       "\n",
       "   12_diffExports(kmt)  12_diffImports(kmt)  12_diffRefinery intake(kmt)  \\\n",
       "0                  0.0               0.0000                      14.0000   \n",
       "1               -129.0             -67.0000                     -16.0000   \n",
       "2                  0.0             -17.8667                     -13.2214   \n",
       "\n",
       "   12_diffWTI  12_diffSumClosing stocks(kmt)  12_diffSumExports(kmt)  \\\n",
       "0        2.92                       673.8569             -13007.1520   \n",
       "1       -5.62                      3217.0304              -6563.6422   \n",
       "2        2.92                       673.8569             -13007.1520   \n",
       "\n",
       "   12_diffSumImports(kmt)  12_diffSumProduction(kmt)  \\\n",
       "0              -5932.5482                -17130.8333   \n",
       "1              -3587.5152                -13053.6586   \n",
       "2              -5932.5482                -17130.8333   \n",
       "\n",
       "   12_diffSumRefinery intake(kmt)  \n",
       "0                     -13151.4560  \n",
       "1                     -13005.0503  \n",
       "2                     -13151.4560  \n",
       "\n",
       "[3 rows x 123 columns]"
      ]
     },
     "execution_count": 14,
     "metadata": {},
     "output_type": "execute_result"
    }
   ],
   "source": [
    "Bin_Train.head(3)"
   ]
  },
  {
   "cell_type": "code",
   "execution_count": 29,
   "metadata": {},
   "outputs": [
    {
     "data": {
      "text/html": [
       "<div>\n",
       "<style scoped>\n",
       "    .dataframe tbody tr th:only-of-type {\n",
       "        vertical-align: middle;\n",
       "    }\n",
       "\n",
       "    .dataframe tbody tr th {\n",
       "        vertical-align: top;\n",
       "    }\n",
       "\n",
       "    .dataframe thead th {\n",
       "        text-align: right;\n",
       "    }\n",
       "</style>\n",
       "<table border=\"1\" class=\"dataframe\">\n",
       "  <thead>\n",
       "    <tr style=\"text-align: right;\">\n",
       "      <th></th>\n",
       "      <th>ID</th>\n",
       "      <th>Target</th>\n",
       "    </tr>\n",
       "  </thead>\n",
       "  <tbody>\n",
       "    <tr>\n",
       "      <th>0</th>\n",
       "      <td>ID00001</td>\n",
       "      <td>1</td>\n",
       "    </tr>\n",
       "    <tr>\n",
       "      <th>1</th>\n",
       "      <td>ID00002</td>\n",
       "      <td>0</td>\n",
       "    </tr>\n",
       "    <tr>\n",
       "      <th>2</th>\n",
       "      <td>ID00003</td>\n",
       "      <td>0</td>\n",
       "    </tr>\n",
       "    <tr>\n",
       "      <th>3</th>\n",
       "      <td>ID00004</td>\n",
       "      <td>0</td>\n",
       "    </tr>\n",
       "    <tr>\n",
       "      <th>4</th>\n",
       "      <td>ID00005</td>\n",
       "      <td>1</td>\n",
       "    </tr>\n",
       "    <tr>\n",
       "      <th>5</th>\n",
       "      <td>ID00006</td>\n",
       "      <td>1</td>\n",
       "    </tr>\n",
       "    <tr>\n",
       "      <th>6</th>\n",
       "      <td>ID00007</td>\n",
       "      <td>0</td>\n",
       "    </tr>\n",
       "    <tr>\n",
       "      <th>7</th>\n",
       "      <td>ID00008</td>\n",
       "      <td>0</td>\n",
       "    </tr>\n",
       "    <tr>\n",
       "      <th>8</th>\n",
       "      <td>ID00009</td>\n",
       "      <td>0</td>\n",
       "    </tr>\n",
       "    <tr>\n",
       "      <th>9</th>\n",
       "      <td>ID00010</td>\n",
       "      <td>0</td>\n",
       "    </tr>\n",
       "  </tbody>\n",
       "</table>\n",
       "</div>"
      ],
      "text/plain": [
       "        ID  Target\n",
       "0  ID00001       1\n",
       "1  ID00002       0\n",
       "2  ID00003       0\n",
       "3  ID00004       0\n",
       "4  ID00005       1\n",
       "5  ID00006       1\n",
       "6  ID00007       0\n",
       "7  ID00008       0\n",
       "8  ID00009       0\n",
       "9  ID00010       0"
      ]
     },
     "execution_count": 29,
     "metadata": {},
     "output_type": "execute_result"
    }
   ],
   "source": [
    "Bin_Target.head(10)"
   ]
  },
  {
   "cell_type": "markdown",
   "metadata": {},
   "source": [
    "### Fit method"
   ]
  },
  {
   "cell_type": "code",
   "execution_count": 1,
   "metadata": {},
   "outputs": [
    {
     "ename": "NameError",
     "evalue": "name 'BestEstimator' is not defined",
     "output_type": "error",
     "traceback": [
      "\u001b[1;31m---------------------------------------------------------------------------\u001b[0m",
      "\u001b[1;31mNameError\u001b[0m                                 Traceback (most recent call last)",
      "\u001b[1;32m<ipython-input-1-e12d1322aa02>\u001b[0m in \u001b[0;36m<module>\u001b[1;34m()\u001b[0m\n\u001b[1;32m----> 1\u001b[1;33m \u001b[0mBin\u001b[0m \u001b[1;33m=\u001b[0m \u001b[0mBestEstimator\u001b[0m\u001b[1;33m(\u001b[0m\u001b[0mhard_grid\u001b[0m\u001b[1;33m=\u001b[0m\u001b[1;32mFalse\u001b[0m\u001b[1;33m)\u001b[0m\u001b[1;33m\u001b[0m\u001b[0m\n\u001b[0m\u001b[0;32m      2\u001b[0m \u001b[0mBin\u001b[0m\u001b[1;33m.\u001b[0m\u001b[0mfit\u001b[0m\u001b[1;33m(\u001b[0m\u001b[0mBin_Train\u001b[0m\u001b[1;33m,\u001b[0m \u001b[0mBin_Target\u001b[0m\u001b[1;33m,\u001b[0m \u001b[0mscoring\u001b[0m \u001b[1;33m=\u001b[0m \u001b[1;34m'roc_auc'\u001b[0m\u001b[1;33m,\u001b[0m \u001b[0mn_grid\u001b[0m \u001b[1;33m=\u001b[0m \u001b[1;36m100\u001b[0m\u001b[1;33m)\u001b[0m\u001b[1;33m\u001b[0m\u001b[0m\n",
      "\u001b[1;31mNameError\u001b[0m: name 'BestEstimator' is not defined"
     ]
    }
   ],
   "source": [
    "Bin = BestEstimator(hard_grid=False)\n",
    "Bin.fit(Bin_Train, Bin_Target, scoring = 'roc_auc', n_grid = 100) "
   ]
  },
  {
   "cell_type": "code",
   "execution_count": null,
   "metadata": {},
   "outputs": [],
   "source": [
    "Bin.best_size(n=[100,200,300, 1000, 2000, 5000], metric = 'roc_auc_score')"
   ]
  },
  {
   "cell_type": "markdown",
   "metadata": {},
   "source": [
    "### pred_grid & pred methods"
   ]
  },
  {
   "cell_type": "code",
   "execution_count": null,
   "metadata": {},
   "outputs": [],
   "source": [
    "Bin.pred(Bin_Train[0:10], ID='ID', refit = True)"
   ]
  },
  {
   "cell_type": "code",
   "execution_count": null,
   "metadata": {},
   "outputs": [],
   "source": [
    "Bin.pred_grid(Bin_Train[0:10], ID='ID')"
   ]
  },
  {
   "cell_type": "code",
   "execution_count": 20,
   "metadata": {},
   "outputs": [],
   "source": [
    "#Bin.pred_grid_proba(Bin_Train[0:10])"
   ]
  },
  {
   "cell_type": "code",
   "execution_count": 21,
   "metadata": {},
   "outputs": [
    {
     "name": "stdout",
     "output_type": "stream",
     "text": [
      "Fitting 3 folds for each of 3 candidates, totalling 9 fits\n"
     ]
    },
    {
     "name": "stderr",
     "output_type": "stream",
     "text": [
      "[Parallel(n_jobs=-1)]: Done   9 out of   9 | elapsed:  1.1min finished\n"
     ]
    },
    {
     "name": "stdout",
     "output_type": "stream",
     "text": [
      "\n",
      " Best hyperparametres : {'n_estimators': 30}\n",
      "\n",
      " Giving this roc_auc score : 0.7817005494505496\n"
     ]
    }
   ],
   "source": [
    "Bin.Bagg_fit(Bin_Train, Bin_Target, n_estimators = [10,20,30], type_esti = 'Classifier', n = 300,\n",
    "                 cv = 3, value = 0, ID = 'ID', metric = 'roc_auc')"
   ]
  },
  {
   "cell_type": "markdown",
   "metadata": {},
   "source": [
    "### Regression"
   ]
  },
  {
   "cell_type": "code",
   "execution_count": 2,
   "metadata": {},
   "outputs": [],
   "source": [
    "Reg_Train = pd.read_csv(r\"C:\\Users\\jecombe\\OneDrive - Capgemini\\Notebooks\\input_training.csv\", sep = ';')\n",
    "Reg_Target = pd.read_csv(r\"C:\\Users\\jecombe\\OneDrive - Capgemini\\Notebooks\\Target_Engie.csv\", sep = ';')"
   ]
  },
  {
   "cell_type": "code",
   "execution_count": 23,
   "metadata": {},
   "outputs": [
    {
     "data": {
      "text/html": [
       "<div>\n",
       "<style scoped>\n",
       "    .dataframe tbody tr th:only-of-type {\n",
       "        vertical-align: middle;\n",
       "    }\n",
       "\n",
       "    .dataframe tbody tr th {\n",
       "        vertical-align: top;\n",
       "    }\n",
       "\n",
       "    .dataframe thead th {\n",
       "        text-align: right;\n",
       "    }\n",
       "</style>\n",
       "<table border=\"1\" class=\"dataframe\">\n",
       "  <thead>\n",
       "    <tr style=\"text-align: right;\">\n",
       "      <th></th>\n",
       "      <th>ID</th>\n",
       "      <th>MAC_CODE</th>\n",
       "      <th>Date_time</th>\n",
       "      <th>Pitch_angle</th>\n",
       "      <th>Pitch_angle_min</th>\n",
       "      <th>Pitch_angle_max</th>\n",
       "      <th>Pitch_angle_std</th>\n",
       "      <th>Hub_temperature</th>\n",
       "      <th>Hub_temperature_min</th>\n",
       "      <th>Hub_temperature_max</th>\n",
       "      <th>...</th>\n",
       "      <th>Rotor_speed</th>\n",
       "      <th>Rotor_speed_min</th>\n",
       "      <th>Rotor_speed_max</th>\n",
       "      <th>Rotor_speed_std</th>\n",
       "      <th>Rotor_bearing_temperature</th>\n",
       "      <th>Rotor_bearing_temperature_min</th>\n",
       "      <th>Rotor_bearing_temperature_max</th>\n",
       "      <th>Rotor_bearing_temperature_std</th>\n",
       "      <th>Absolute_wind_direction_c</th>\n",
       "      <th>Nacelle_angle_c</th>\n",
       "    </tr>\n",
       "  </thead>\n",
       "  <tbody>\n",
       "    <tr>\n",
       "      <th>0</th>\n",
       "      <td>1</td>\n",
       "      <td>WT3</td>\n",
       "      <td>1.0</td>\n",
       "      <td>92.470001</td>\n",
       "      <td>92.470001</td>\n",
       "      <td>92.470001</td>\n",
       "      <td>0.0</td>\n",
       "      <td>7.0</td>\n",
       "      <td>7.0</td>\n",
       "      <td>7.0</td>\n",
       "      <td>...</td>\n",
       "      <td>0.0</td>\n",
       "      <td>0.0</td>\n",
       "      <td>0.0</td>\n",
       "      <td>0.0</td>\n",
       "      <td>2.4</td>\n",
       "      <td>2.4</td>\n",
       "      <td>2.4</td>\n",
       "      <td>0.0</td>\n",
       "      <td>294.19000</td>\n",
       "      <td>294.23999</td>\n",
       "    </tr>\n",
       "    <tr>\n",
       "      <th>1</th>\n",
       "      <td>2</td>\n",
       "      <td>WT3</td>\n",
       "      <td>2.0</td>\n",
       "      <td>92.470001</td>\n",
       "      <td>92.470001</td>\n",
       "      <td>92.470001</td>\n",
       "      <td>0.0</td>\n",
       "      <td>7.0</td>\n",
       "      <td>7.0</td>\n",
       "      <td>7.0</td>\n",
       "      <td>...</td>\n",
       "      <td>0.0</td>\n",
       "      <td>0.0</td>\n",
       "      <td>0.0</td>\n",
       "      <td>0.0</td>\n",
       "      <td>2.4</td>\n",
       "      <td>2.4</td>\n",
       "      <td>2.4</td>\n",
       "      <td>0.0</td>\n",
       "      <td>297.82999</td>\n",
       "      <td>294.23999</td>\n",
       "    </tr>\n",
       "    <tr>\n",
       "      <th>2</th>\n",
       "      <td>3</td>\n",
       "      <td>WT3</td>\n",
       "      <td>3.0</td>\n",
       "      <td>92.470001</td>\n",
       "      <td>92.470001</td>\n",
       "      <td>92.470001</td>\n",
       "      <td>0.0</td>\n",
       "      <td>7.0</td>\n",
       "      <td>7.0</td>\n",
       "      <td>7.0</td>\n",
       "      <td>...</td>\n",
       "      <td>0.0</td>\n",
       "      <td>0.0</td>\n",
       "      <td>0.0</td>\n",
       "      <td>0.0</td>\n",
       "      <td>2.4</td>\n",
       "      <td>2.4</td>\n",
       "      <td>2.4</td>\n",
       "      <td>0.0</td>\n",
       "      <td>322.20999</td>\n",
       "      <td>294.23999</td>\n",
       "    </tr>\n",
       "  </tbody>\n",
       "</table>\n",
       "<p>3 rows × 78 columns</p>\n",
       "</div>"
      ],
      "text/plain": [
       "   ID MAC_CODE  Date_time  Pitch_angle  Pitch_angle_min  Pitch_angle_max  \\\n",
       "0   1      WT3        1.0    92.470001        92.470001        92.470001   \n",
       "1   2      WT3        2.0    92.470001        92.470001        92.470001   \n",
       "2   3      WT3        3.0    92.470001        92.470001        92.470001   \n",
       "\n",
       "   Pitch_angle_std  Hub_temperature  Hub_temperature_min  Hub_temperature_max  \\\n",
       "0              0.0              7.0                  7.0                  7.0   \n",
       "1              0.0              7.0                  7.0                  7.0   \n",
       "2              0.0              7.0                  7.0                  7.0   \n",
       "\n",
       "        ...         Rotor_speed  Rotor_speed_min  Rotor_speed_max  \\\n",
       "0       ...                 0.0              0.0              0.0   \n",
       "1       ...                 0.0              0.0              0.0   \n",
       "2       ...                 0.0              0.0              0.0   \n",
       "\n",
       "   Rotor_speed_std  Rotor_bearing_temperature  Rotor_bearing_temperature_min  \\\n",
       "0              0.0                        2.4                            2.4   \n",
       "1              0.0                        2.4                            2.4   \n",
       "2              0.0                        2.4                            2.4   \n",
       "\n",
       "   Rotor_bearing_temperature_max  Rotor_bearing_temperature_std  \\\n",
       "0                            2.4                            0.0   \n",
       "1                            2.4                            0.0   \n",
       "2                            2.4                            0.0   \n",
       "\n",
       "   Absolute_wind_direction_c  Nacelle_angle_c  \n",
       "0                  294.19000        294.23999  \n",
       "1                  297.82999        294.23999  \n",
       "2                  322.20999        294.23999  \n",
       "\n",
       "[3 rows x 78 columns]"
      ]
     },
     "execution_count": 23,
     "metadata": {},
     "output_type": "execute_result"
    }
   ],
   "source": [
    "Reg_Train.head(3)"
   ]
  },
  {
   "cell_type": "code",
   "execution_count": 24,
   "metadata": {},
   "outputs": [
    {
     "data": {
      "text/html": [
       "<div>\n",
       "<style scoped>\n",
       "    .dataframe tbody tr th:only-of-type {\n",
       "        vertical-align: middle;\n",
       "    }\n",
       "\n",
       "    .dataframe tbody tr th {\n",
       "        vertical-align: top;\n",
       "    }\n",
       "\n",
       "    .dataframe thead th {\n",
       "        text-align: right;\n",
       "    }\n",
       "</style>\n",
       "<table border=\"1\" class=\"dataframe\">\n",
       "  <thead>\n",
       "    <tr style=\"text-align: right;\">\n",
       "      <th></th>\n",
       "      <th>ID</th>\n",
       "      <th>TARGET</th>\n",
       "    </tr>\n",
       "  </thead>\n",
       "  <tbody>\n",
       "    <tr>\n",
       "      <th>0</th>\n",
       "      <td>1</td>\n",
       "      <td>-0.703</td>\n",
       "    </tr>\n",
       "    <tr>\n",
       "      <th>1</th>\n",
       "      <td>2</td>\n",
       "      <td>-0.747</td>\n",
       "    </tr>\n",
       "    <tr>\n",
       "      <th>2</th>\n",
       "      <td>3</td>\n",
       "      <td>-0.791</td>\n",
       "    </tr>\n",
       "    <tr>\n",
       "      <th>3</th>\n",
       "      <td>4</td>\n",
       "      <td>-0.736</td>\n",
       "    </tr>\n",
       "    <tr>\n",
       "      <th>4</th>\n",
       "      <td>5</td>\n",
       "      <td>-1.055</td>\n",
       "    </tr>\n",
       "  </tbody>\n",
       "</table>\n",
       "</div>"
      ],
      "text/plain": [
       "   ID  TARGET\n",
       "0   1  -0.703\n",
       "1   2  -0.747\n",
       "2   3  -0.791\n",
       "3   4  -0.736\n",
       "4   5  -1.055"
      ]
     },
     "execution_count": 24,
     "metadata": {},
     "output_type": "execute_result"
    }
   ],
   "source": [
    "Reg_Target.head(5)"
   ]
  },
  {
   "cell_type": "markdown",
   "metadata": {},
   "source": [
    "### fit method"
   ]
  },
  {
   "cell_type": "code",
   "execution_count": 23,
   "metadata": {},
   "outputs": [
    {
     "name": "stdout",
     "output_type": "stream",
     "text": [
      "Missing Values :\n",
      "\n",
      "                                Total          %\n",
      "Grid_voltage                   101322  16.411451\n",
      "Grid_voltage_std               101322  16.411451\n",
      "Grid_voltage_max               101322  16.411451\n",
      "Grid_voltage_min               101322  16.411451\n",
      "Gearbox_inlet_temperature        8064   1.306152\n",
      "Generator_converter_speed        8064   1.306152\n",
      "Generator_converter_speed_min    8064   1.306152\n",
      "Generator_converter_speed_max    8064   1.306152\n",
      "Generator_converter_speed_std    8064   1.306152\n",
      "Gearbox_inlet_temperature_min    8064   1.306152\n",
      "Gearbox_inlet_temperature_max    8064   1.306152\n",
      "Gearbox_inlet_temperature_std    8064   1.306152\n",
      "Absolute_wind_direction_c          72   0.011662\n",
      "Nacelle_angle_c                    72   0.011662 \n",
      "\n",
      "NaN data filled by 0 \n",
      "\n",
      "Searching for the best regressor on 1000 data using neg_mean_absolute_error loss... \n",
      "\n",
      "\n",
      " Bagging: -29.9915 (+/- 3.8755)\n",
      "\n",
      " Gradient Boosting: -26.4837 (+/- 1.4921)\n",
      "\n",
      " XGBoost: -25.6346 (+/- 2.0193)\n",
      "\n",
      " Random Forest: -27.9597 (+/- 1.7701)\n",
      "\n",
      " Decision Tree: -40.2910 (+/- 12.9984)\n",
      "\n",
      " Extra Tree: -29.4587 (+/- 5.0095)\n",
      "\n",
      " KNN: -161.6374 (+/- 12.0613)\n",
      "\n",
      " SVM: -309.5394 (+/- 36.0402)\n",
      "\n",
      " Searching for the best hyperparametres of XGBoost on 1000 data among : \n",
      "\n",
      "{'eta': [0.01, 0.1, 0.3], 'max_depth': [5, 10, 15], 'gamma': [0, 0.1, 0.01]} \n",
      "\n",
      "Fitting 3 folds for each of 27 candidates, totalling 81 fits\n"
     ]
    },
    {
     "name": "stderr",
     "output_type": "stream",
     "text": [
      "[Parallel(n_jobs=-1)]: Done  42 tasks      | elapsed:   24.2s\n",
      "[Parallel(n_jobs=-1)]: Done  81 out of  81 | elapsed:   42.3s finished\n"
     ]
    },
    {
     "name": "stdout",
     "output_type": "stream",
     "text": [
      "\n",
      " In the end, the best estimator is : XGBoost Regressor\n",
      "\n",
      " Using these hyperparametres : {'eta': 0.01, 'gamma': 0.1, 'max_depth': 5}\n",
      "\n",
      " With this neg_mean_absolute_error score : -25.602254532622563\n"
     ]
    }
   ],
   "source": [
    "Reg = BestEstimator(type_esti = 'Regressor', hard_grid=False)\n",
    "\n",
    "Reg.fit(Reg_Train, Reg_Target, n_grid= 1000, scoring = 'neg_mean_absolute_error') "
   ]
  },
  {
   "cell_type": "code",
   "execution_count": 24,
   "metadata": {},
   "outputs": [
    {
     "name": "stdout",
     "output_type": "stream",
     "text": [
      "Fitting on 200 data...\n",
      "200 datas -> mean_absolute_error = 39.60962117360351 \n",
      "\n",
      "Fitting on 300 data...\n",
      "300 datas -> mean_absolute_error = 34.262711017157955 \n",
      "\n",
      "Fitting on 1000 data...\n",
      "1000 datas -> mean_absolute_error = 24.242441333962816 \n",
      "\n",
      "Fitting on 2000 data...\n",
      "2000 datas -> mean_absolute_error = 20.593891179937724 \n",
      "\n",
      "Fitting on 5000 data...\n",
      "5000 datas -> mean_absolute_error = 18.030675542181598 \n",
      "\n",
      "\n",
      " In the end, the best data size is 5000 \n",
      "\n",
      " With this mean_absolute_error : 18.030675542181598\n",
      "XGBRegressor(base_score=0.5, booster='gbtree', colsample_bylevel=1,\n",
      "       colsample_bytree=1, eta=0.01, gamma=0.1, learning_rate=0.1,\n",
      "       max_delta_step=0, max_depth=5, min_child_weight=1, missing=None,\n",
      "       n_estimators=100, n_jobs=1, nthread=None, objective='reg:linear',\n",
      "       random_state=0, reg_alpha=0, reg_lambda=1, scale_pos_weight=1,\n",
      "       seed=None, silent=True, subsample=1)\n"
     ]
    }
   ],
   "source": [
    "Reg.best_size(n=[100,200,300, 1000, 2000, 5000], metric = 'mean_absolute_error', type_esti = 'Regressor')"
   ]
  },
  {
   "cell_type": "markdown",
   "metadata": {},
   "source": [
    "###  pred_grid & pred_grid methods"
   ]
  },
  {
   "cell_type": "code",
   "execution_count": 28,
   "metadata": {},
   "outputs": [
    {
     "data": {
      "text/html": [
       "<div>\n",
       "<style scoped>\n",
       "    .dataframe tbody tr th:only-of-type {\n",
       "        vertical-align: middle;\n",
       "    }\n",
       "\n",
       "    .dataframe tbody tr th {\n",
       "        vertical-align: top;\n",
       "    }\n",
       "\n",
       "    .dataframe thead th {\n",
       "        text-align: right;\n",
       "    }\n",
       "</style>\n",
       "<table border=\"1\" class=\"dataframe\">\n",
       "  <thead>\n",
       "    <tr style=\"text-align: right;\">\n",
       "      <th></th>\n",
       "      <th>ID</th>\n",
       "      <th>Target</th>\n",
       "    </tr>\n",
       "  </thead>\n",
       "  <tbody>\n",
       "    <tr>\n",
       "      <th>0</th>\n",
       "      <td>1</td>\n",
       "      <td>-0.788595</td>\n",
       "    </tr>\n",
       "    <tr>\n",
       "      <th>1</th>\n",
       "      <td>2</td>\n",
       "      <td>-0.788595</td>\n",
       "    </tr>\n",
       "    <tr>\n",
       "      <th>2</th>\n",
       "      <td>3</td>\n",
       "      <td>-0.788595</td>\n",
       "    </tr>\n",
       "    <tr>\n",
       "      <th>3</th>\n",
       "      <td>4</td>\n",
       "      <td>-0.788595</td>\n",
       "    </tr>\n",
       "    <tr>\n",
       "      <th>4</th>\n",
       "      <td>5</td>\n",
       "      <td>-0.788595</td>\n",
       "    </tr>\n",
       "    <tr>\n",
       "      <th>5</th>\n",
       "      <td>6</td>\n",
       "      <td>-0.397428</td>\n",
       "    </tr>\n",
       "    <tr>\n",
       "      <th>6</th>\n",
       "      <td>7</td>\n",
       "      <td>0.036719</td>\n",
       "    </tr>\n",
       "    <tr>\n",
       "      <th>7</th>\n",
       "      <td>8</td>\n",
       "      <td>0.036719</td>\n",
       "    </tr>\n",
       "    <tr>\n",
       "      <th>8</th>\n",
       "      <td>9</td>\n",
       "      <td>0.036719</td>\n",
       "    </tr>\n",
       "    <tr>\n",
       "      <th>9</th>\n",
       "      <td>10</td>\n",
       "      <td>0.036719</td>\n",
       "    </tr>\n",
       "  </tbody>\n",
       "</table>\n",
       "</div>"
      ],
      "text/plain": [
       "   ID    Target\n",
       "0   1 -0.788595\n",
       "1   2 -0.788595\n",
       "2   3 -0.788595\n",
       "3   4 -0.788595\n",
       "4   5 -0.788595\n",
       "5   6 -0.397428\n",
       "6   7  0.036719\n",
       "7   8  0.036719\n",
       "8   9  0.036719\n",
       "9  10  0.036719"
      ]
     },
     "execution_count": 28,
     "metadata": {},
     "output_type": "execute_result"
    }
   ],
   "source": [
    "Reg.pred(Reg_Train[0:10], ID='ID')"
   ]
  },
  {
   "cell_type": "code",
   "execution_count": null,
   "metadata": {},
   "outputs": [],
   "source": [
    "#Reg.pred_grid(Reg_Train[0:10], ID='ID')"
   ]
  },
  {
   "cell_type": "markdown",
   "metadata": {},
   "source": [
    "### Bagg_fit method"
   ]
  },
  {
   "cell_type": "code",
   "execution_count": null,
   "metadata": {},
   "outputs": [
    {
     "name": "stdout",
     "output_type": "stream",
     "text": [
      "Fitting 3 folds for each of 3 candidates, totalling 9 fits\n"
     ]
    }
   ],
   "source": [
    "Reg.Bagg_fit(Reg_Train, Reg_Target, n_estimators = [10,20,30], type_esti = 'Regressor', n = 1000,\n",
    "                 cv = 3, value = 0, ID = 'ID', metric = 'mean_absolute_error')"
   ]
  },
  {
   "cell_type": "code",
   "execution_count": 7,
   "metadata": {},
   "outputs": [],
   "source": [
    "n = [1,2,3,4]"
   ]
  },
  {
   "cell_type": "code",
   "execution_count": 10,
   "metadata": {},
   "outputs": [
    {
     "data": {
      "text/plain": [
       "[2, 3, 4]"
      ]
     },
     "execution_count": 10,
     "metadata": {},
     "output_type": "execute_result"
    }
   ],
   "source": [
    "n[1:]"
   ]
  },
  {
   "cell_type": "code",
   "execution_count": null,
   "metadata": {},
   "outputs": [],
   "source": []
  }
 ],
 "metadata": {
  "kernelspec": {
   "display_name": "Python 3",
   "language": "python",
   "name": "python3"
  }
 },
 "nbformat": 4,
 "nbformat_minor": 2
}
