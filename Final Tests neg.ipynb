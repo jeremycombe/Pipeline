{
 "cells": [
  {
   "cell_type": "markdown",
   "metadata": {},
   "source": [
    "# Ensemble des tests"
   ]
  },
  {
   "cell_type": "code",
   "execution_count": 1,
   "metadata": {},
   "outputs": [
    {
     "name": "stdout",
     "output_type": "stream",
     "text": [
      "Pandas version : 0.23.4\n",
      "Sklearn version : 0.19.2\n",
      "Xgboost version : 0.81\n",
      "Numpy version : 1.15.1\n"
     ]
    }
   ],
   "source": [
    "import sklearn\n",
    "import pandas \n",
    "import xgboost\n",
    "import numpy\n",
    "\n",
    "print('Pandas version :',pandas.__version__)\n",
    "print('Sklearn version :',sklearn.__version__)\n",
    "print('Xgboost version :',xgboost.__version__)\n",
    "print('Numpy version :',numpy.__version__)"
   ]
  },
  {
   "cell_type": "code",
   "execution_count": 2,
   "metadata": {},
   "outputs": [
    {
     "name": "stderr",
     "output_type": "stream",
     "text": [
      "C:\\ProgramData\\Anaconda3\\lib\\site-packages\\sklearn\\ensemble\\weight_boosting.py:29: DeprecationWarning: numpy.core.umath_tests is an internal NumPy module and should not be imported. It will be removed in a future NumPy release.\n",
      "  from numpy.core.umath_tests import inner1d\n"
     ]
    }
   ],
   "source": [
    "%run -i Bestestimator_neg_fixed.py"
   ]
  },
  {
   "cell_type": "markdown",
   "metadata": {},
   "source": [
    "## Multiclass"
   ]
  },
  {
   "cell_type": "code",
   "execution_count": 3,
   "metadata": {},
   "outputs": [],
   "source": [
    "Multi_Train = pd.read_csv(r\"C:\\Users\\jecombe\\OneDrive - Capgemini\\Notebooks\\Train.csv\", sep = ',')\n",
    "Multi_Target = pd.read_csv(r\"C:\\Users\\jecombe\\OneDrive - Capgemini\\Notebooks\\Target.csv\", sep = ';')"
   ]
  },
  {
   "cell_type": "markdown",
   "metadata": {},
   "source": [
    "#### Coup d'oeil sur les données"
   ]
  },
  {
   "cell_type": "code",
   "execution_count": 4,
   "metadata": {},
   "outputs": [
    {
     "data": {
      "text/html": [
       "<div>\n",
       "<style scoped>\n",
       "    .dataframe tbody tr th:only-of-type {\n",
       "        vertical-align: middle;\n",
       "    }\n",
       "\n",
       "    .dataframe tbody tr th {\n",
       "        vertical-align: top;\n",
       "    }\n",
       "\n",
       "    .dataframe thead th {\n",
       "        text-align: right;\n",
       "    }\n",
       "</style>\n",
       "<table border=\"1\" class=\"dataframe\">\n",
       "  <thead>\n",
       "    <tr style=\"text-align: right;\">\n",
       "      <th></th>\n",
       "      <th>ID</th>\n",
       "      <th>SHIPPING_MODE</th>\n",
       "      <th>SHIPPING_PRICE</th>\n",
       "      <th>WARRANTIES_FLG</th>\n",
       "      <th>WARRANTIES_PRICE</th>\n",
       "      <th>CARD_PAYMENT</th>\n",
       "      <th>COUPON_PAYMENT</th>\n",
       "      <th>RSP_PAYMENT</th>\n",
       "      <th>WALLET_PAYMENT</th>\n",
       "      <th>PRICECLUB_STATUS</th>\n",
       "      <th>...</th>\n",
       "      <th>BUYER_BIRTHDAY_DATE</th>\n",
       "      <th>BUYER_DEPARTMENT</th>\n",
       "      <th>BUYING_DATE</th>\n",
       "      <th>SELLER_SCORE_COUNT</th>\n",
       "      <th>SELLER_SCORE_AVERAGE</th>\n",
       "      <th>SELLER_COUNTRY</th>\n",
       "      <th>SELLER_DEPARTMENT</th>\n",
       "      <th>PRODUCT_TYPE</th>\n",
       "      <th>PRODUCT_FAMILY</th>\n",
       "      <th>ITEM_PRICE</th>\n",
       "    </tr>\n",
       "  </thead>\n",
       "  <tbody>\n",
       "    <tr>\n",
       "      <th>0</th>\n",
       "      <td>0</td>\n",
       "      <td>NORMAL</td>\n",
       "      <td>NaN</td>\n",
       "      <td>False</td>\n",
       "      <td>NaN</td>\n",
       "      <td>1</td>\n",
       "      <td>0</td>\n",
       "      <td>1</td>\n",
       "      <td>0</td>\n",
       "      <td>UNSUBSCRIBED</td>\n",
       "      <td>...</td>\n",
       "      <td>1992.0</td>\n",
       "      <td>34</td>\n",
       "      <td>3/2017</td>\n",
       "      <td>10000&lt;100000</td>\n",
       "      <td>46.0</td>\n",
       "      <td>FRANCE, METROPOLITAN</td>\n",
       "      <td>61</td>\n",
       "      <td>CELLPHONE_ACCESSORY</td>\n",
       "      <td>ELECTRONICS</td>\n",
       "      <td>&lt;10</td>\n",
       "    </tr>\n",
       "    <tr>\n",
       "      <th>1</th>\n",
       "      <td>1</td>\n",
       "      <td>NORMAL</td>\n",
       "      <td>NaN</td>\n",
       "      <td>False</td>\n",
       "      <td>NaN</td>\n",
       "      <td>1</td>\n",
       "      <td>0</td>\n",
       "      <td>0</td>\n",
       "      <td>0</td>\n",
       "      <td>UNSUBSCRIBED</td>\n",
       "      <td>...</td>\n",
       "      <td>1952.0</td>\n",
       "      <td>77</td>\n",
       "      <td>8/2017</td>\n",
       "      <td>10000&lt;100000</td>\n",
       "      <td>45.0</td>\n",
       "      <td>FRANCE, METROPOLITAN</td>\n",
       "      <td>30</td>\n",
       "      <td>CELLPHONE_ACCESSORY</td>\n",
       "      <td>ELECTRONICS</td>\n",
       "      <td>&lt;10</td>\n",
       "    </tr>\n",
       "    <tr>\n",
       "      <th>2</th>\n",
       "      <td>2</td>\n",
       "      <td>NORMAL</td>\n",
       "      <td>NaN</td>\n",
       "      <td>False</td>\n",
       "      <td>NaN</td>\n",
       "      <td>0</td>\n",
       "      <td>0</td>\n",
       "      <td>0</td>\n",
       "      <td>1</td>\n",
       "      <td>PLATINUM</td>\n",
       "      <td>...</td>\n",
       "      <td>1991.0</td>\n",
       "      <td>58</td>\n",
       "      <td>5/2017</td>\n",
       "      <td>10000&lt;100000</td>\n",
       "      <td>43.0</td>\n",
       "      <td>CHINA</td>\n",
       "      <td>-1</td>\n",
       "      <td>TOYS</td>\n",
       "      <td>BABY</td>\n",
       "      <td>&lt;10</td>\n",
       "    </tr>\n",
       "    <tr>\n",
       "      <th>3</th>\n",
       "      <td>3</td>\n",
       "      <td>RECOMMANDE</td>\n",
       "      <td>NaN</td>\n",
       "      <td>True</td>\n",
       "      <td>5&lt;20</td>\n",
       "      <td>1</td>\n",
       "      <td>0</td>\n",
       "      <td>0</td>\n",
       "      <td>0</td>\n",
       "      <td>UNSUBSCRIBED</td>\n",
       "      <td>...</td>\n",
       "      <td>1955.0</td>\n",
       "      <td>31</td>\n",
       "      <td>5/2017</td>\n",
       "      <td>10000&lt;100000</td>\n",
       "      <td>44.0</td>\n",
       "      <td>FRANCE, METROPOLITAN</td>\n",
       "      <td>2</td>\n",
       "      <td>GARDEN_TOOLS</td>\n",
       "      <td>WHITE</td>\n",
       "      <td>50&lt;100</td>\n",
       "    </tr>\n",
       "    <tr>\n",
       "      <th>4</th>\n",
       "      <td>4</td>\n",
       "      <td>RECOMMANDE</td>\n",
       "      <td>NaN</td>\n",
       "      <td>False</td>\n",
       "      <td>NaN</td>\n",
       "      <td>1</td>\n",
       "      <td>0</td>\n",
       "      <td>1</td>\n",
       "      <td>0</td>\n",
       "      <td>PLATINUM</td>\n",
       "      <td>...</td>\n",
       "      <td>1984.0</td>\n",
       "      <td>93</td>\n",
       "      <td>9/2017</td>\n",
       "      <td>1000&lt;10000</td>\n",
       "      <td>44.0</td>\n",
       "      <td>CHINA</td>\n",
       "      <td>-1</td>\n",
       "      <td>MODEL</td>\n",
       "      <td>BABY</td>\n",
       "      <td>1000&lt;5000</td>\n",
       "    </tr>\n",
       "  </tbody>\n",
       "</table>\n",
       "<p>5 rows × 22 columns</p>\n",
       "</div>"
      ],
      "text/plain": [
       "   ID SHIPPING_MODE SHIPPING_PRICE  WARRANTIES_FLG WARRANTIES_PRICE  \\\n",
       "0   0        NORMAL            NaN           False              NaN   \n",
       "1   1        NORMAL            NaN           False              NaN   \n",
       "2   2        NORMAL            NaN           False              NaN   \n",
       "3   3    RECOMMANDE            NaN            True             5<20   \n",
       "4   4    RECOMMANDE            NaN           False              NaN   \n",
       "\n",
       "   CARD_PAYMENT  COUPON_PAYMENT  RSP_PAYMENT  WALLET_PAYMENT PRICECLUB_STATUS  \\\n",
       "0             1               0            1               0     UNSUBSCRIBED   \n",
       "1             1               0            0               0     UNSUBSCRIBED   \n",
       "2             0               0            0               1         PLATINUM   \n",
       "3             1               0            0               0     UNSUBSCRIBED   \n",
       "4             1               0            1               0         PLATINUM   \n",
       "\n",
       "     ...      BUYER_BIRTHDAY_DATE BUYER_DEPARTMENT  BUYING_DATE  \\\n",
       "0    ...                   1992.0               34       3/2017   \n",
       "1    ...                   1952.0               77       8/2017   \n",
       "2    ...                   1991.0               58       5/2017   \n",
       "3    ...                   1955.0               31       5/2017   \n",
       "4    ...                   1984.0               93       9/2017   \n",
       "\n",
       "   SELLER_SCORE_COUNT SELLER_SCORE_AVERAGE        SELLER_COUNTRY  \\\n",
       "0        10000<100000                 46.0  FRANCE, METROPOLITAN   \n",
       "1        10000<100000                 45.0  FRANCE, METROPOLITAN   \n",
       "2        10000<100000                 43.0                 CHINA   \n",
       "3        10000<100000                 44.0  FRANCE, METROPOLITAN   \n",
       "4          1000<10000                 44.0                 CHINA   \n",
       "\n",
       "   SELLER_DEPARTMENT         PRODUCT_TYPE  PRODUCT_FAMILY ITEM_PRICE  \n",
       "0                 61  CELLPHONE_ACCESSORY     ELECTRONICS        <10  \n",
       "1                 30  CELLPHONE_ACCESSORY     ELECTRONICS        <10  \n",
       "2                 -1                 TOYS            BABY        <10  \n",
       "3                  2         GARDEN_TOOLS           WHITE     50<100  \n",
       "4                 -1                MODEL            BABY  1000<5000  \n",
       "\n",
       "[5 rows x 22 columns]"
      ]
     },
     "execution_count": 4,
     "metadata": {},
     "output_type": "execute_result"
    }
   ],
   "source": [
    "Multi_Train.head(5)"
   ]
  },
  {
   "cell_type": "code",
   "execution_count": 5,
   "metadata": {},
   "outputs": [
    {
     "data": {
      "text/html": [
       "<div>\n",
       "<style scoped>\n",
       "    .dataframe tbody tr th:only-of-type {\n",
       "        vertical-align: middle;\n",
       "    }\n",
       "\n",
       "    .dataframe tbody tr th {\n",
       "        vertical-align: top;\n",
       "    }\n",
       "\n",
       "    .dataframe thead th {\n",
       "        text-align: right;\n",
       "    }\n",
       "</style>\n",
       "<table border=\"1\" class=\"dataframe\">\n",
       "  <thead>\n",
       "    <tr style=\"text-align: right;\">\n",
       "      <th></th>\n",
       "      <th>ID</th>\n",
       "      <th>CLAIM_TYPE</th>\n",
       "    </tr>\n",
       "  </thead>\n",
       "  <tbody>\n",
       "    <tr>\n",
       "      <th>0</th>\n",
       "      <td>0</td>\n",
       "      <td>DAMAGED</td>\n",
       "    </tr>\n",
       "    <tr>\n",
       "      <th>1</th>\n",
       "      <td>1</td>\n",
       "      <td>-</td>\n",
       "    </tr>\n",
       "    <tr>\n",
       "      <th>2</th>\n",
       "      <td>2</td>\n",
       "      <td>NOT_RECEIVED</td>\n",
       "    </tr>\n",
       "    <tr>\n",
       "      <th>3</th>\n",
       "      <td>3</td>\n",
       "      <td>-</td>\n",
       "    </tr>\n",
       "    <tr>\n",
       "      <th>4</th>\n",
       "      <td>4</td>\n",
       "      <td>WITHDRAWAL</td>\n",
       "    </tr>\n",
       "  </tbody>\n",
       "</table>\n",
       "</div>"
      ],
      "text/plain": [
       "   ID    CLAIM_TYPE\n",
       "0   0       DAMAGED\n",
       "1   1             -\n",
       "2   2  NOT_RECEIVED\n",
       "3   3             -\n",
       "4   4    WITHDRAWAL"
      ]
     },
     "execution_count": 5,
     "metadata": {},
     "output_type": "execute_result"
    }
   ],
   "source": [
    "Multi_Target.head(5)"
   ]
  },
  {
   "cell_type": "markdown",
   "metadata": {},
   "source": [
    "### fit method"
   ]
  },
  {
   "cell_type": "markdown",
   "metadata": {},
   "source": [
    "#### Lance le pipeline de choix d'estimateur et d'hyperparamètres optimaux"
   ]
  },
  {
   "cell_type": "code",
   "execution_count": 6,
   "metadata": {},
   "outputs": [
    {
     "name": "stdout",
     "output_type": "stream",
     "text": [
      "Missing Values :\n",
      "\n",
      "                      Total       %\n",
      "WARRANTIES_PRICE      96603  96.603\n",
      "SHIPPING_PRICE        67610  67.610\n",
      "BUYER_BIRTHDAY_DATE    5836   5.836\n",
      "SHIPPING_MODE           315   0.315\n",
      "PRICECLUB_STATUS         57   0.057\n",
      "SELLER_SCORE_AVERAGE      6   0.006\n",
      "SELLER_SCORE_COUNT        6   0.006 \n",
      "\n",
      "NaN data filled by 0 \n",
      "\n",
      "Searching for the best regressor on 1000 data using accuracy loss... \n",
      "\n",
      "\n",
      " Bagging: 0.4769 (+/- 0.0404)\n",
      "\n",
      " Gradient Boosting: 0.4660 (+/- 0.0097)\n"
     ]
    },
    {
     "name": "stderr",
     "output_type": "stream",
     "text": [
      "C:\\ProgramData\\Anaconda3\\lib\\site-packages\\sklearn\\preprocessing\\label.py:151: DeprecationWarning: The truth value of an empty array is ambiguous. Returning False, but in future this will result in an error. Use `array.size > 0` to check that an array is not empty.\n",
      "  if diff:\n",
      "C:\\ProgramData\\Anaconda3\\lib\\site-packages\\sklearn\\preprocessing\\label.py:151: DeprecationWarning: The truth value of an empty array is ambiguous. Returning False, but in future this will result in an error. Use `array.size > 0` to check that an array is not empty.\n",
      "  if diff:\n",
      "C:\\ProgramData\\Anaconda3\\lib\\site-packages\\sklearn\\preprocessing\\label.py:151: DeprecationWarning: The truth value of an empty array is ambiguous. Returning False, but in future this will result in an error. Use `array.size > 0` to check that an array is not empty.\n",
      "  if diff:\n"
     ]
    },
    {
     "name": "stdout",
     "output_type": "stream",
     "text": [
      "\n",
      " XGBoost: 0.4900 (+/- 0.0156)\n",
      "\n",
      " Random Forest: 0.5050 (+/- 0.0151)\n",
      "\n",
      " Decision Tree: 0.3509 (+/- 0.0236)\n",
      "\n",
      " Extra Tree: 0.4570 (+/- 0.0169)\n",
      "\n",
      " KNN: 0.4470 (+/- 0.0126)\n",
      "\n",
      " SVM: 0.4870 (+/- 0.0027)\n",
      "\n",
      " Searching for the best hyperparametres of Random Forest using hard_grid on 1000 data among : \n",
      "\n",
      "{'n_estimators': [10, 100, 300, 600, 1000, 1200], 'max_depth': [5, 10, 15, 20, 25], 'criterion': ['gini', 'entropy']} \n",
      "\n",
      "Fitting 3 folds for each of 60 candidates, totalling 180 fits\n"
     ]
    },
    {
     "name": "stderr",
     "output_type": "stream",
     "text": [
      "[Parallel(n_jobs=-1)]: Done  42 tasks      | elapsed:   32.0s\n",
      "[Parallel(n_jobs=-1)]: Done 180 out of 180 | elapsed:  2.2min finished\n"
     ]
    },
    {
     "name": "stdout",
     "output_type": "stream",
     "text": [
      "\n",
      " In the end, the best estimator is : Random Forest Classifier\n",
      "\n",
      " Using these hyperparametres : {'criterion': 'entropy', 'max_depth': 25, 'n_estimators': 600}\n",
      "\n",
      " With this accuracy score : 0.517\n"
     ]
    },
    {
     "name": "stderr",
     "output_type": "stream",
     "text": [
      "C:\\ProgramData\\Anaconda3\\lib\\site-packages\\sklearn\\preprocessing\\label.py:151: DeprecationWarning: The truth value of an empty array is ambiguous. Returning False, but in future this will result in an error. Use `array.size > 0` to check that an array is not empty.\n",
      "  if diff:\n"
     ]
    }
   ],
   "source": [
    "Multi = BestEstimator(hard_grid=True)\n",
    "Multi.fit(Multi_Train, Multi_Target, scoring = 'accuracy') "
   ]
  },
  {
   "cell_type": "markdown",
   "metadata": {},
   "source": [
    "### All pred methods"
   ]
  },
  {
   "cell_type": "code",
   "execution_count": 7,
   "metadata": {},
   "outputs": [
    {
     "name": "stderr",
     "output_type": "stream",
     "text": [
      "C:\\ProgramData\\Anaconda3\\lib\\site-packages\\sklearn\\preprocessing\\label.py:151: DeprecationWarning: The truth value of an empty array is ambiguous. Returning False, but in future this will result in an error. Use `array.size > 0` to check that an array is not empty.\n",
      "  if diff:\n"
     ]
    },
    {
     "data": {
      "text/html": [
       "<div>\n",
       "<style scoped>\n",
       "    .dataframe tbody tr th:only-of-type {\n",
       "        vertical-align: middle;\n",
       "    }\n",
       "\n",
       "    .dataframe tbody tr th {\n",
       "        vertical-align: top;\n",
       "    }\n",
       "\n",
       "    .dataframe thead th {\n",
       "        text-align: right;\n",
       "    }\n",
       "</style>\n",
       "<table border=\"1\" class=\"dataframe\">\n",
       "  <thead>\n",
       "    <tr style=\"text-align: right;\">\n",
       "      <th></th>\n",
       "      <th>ID</th>\n",
       "      <th>Target</th>\n",
       "    </tr>\n",
       "  </thead>\n",
       "  <tbody>\n",
       "    <tr>\n",
       "      <th>0</th>\n",
       "      <td>0</td>\n",
       "      <td>-</td>\n",
       "    </tr>\n",
       "    <tr>\n",
       "      <th>1</th>\n",
       "      <td>1</td>\n",
       "      <td>-</td>\n",
       "    </tr>\n",
       "    <tr>\n",
       "      <th>2</th>\n",
       "      <td>2</td>\n",
       "      <td>-</td>\n",
       "    </tr>\n",
       "    <tr>\n",
       "      <th>3</th>\n",
       "      <td>3</td>\n",
       "      <td>-</td>\n",
       "    </tr>\n",
       "    <tr>\n",
       "      <th>4</th>\n",
       "      <td>4</td>\n",
       "      <td>WITHDRAWAL</td>\n",
       "    </tr>\n",
       "    <tr>\n",
       "      <th>5</th>\n",
       "      <td>5</td>\n",
       "      <td>-</td>\n",
       "    </tr>\n",
       "    <tr>\n",
       "      <th>6</th>\n",
       "      <td>6</td>\n",
       "      <td>-</td>\n",
       "    </tr>\n",
       "    <tr>\n",
       "      <th>7</th>\n",
       "      <td>7</td>\n",
       "      <td>WITHDRAWAL</td>\n",
       "    </tr>\n",
       "    <tr>\n",
       "      <th>8</th>\n",
       "      <td>8</td>\n",
       "      <td>-</td>\n",
       "    </tr>\n",
       "    <tr>\n",
       "      <th>9</th>\n",
       "      <td>9</td>\n",
       "      <td>-</td>\n",
       "    </tr>\n",
       "  </tbody>\n",
       "</table>\n",
       "</div>"
      ],
      "text/plain": [
       "   ID      Target\n",
       "0   0           -\n",
       "1   1           -\n",
       "2   2           -\n",
       "3   3           -\n",
       "4   4  WITHDRAWAL\n",
       "5   5           -\n",
       "6   6           -\n",
       "7   7  WITHDRAWAL\n",
       "8   8           -\n",
       "9   9           -"
      ]
     },
     "execution_count": 7,
     "metadata": {},
     "output_type": "execute_result"
    }
   ],
   "source": [
    "Multi.pred(Multi_Train[0:10], ID='ID', refit = True)"
   ]
  },
  {
   "cell_type": "code",
   "execution_count": 8,
   "metadata": {},
   "outputs": [
    {
     "name": "stderr",
     "output_type": "stream",
     "text": [
      "C:\\ProgramData\\Anaconda3\\lib\\site-packages\\sklearn\\preprocessing\\label.py:151: DeprecationWarning: The truth value of an empty array is ambiguous. Returning False, but in future this will result in an error. Use `array.size > 0` to check that an array is not empty.\n",
      "  if diff:\n"
     ]
    },
    {
     "data": {
      "text/html": [
       "<div>\n",
       "<style scoped>\n",
       "    .dataframe tbody tr th:only-of-type {\n",
       "        vertical-align: middle;\n",
       "    }\n",
       "\n",
       "    .dataframe tbody tr th {\n",
       "        vertical-align: top;\n",
       "    }\n",
       "\n",
       "    .dataframe thead th {\n",
       "        text-align: right;\n",
       "    }\n",
       "</style>\n",
       "<table border=\"1\" class=\"dataframe\">\n",
       "  <thead>\n",
       "    <tr style=\"text-align: right;\">\n",
       "      <th></th>\n",
       "      <th>ID</th>\n",
       "      <th>Target</th>\n",
       "    </tr>\n",
       "  </thead>\n",
       "  <tbody>\n",
       "    <tr>\n",
       "      <th>0</th>\n",
       "      <td>0</td>\n",
       "      <td>-</td>\n",
       "    </tr>\n",
       "    <tr>\n",
       "      <th>1</th>\n",
       "      <td>1</td>\n",
       "      <td>-</td>\n",
       "    </tr>\n",
       "    <tr>\n",
       "      <th>2</th>\n",
       "      <td>2</td>\n",
       "      <td>-</td>\n",
       "    </tr>\n",
       "    <tr>\n",
       "      <th>3</th>\n",
       "      <td>3</td>\n",
       "      <td>-</td>\n",
       "    </tr>\n",
       "    <tr>\n",
       "      <th>4</th>\n",
       "      <td>4</td>\n",
       "      <td>WITHDRAWAL</td>\n",
       "    </tr>\n",
       "    <tr>\n",
       "      <th>5</th>\n",
       "      <td>5</td>\n",
       "      <td>-</td>\n",
       "    </tr>\n",
       "    <tr>\n",
       "      <th>6</th>\n",
       "      <td>6</td>\n",
       "      <td>-</td>\n",
       "    </tr>\n",
       "    <tr>\n",
       "      <th>7</th>\n",
       "      <td>7</td>\n",
       "      <td>WITHDRAWAL</td>\n",
       "    </tr>\n",
       "    <tr>\n",
       "      <th>8</th>\n",
       "      <td>8</td>\n",
       "      <td>-</td>\n",
       "    </tr>\n",
       "    <tr>\n",
       "      <th>9</th>\n",
       "      <td>9</td>\n",
       "      <td>-</td>\n",
       "    </tr>\n",
       "  </tbody>\n",
       "</table>\n",
       "</div>"
      ],
      "text/plain": [
       "   ID      Target\n",
       "0   0           -\n",
       "1   1           -\n",
       "2   2           -\n",
       "3   3           -\n",
       "4   4  WITHDRAWAL\n",
       "5   5           -\n",
       "6   6           -\n",
       "7   7  WITHDRAWAL\n",
       "8   8           -\n",
       "9   9           -"
      ]
     },
     "execution_count": 8,
     "metadata": {},
     "output_type": "execute_result"
    }
   ],
   "source": [
    "Multi.pred_grid(Multi_Train[0:10], ID='ID', value=0)"
   ]
  },
  {
   "cell_type": "markdown",
   "metadata": {},
   "source": [
    "#### Prédiction des probabilités de chaque classe"
   ]
  },
  {
   "cell_type": "markdown",
   "metadata": {},
   "source": [
    "##### A partir du premier fit"
   ]
  },
  {
   "cell_type": "code",
   "execution_count": 9,
   "metadata": {},
   "outputs": [
    {
     "name": "stderr",
     "output_type": "stream",
     "text": [
      "C:\\ProgramData\\Anaconda3\\lib\\site-packages\\sklearn\\preprocessing\\label.py:151: DeprecationWarning: The truth value of an empty array is ambiguous. Returning False, but in future this will result in an error. Use `array.size > 0` to check that an array is not empty.\n",
      "  if diff:\n"
     ]
    },
    {
     "data": {
      "text/html": [
       "<div>\n",
       "<style scoped>\n",
       "    .dataframe tbody tr th:only-of-type {\n",
       "        vertical-align: middle;\n",
       "    }\n",
       "\n",
       "    .dataframe tbody tr th {\n",
       "        vertical-align: top;\n",
       "    }\n",
       "\n",
       "    .dataframe thead th {\n",
       "        text-align: right;\n",
       "    }\n",
       "</style>\n",
       "<table border=\"1\" class=\"dataframe\">\n",
       "  <thead>\n",
       "    <tr style=\"text-align: right;\">\n",
       "      <th></th>\n",
       "      <th>ID</th>\n",
       "      <th>-</th>\n",
       "      <th>DAMAGED</th>\n",
       "      <th>DIFFERENT</th>\n",
       "      <th>FAKE</th>\n",
       "      <th>NOT_RECEIVED</th>\n",
       "      <th>SELLER_CANCEL_POSTERIORI</th>\n",
       "      <th>UNDEFINED</th>\n",
       "      <th>WITHDRAWAL</th>\n",
       "    </tr>\n",
       "  </thead>\n",
       "  <tbody>\n",
       "    <tr>\n",
       "      <th>0</th>\n",
       "      <td>0</td>\n",
       "      <td>0.470000</td>\n",
       "      <td>0.090000</td>\n",
       "      <td>0.060000</td>\n",
       "      <td>0.005000</td>\n",
       "      <td>0.035000</td>\n",
       "      <td>0.120000</td>\n",
       "      <td>0.075000</td>\n",
       "      <td>0.145000</td>\n",
       "    </tr>\n",
       "    <tr>\n",
       "      <th>1</th>\n",
       "      <td>1</td>\n",
       "      <td>0.430000</td>\n",
       "      <td>0.066667</td>\n",
       "      <td>0.025000</td>\n",
       "      <td>0.013333</td>\n",
       "      <td>0.078333</td>\n",
       "      <td>0.193333</td>\n",
       "      <td>0.051667</td>\n",
       "      <td>0.141667</td>\n",
       "    </tr>\n",
       "    <tr>\n",
       "      <th>2</th>\n",
       "      <td>2</td>\n",
       "      <td>0.288333</td>\n",
       "      <td>0.068333</td>\n",
       "      <td>0.041667</td>\n",
       "      <td>0.015000</td>\n",
       "      <td>0.206667</td>\n",
       "      <td>0.220000</td>\n",
       "      <td>0.030000</td>\n",
       "      <td>0.130000</td>\n",
       "    </tr>\n",
       "    <tr>\n",
       "      <th>3</th>\n",
       "      <td>3</td>\n",
       "      <td>0.328333</td>\n",
       "      <td>0.063333</td>\n",
       "      <td>0.033333</td>\n",
       "      <td>0.010000</td>\n",
       "      <td>0.128333</td>\n",
       "      <td>0.276667</td>\n",
       "      <td>0.068333</td>\n",
       "      <td>0.091667</td>\n",
       "    </tr>\n",
       "    <tr>\n",
       "      <th>4</th>\n",
       "      <td>4</td>\n",
       "      <td>0.218333</td>\n",
       "      <td>0.081667</td>\n",
       "      <td>0.020000</td>\n",
       "      <td>0.050000</td>\n",
       "      <td>0.208333</td>\n",
       "      <td>0.076667</td>\n",
       "      <td>0.040000</td>\n",
       "      <td>0.305000</td>\n",
       "    </tr>\n",
       "    <tr>\n",
       "      <th>5</th>\n",
       "      <td>5</td>\n",
       "      <td>0.460000</td>\n",
       "      <td>0.128333</td>\n",
       "      <td>0.023333</td>\n",
       "      <td>0.018333</td>\n",
       "      <td>0.070000</td>\n",
       "      <td>0.166667</td>\n",
       "      <td>0.063333</td>\n",
       "      <td>0.070000</td>\n",
       "    </tr>\n",
       "    <tr>\n",
       "      <th>6</th>\n",
       "      <td>6</td>\n",
       "      <td>0.570000</td>\n",
       "      <td>0.058333</td>\n",
       "      <td>0.011667</td>\n",
       "      <td>0.011667</td>\n",
       "      <td>0.063333</td>\n",
       "      <td>0.125000</td>\n",
       "      <td>0.068333</td>\n",
       "      <td>0.091667</td>\n",
       "    </tr>\n",
       "    <tr>\n",
       "      <th>7</th>\n",
       "      <td>7</td>\n",
       "      <td>0.233333</td>\n",
       "      <td>0.031667</td>\n",
       "      <td>0.061667</td>\n",
       "      <td>0.018333</td>\n",
       "      <td>0.155000</td>\n",
       "      <td>0.198333</td>\n",
       "      <td>0.053333</td>\n",
       "      <td>0.248333</td>\n",
       "    </tr>\n",
       "    <tr>\n",
       "      <th>8</th>\n",
       "      <td>8</td>\n",
       "      <td>0.508333</td>\n",
       "      <td>0.068333</td>\n",
       "      <td>0.033333</td>\n",
       "      <td>0.010000</td>\n",
       "      <td>0.068333</td>\n",
       "      <td>0.195000</td>\n",
       "      <td>0.048333</td>\n",
       "      <td>0.068333</td>\n",
       "    </tr>\n",
       "    <tr>\n",
       "      <th>9</th>\n",
       "      <td>9</td>\n",
       "      <td>0.458333</td>\n",
       "      <td>0.066667</td>\n",
       "      <td>0.085000</td>\n",
       "      <td>0.005000</td>\n",
       "      <td>0.058333</td>\n",
       "      <td>0.143333</td>\n",
       "      <td>0.068333</td>\n",
       "      <td>0.115000</td>\n",
       "    </tr>\n",
       "  </tbody>\n",
       "</table>\n",
       "</div>"
      ],
      "text/plain": [
       "   ID         -   DAMAGED  DIFFERENT      FAKE  NOT_RECEIVED  \\\n",
       "0   0  0.470000  0.090000   0.060000  0.005000      0.035000   \n",
       "1   1  0.430000  0.066667   0.025000  0.013333      0.078333   \n",
       "2   2  0.288333  0.068333   0.041667  0.015000      0.206667   \n",
       "3   3  0.328333  0.063333   0.033333  0.010000      0.128333   \n",
       "4   4  0.218333  0.081667   0.020000  0.050000      0.208333   \n",
       "5   5  0.460000  0.128333   0.023333  0.018333      0.070000   \n",
       "6   6  0.570000  0.058333   0.011667  0.011667      0.063333   \n",
       "7   7  0.233333  0.031667   0.061667  0.018333      0.155000   \n",
       "8   8  0.508333  0.068333   0.033333  0.010000      0.068333   \n",
       "9   9  0.458333  0.066667   0.085000  0.005000      0.058333   \n",
       "\n",
       "   SELLER_CANCEL_POSTERIORI  UNDEFINED  WITHDRAWAL  \n",
       "0                  0.120000   0.075000    0.145000  \n",
       "1                  0.193333   0.051667    0.141667  \n",
       "2                  0.220000   0.030000    0.130000  \n",
       "3                  0.276667   0.068333    0.091667  \n",
       "4                  0.076667   0.040000    0.305000  \n",
       "5                  0.166667   0.063333    0.070000  \n",
       "6                  0.125000   0.068333    0.091667  \n",
       "7                  0.198333   0.053333    0.248333  \n",
       "8                  0.195000   0.048333    0.068333  \n",
       "9                  0.143333   0.068333    0.115000  "
      ]
     },
     "execution_count": 9,
     "metadata": {},
     "output_type": "execute_result"
    }
   ],
   "source": [
    "Multi.pred_grid_proba(Multi_Train[0:10], ID_Test = 'ID', ID_pred = True)"
   ]
  },
  {
   "cell_type": "markdown",
   "metadata": {},
   "source": [
    "##### En relançant un fit à partir du meilleur estimateur trouvé et de ses meilleurs hyperparamètres"
   ]
  },
  {
   "cell_type": "code",
   "execution_count": 10,
   "metadata": {
    "scrolled": false
   },
   "outputs": [
    {
     "name": "stderr",
     "output_type": "stream",
     "text": [
      "C:\\ProgramData\\Anaconda3\\lib\\site-packages\\sklearn\\preprocessing\\label.py:151: DeprecationWarning: The truth value of an empty array is ambiguous. Returning False, but in future this will result in an error. Use `array.size > 0` to check that an array is not empty.\n",
      "  if diff:\n"
     ]
    },
    {
     "data": {
      "text/html": [
       "<div>\n",
       "<style scoped>\n",
       "    .dataframe tbody tr th:only-of-type {\n",
       "        vertical-align: middle;\n",
       "    }\n",
       "\n",
       "    .dataframe tbody tr th {\n",
       "        vertical-align: top;\n",
       "    }\n",
       "\n",
       "    .dataframe thead th {\n",
       "        text-align: right;\n",
       "    }\n",
       "</style>\n",
       "<table border=\"1\" class=\"dataframe\">\n",
       "  <thead>\n",
       "    <tr style=\"text-align: right;\">\n",
       "      <th></th>\n",
       "      <th>ID</th>\n",
       "      <th>-</th>\n",
       "      <th>DAMAGED</th>\n",
       "      <th>DIFFERENT</th>\n",
       "      <th>FAKE</th>\n",
       "      <th>NOT_RECEIVED</th>\n",
       "      <th>SELLER_CANCEL_POSTERIORI</th>\n",
       "      <th>UNDEFINED</th>\n",
       "      <th>WITHDRAWAL</th>\n",
       "    </tr>\n",
       "  </thead>\n",
       "  <tbody>\n",
       "    <tr>\n",
       "      <th>0</th>\n",
       "      <td>0</td>\n",
       "      <td>0.476667</td>\n",
       "      <td>0.101667</td>\n",
       "      <td>0.055000</td>\n",
       "      <td>0.001667</td>\n",
       "      <td>0.048333</td>\n",
       "      <td>0.123333</td>\n",
       "      <td>0.073333</td>\n",
       "      <td>0.120000</td>\n",
       "    </tr>\n",
       "    <tr>\n",
       "      <th>1</th>\n",
       "      <td>1</td>\n",
       "      <td>0.391667</td>\n",
       "      <td>0.078333</td>\n",
       "      <td>0.015000</td>\n",
       "      <td>0.013333</td>\n",
       "      <td>0.096667</td>\n",
       "      <td>0.221667</td>\n",
       "      <td>0.043333</td>\n",
       "      <td>0.140000</td>\n",
       "    </tr>\n",
       "    <tr>\n",
       "      <th>2</th>\n",
       "      <td>2</td>\n",
       "      <td>0.298333</td>\n",
       "      <td>0.045000</td>\n",
       "      <td>0.045000</td>\n",
       "      <td>0.013333</td>\n",
       "      <td>0.198333</td>\n",
       "      <td>0.226667</td>\n",
       "      <td>0.041667</td>\n",
       "      <td>0.131667</td>\n",
       "    </tr>\n",
       "    <tr>\n",
       "      <th>3</th>\n",
       "      <td>3</td>\n",
       "      <td>0.328333</td>\n",
       "      <td>0.066667</td>\n",
       "      <td>0.036667</td>\n",
       "      <td>0.006667</td>\n",
       "      <td>0.120000</td>\n",
       "      <td>0.281667</td>\n",
       "      <td>0.075000</td>\n",
       "      <td>0.085000</td>\n",
       "    </tr>\n",
       "    <tr>\n",
       "      <th>4</th>\n",
       "      <td>4</td>\n",
       "      <td>0.241667</td>\n",
       "      <td>0.098333</td>\n",
       "      <td>0.036667</td>\n",
       "      <td>0.041667</td>\n",
       "      <td>0.195000</td>\n",
       "      <td>0.083333</td>\n",
       "      <td>0.025000</td>\n",
       "      <td>0.278333</td>\n",
       "    </tr>\n",
       "    <tr>\n",
       "      <th>5</th>\n",
       "      <td>5</td>\n",
       "      <td>0.521667</td>\n",
       "      <td>0.115000</td>\n",
       "      <td>0.033333</td>\n",
       "      <td>0.005000</td>\n",
       "      <td>0.053333</td>\n",
       "      <td>0.151667</td>\n",
       "      <td>0.075000</td>\n",
       "      <td>0.045000</td>\n",
       "    </tr>\n",
       "    <tr>\n",
       "      <th>6</th>\n",
       "      <td>6</td>\n",
       "      <td>0.541667</td>\n",
       "      <td>0.066667</td>\n",
       "      <td>0.031667</td>\n",
       "      <td>0.008333</td>\n",
       "      <td>0.081667</td>\n",
       "      <td>0.156667</td>\n",
       "      <td>0.053333</td>\n",
       "      <td>0.060000</td>\n",
       "    </tr>\n",
       "    <tr>\n",
       "      <th>7</th>\n",
       "      <td>7</td>\n",
       "      <td>0.261667</td>\n",
       "      <td>0.031667</td>\n",
       "      <td>0.051667</td>\n",
       "      <td>0.011667</td>\n",
       "      <td>0.151667</td>\n",
       "      <td>0.190000</td>\n",
       "      <td>0.028333</td>\n",
       "      <td>0.273333</td>\n",
       "    </tr>\n",
       "    <tr>\n",
       "      <th>8</th>\n",
       "      <td>8</td>\n",
       "      <td>0.490000</td>\n",
       "      <td>0.078333</td>\n",
       "      <td>0.045000</td>\n",
       "      <td>0.005000</td>\n",
       "      <td>0.070000</td>\n",
       "      <td>0.185000</td>\n",
       "      <td>0.060000</td>\n",
       "      <td>0.066667</td>\n",
       "    </tr>\n",
       "    <tr>\n",
       "      <th>9</th>\n",
       "      <td>9</td>\n",
       "      <td>0.435000</td>\n",
       "      <td>0.076667</td>\n",
       "      <td>0.083333</td>\n",
       "      <td>0.003333</td>\n",
       "      <td>0.053333</td>\n",
       "      <td>0.190000</td>\n",
       "      <td>0.046667</td>\n",
       "      <td>0.111667</td>\n",
       "    </tr>\n",
       "  </tbody>\n",
       "</table>\n",
       "</div>"
      ],
      "text/plain": [
       "   ID         -   DAMAGED  DIFFERENT      FAKE  NOT_RECEIVED  \\\n",
       "0   0  0.476667  0.101667   0.055000  0.001667      0.048333   \n",
       "1   1  0.391667  0.078333   0.015000  0.013333      0.096667   \n",
       "2   2  0.298333  0.045000   0.045000  0.013333      0.198333   \n",
       "3   3  0.328333  0.066667   0.036667  0.006667      0.120000   \n",
       "4   4  0.241667  0.098333   0.036667  0.041667      0.195000   \n",
       "5   5  0.521667  0.115000   0.033333  0.005000      0.053333   \n",
       "6   6  0.541667  0.066667   0.031667  0.008333      0.081667   \n",
       "7   7  0.261667  0.031667   0.051667  0.011667      0.151667   \n",
       "8   8  0.490000  0.078333   0.045000  0.005000      0.070000   \n",
       "9   9  0.435000  0.076667   0.083333  0.003333      0.053333   \n",
       "\n",
       "   SELLER_CANCEL_POSTERIORI  UNDEFINED  WITHDRAWAL  \n",
       "0                  0.123333   0.073333    0.120000  \n",
       "1                  0.221667   0.043333    0.140000  \n",
       "2                  0.226667   0.041667    0.131667  \n",
       "3                  0.281667   0.075000    0.085000  \n",
       "4                  0.083333   0.025000    0.278333  \n",
       "5                  0.151667   0.075000    0.045000  \n",
       "6                  0.156667   0.053333    0.060000  \n",
       "7                  0.190000   0.028333    0.273333  \n",
       "8                  0.185000   0.060000    0.066667  \n",
       "9                  0.190000   0.046667    0.111667  "
      ]
     },
     "execution_count": 10,
     "metadata": {},
     "output_type": "execute_result"
    }
   ],
   "source": [
    "Multi.pred_proba(Multi_Train[0:10], ID_Test = 'ID', ID_pred = True, refit = True)"
   ]
  },
  {
   "cell_type": "markdown",
   "metadata": {},
   "source": [
    "### best_size method"
   ]
  },
  {
   "cell_type": "markdown",
   "metadata": {},
   "source": [
    "#### Permet d'évaluer l'erreur en fittant sur différent taille de Train ce qui permet de voir à quel moment apparait l'overfitting"
   ]
  },
  {
   "cell_type": "code",
   "execution_count": 11,
   "metadata": {},
   "outputs": [
    {
     "name": "stdout",
     "output_type": "stream",
     "text": [
      "Fitting on 2000 data...\n",
      "2000 datas -> accuracy_score = 0.512869742605148 \n",
      "\n",
      "Fitting on 5000 data...\n",
      "5000 datas -> accuracy_score = 0.5233995320093598 \n",
      "\n",
      "Fitting on 15000 data...\n",
      "15000 datas -> accuracy_score = 0.5328493430131397 \n",
      "\n",
      "Fitting on 25000 data...\n",
      "25000 datas -> accuracy_score = 0.5387592248155036 \n",
      "\n",
      "\n",
      " In the end, the best data size is 25000 \n",
      "\n",
      " With this accuracy_score : 0.5387592248155036\n"
     ]
    }
   ],
   "source": [
    "Multi.best_size(n=[2000, 5000, 15000, 25000], metric = 'accuracy_score')"
   ]
  },
  {
   "cell_type": "markdown",
   "metadata": {},
   "source": [
    "### Bagg_fit method"
   ]
  },
  {
   "cell_type": "markdown",
   "metadata": {},
   "source": [
    "#### Permet d'utiliser un Bagging sur le meilleur estimateur trouvé dans le fit method"
   ]
  },
  {
   "cell_type": "code",
   "execution_count": 12,
   "metadata": {},
   "outputs": [
    {
     "name": "stdout",
     "output_type": "stream",
     "text": [
      "Fitting 3 folds for each of 3 candidates, totalling 9 fits\n"
     ]
    },
    {
     "name": "stderr",
     "output_type": "stream",
     "text": [
      "[Parallel(n_jobs=-1)]: Done   9 out of   9 | elapsed:  3.5min finished\n"
     ]
    },
    {
     "name": "stdout",
     "output_type": "stream",
     "text": [
      "\n",
      " Best hyperparametres : {'n_estimators': 20}\n",
      "\n",
      " Giving this accuracy score : 0.518\n"
     ]
    }
   ],
   "source": [
    "Multi.Bagg_fit(Multi_Train, Multi_Target, n_estimators = [10,20,30],\n",
    "                 cv = 3, value = 0, ID = 'ID', metric = 'accuracy')"
   ]
  },
  {
   "cell_type": "markdown",
   "metadata": {},
   "source": [
    "## Binary class"
   ]
  },
  {
   "cell_type": "code",
   "execution_count": 13,
   "metadata": {},
   "outputs": [
    {
     "name": "stderr",
     "output_type": "stream",
     "text": [
      "Bestestimator_neg_fixed.py:11: SettingWithCopyWarning: \n",
      "A value is trying to be set on a copy of a slice from a DataFrame\n",
      "\n",
      "See the caveats in the documentation: http://pandas.pydata.org/pandas-docs/stable/indexing.html#indexing-view-versus-copy\n",
      "  from sklearn.tree import DecisionTreeClassifier, DecisionTreeRegressor\n",
      "C:\\ProgramData\\Anaconda3\\lib\\site-packages\\pandas\\core\\indexing.py:189: SettingWithCopyWarning: \n",
      "A value is trying to be set on a copy of a slice from a DataFrame\n",
      "\n",
      "See the caveats in the documentation: http://pandas.pydata.org/pandas-docs/stable/indexing.html#indexing-view-versus-copy\n",
      "  self._setitem_with_indexer(indexer, value)\n"
     ]
    }
   ],
   "source": [
    "Bin_Train = pd.read_csv(r\"C:\\Users\\jecombe\\OneDrive - Capgemini\\Notebooks\\Train1.csv\", sep = ';')\n",
    "target = pd.read_csv(r\"C:\\Users\\jecombe\\OneDrive - Capgemini\\Notebooks\\Target1.csv\", sep = ';')\n",
    "\n",
    "Bin_Target = pd.DataFrame()\n",
    "Bin_Target['ID'] = target['ID']\n",
    "Bin_Target['Target'] = [np.nan]*target.shape[0]\n",
    "\n",
    "\n",
    "for i in range(target.shape[0]):\n",
    "    if target['Target'][i] == 1:\n",
    "        Bin_Target['Target'][i] ='+'\n",
    "    else :\n",
    "        Bin_Target['Target'][i] ='-'\n",
    "        \n",
    "        "
   ]
  },
  {
   "cell_type": "code",
   "execution_count": 14,
   "metadata": {},
   "outputs": [],
   "source": [
    "# Bin_Train = pd.read_csv(r\"C:\\Users\\jecombe\\OneDrive - Capgemini\\Notebooks\\Train1.csv\", sep = ';')\n",
    "# Bin_Target = pd.read_csv(r\"C:\\Users\\jecombe\\OneDrive - Capgemini\\Notebooks\\Target1.csv\", sep = ';')"
   ]
  },
  {
   "cell_type": "code",
   "execution_count": 15,
   "metadata": {},
   "outputs": [
    {
     "data": {
      "text/html": [
       "<div>\n",
       "<style scoped>\n",
       "    .dataframe tbody tr th:only-of-type {\n",
       "        vertical-align: middle;\n",
       "    }\n",
       "\n",
       "    .dataframe tbody tr th {\n",
       "        vertical-align: top;\n",
       "    }\n",
       "\n",
       "    .dataframe thead th {\n",
       "        text-align: right;\n",
       "    }\n",
       "</style>\n",
       "<table border=\"1\" class=\"dataframe\">\n",
       "  <thead>\n",
       "    <tr style=\"text-align: right;\">\n",
       "      <th></th>\n",
       "      <th>ID</th>\n",
       "      <th>month</th>\n",
       "      <th>country</th>\n",
       "      <th>1_diffClosing stocks(kmt)</th>\n",
       "      <th>1_diffExports(kmt)</th>\n",
       "      <th>1_diffImports(kmt)</th>\n",
       "      <th>1_diffRefinery intake(kmt)</th>\n",
       "      <th>1_diffWTI</th>\n",
       "      <th>1_diffSumClosing stocks(kmt)</th>\n",
       "      <th>1_diffSumExports(kmt)</th>\n",
       "      <th>...</th>\n",
       "      <th>12_diffClosing stocks(kmt)</th>\n",
       "      <th>12_diffExports(kmt)</th>\n",
       "      <th>12_diffImports(kmt)</th>\n",
       "      <th>12_diffRefinery intake(kmt)</th>\n",
       "      <th>12_diffWTI</th>\n",
       "      <th>12_diffSumClosing stocks(kmt)</th>\n",
       "      <th>12_diffSumExports(kmt)</th>\n",
       "      <th>12_diffSumImports(kmt)</th>\n",
       "      <th>12_diffSumProduction(kmt)</th>\n",
       "      <th>12_diffSumRefinery intake(kmt)</th>\n",
       "    </tr>\n",
       "  </thead>\n",
       "  <tbody>\n",
       "    <tr>\n",
       "      <th>0</th>\n",
       "      <td>ID00001</td>\n",
       "      <td>5</td>\n",
       "      <td>52</td>\n",
       "      <td>0.0000</td>\n",
       "      <td>237.0000</td>\n",
       "      <td>0.0000</td>\n",
       "      <td>33.0000</td>\n",
       "      <td>-5.62</td>\n",
       "      <td>10426.2462</td>\n",
       "      <td>12135.1024</td>\n",
       "      <td>...</td>\n",
       "      <td>0.0000</td>\n",
       "      <td>0.0000</td>\n",
       "      <td>0.0000</td>\n",
       "      <td>14.0000</td>\n",
       "      <td>2.92</td>\n",
       "      <td>673.8569</td>\n",
       "      <td>-13007.1520</td>\n",
       "      <td>-5932.5482</td>\n",
       "      <td>-17130.8333</td>\n",
       "      <td>-13151.4560</td>\n",
       "    </tr>\n",
       "    <tr>\n",
       "      <th>1</th>\n",
       "      <td>ID00002</td>\n",
       "      <td>12</td>\n",
       "      <td>69</td>\n",
       "      <td>28.0000</td>\n",
       "      <td>-34.0000</td>\n",
       "      <td>60.0000</td>\n",
       "      <td>7.0000</td>\n",
       "      <td>-5.95</td>\n",
       "      <td>195.2005</td>\n",
       "      <td>7500.1033</td>\n",
       "      <td>...</td>\n",
       "      <td>-43.0000</td>\n",
       "      <td>-129.0000</td>\n",
       "      <td>-67.0000</td>\n",
       "      <td>-16.0000</td>\n",
       "      <td>-5.62</td>\n",
       "      <td>3217.0304</td>\n",
       "      <td>-6563.6422</td>\n",
       "      <td>-3587.5152</td>\n",
       "      <td>-13053.6586</td>\n",
       "      <td>-13005.0503</td>\n",
       "    </tr>\n",
       "    <tr>\n",
       "      <th>2</th>\n",
       "      <td>ID00003</td>\n",
       "      <td>5</td>\n",
       "      <td>74</td>\n",
       "      <td>0.0000</td>\n",
       "      <td>0.0000</td>\n",
       "      <td>-29.1227</td>\n",
       "      <td>-85.5816</td>\n",
       "      <td>-5.62</td>\n",
       "      <td>10426.2462</td>\n",
       "      <td>12135.1024</td>\n",
       "      <td>...</td>\n",
       "      <td>0.0000</td>\n",
       "      <td>0.0000</td>\n",
       "      <td>-17.8667</td>\n",
       "      <td>-13.2214</td>\n",
       "      <td>2.92</td>\n",
       "      <td>673.8569</td>\n",
       "      <td>-13007.1520</td>\n",
       "      <td>-5932.5482</td>\n",
       "      <td>-17130.8333</td>\n",
       "      <td>-13151.4560</td>\n",
       "    </tr>\n",
       "    <tr>\n",
       "      <th>3</th>\n",
       "      <td>ID00004</td>\n",
       "      <td>11</td>\n",
       "      <td>34</td>\n",
       "      <td>175.3701</td>\n",
       "      <td>91.5209</td>\n",
       "      <td>0.0000</td>\n",
       "      <td>339.4347</td>\n",
       "      <td>7.66</td>\n",
       "      <td>-2247.4834</td>\n",
       "      <td>-6806.1222</td>\n",
       "      <td>...</td>\n",
       "      <td>81.8304</td>\n",
       "      <td>-579.9462</td>\n",
       "      <td>0.0000</td>\n",
       "      <td>16.6891</td>\n",
       "      <td>-8.62</td>\n",
       "      <td>-2929.8903</td>\n",
       "      <td>1072.8473</td>\n",
       "      <td>504.0197</td>\n",
       "      <td>-4827.2299</td>\n",
       "      <td>3962.6288</td>\n",
       "    </tr>\n",
       "    <tr>\n",
       "      <th>4</th>\n",
       "      <td>ID00005</td>\n",
       "      <td>7</td>\n",
       "      <td>2</td>\n",
       "      <td>-550.0674</td>\n",
       "      <td>251.9568</td>\n",
       "      <td>0.0000</td>\n",
       "      <td>-49.5277</td>\n",
       "      <td>-12.07</td>\n",
       "      <td>-2652.6804</td>\n",
       "      <td>2165.7119</td>\n",
       "      <td>...</td>\n",
       "      <td>-1127.1255</td>\n",
       "      <td>-512.5506</td>\n",
       "      <td>0.0000</td>\n",
       "      <td>-2.0243</td>\n",
       "      <td>7.20</td>\n",
       "      <td>2513.6243</td>\n",
       "      <td>-1732.4430</td>\n",
       "      <td>-4827.1576</td>\n",
       "      <td>-7242.5506</td>\n",
       "      <td>-13079.2251</td>\n",
       "    </tr>\n",
       "  </tbody>\n",
       "</table>\n",
       "<p>5 rows × 123 columns</p>\n",
       "</div>"
      ],
      "text/plain": [
       "        ID  month  country  1_diffClosing stocks(kmt)  1_diffExports(kmt)  \\\n",
       "0  ID00001      5       52                     0.0000            237.0000   \n",
       "1  ID00002     12       69                    28.0000            -34.0000   \n",
       "2  ID00003      5       74                     0.0000              0.0000   \n",
       "3  ID00004     11       34                   175.3701             91.5209   \n",
       "4  ID00005      7        2                  -550.0674            251.9568   \n",
       "\n",
       "   1_diffImports(kmt)  1_diffRefinery intake(kmt)  1_diffWTI  \\\n",
       "0              0.0000                     33.0000      -5.62   \n",
       "1             60.0000                      7.0000      -5.95   \n",
       "2            -29.1227                    -85.5816      -5.62   \n",
       "3              0.0000                    339.4347       7.66   \n",
       "4              0.0000                    -49.5277     -12.07   \n",
       "\n",
       "   1_diffSumClosing stocks(kmt)  1_diffSumExports(kmt)  \\\n",
       "0                    10426.2462             12135.1024   \n",
       "1                      195.2005              7500.1033   \n",
       "2                    10426.2462             12135.1024   \n",
       "3                    -2247.4834             -6806.1222   \n",
       "4                    -2652.6804              2165.7119   \n",
       "\n",
       "                ...                12_diffClosing stocks(kmt)  \\\n",
       "0               ...                                    0.0000   \n",
       "1               ...                                  -43.0000   \n",
       "2               ...                                    0.0000   \n",
       "3               ...                                   81.8304   \n",
       "4               ...                                -1127.1255   \n",
       "\n",
       "   12_diffExports(kmt)  12_diffImports(kmt)  12_diffRefinery intake(kmt)  \\\n",
       "0               0.0000               0.0000                      14.0000   \n",
       "1            -129.0000             -67.0000                     -16.0000   \n",
       "2               0.0000             -17.8667                     -13.2214   \n",
       "3            -579.9462               0.0000                      16.6891   \n",
       "4            -512.5506               0.0000                      -2.0243   \n",
       "\n",
       "   12_diffWTI  12_diffSumClosing stocks(kmt)  12_diffSumExports(kmt)  \\\n",
       "0        2.92                       673.8569             -13007.1520   \n",
       "1       -5.62                      3217.0304              -6563.6422   \n",
       "2        2.92                       673.8569             -13007.1520   \n",
       "3       -8.62                     -2929.8903               1072.8473   \n",
       "4        7.20                      2513.6243              -1732.4430   \n",
       "\n",
       "   12_diffSumImports(kmt)  12_diffSumProduction(kmt)  \\\n",
       "0              -5932.5482                -17130.8333   \n",
       "1              -3587.5152                -13053.6586   \n",
       "2              -5932.5482                -17130.8333   \n",
       "3                504.0197                 -4827.2299   \n",
       "4              -4827.1576                 -7242.5506   \n",
       "\n",
       "   12_diffSumRefinery intake(kmt)  \n",
       "0                     -13151.4560  \n",
       "1                     -13005.0503  \n",
       "2                     -13151.4560  \n",
       "3                       3962.6288  \n",
       "4                     -13079.2251  \n",
       "\n",
       "[5 rows x 123 columns]"
      ]
     },
     "execution_count": 15,
     "metadata": {},
     "output_type": "execute_result"
    }
   ],
   "source": [
    "Bin_Train.head(5)"
   ]
  },
  {
   "cell_type": "code",
   "execution_count": 16,
   "metadata": {},
   "outputs": [
    {
     "data": {
      "text/html": [
       "<div>\n",
       "<style scoped>\n",
       "    .dataframe tbody tr th:only-of-type {\n",
       "        vertical-align: middle;\n",
       "    }\n",
       "\n",
       "    .dataframe tbody tr th {\n",
       "        vertical-align: top;\n",
       "    }\n",
       "\n",
       "    .dataframe thead th {\n",
       "        text-align: right;\n",
       "    }\n",
       "</style>\n",
       "<table border=\"1\" class=\"dataframe\">\n",
       "  <thead>\n",
       "    <tr style=\"text-align: right;\">\n",
       "      <th></th>\n",
       "      <th>ID</th>\n",
       "      <th>Target</th>\n",
       "    </tr>\n",
       "  </thead>\n",
       "  <tbody>\n",
       "    <tr>\n",
       "      <th>0</th>\n",
       "      <td>ID00001</td>\n",
       "      <td>+</td>\n",
       "    </tr>\n",
       "    <tr>\n",
       "      <th>1</th>\n",
       "      <td>ID00002</td>\n",
       "      <td>-</td>\n",
       "    </tr>\n",
       "    <tr>\n",
       "      <th>2</th>\n",
       "      <td>ID00003</td>\n",
       "      <td>-</td>\n",
       "    </tr>\n",
       "    <tr>\n",
       "      <th>3</th>\n",
       "      <td>ID00004</td>\n",
       "      <td>-</td>\n",
       "    </tr>\n",
       "    <tr>\n",
       "      <th>4</th>\n",
       "      <td>ID00005</td>\n",
       "      <td>+</td>\n",
       "    </tr>\n",
       "    <tr>\n",
       "      <th>5</th>\n",
       "      <td>ID00006</td>\n",
       "      <td>+</td>\n",
       "    </tr>\n",
       "    <tr>\n",
       "      <th>6</th>\n",
       "      <td>ID00007</td>\n",
       "      <td>-</td>\n",
       "    </tr>\n",
       "    <tr>\n",
       "      <th>7</th>\n",
       "      <td>ID00008</td>\n",
       "      <td>-</td>\n",
       "    </tr>\n",
       "    <tr>\n",
       "      <th>8</th>\n",
       "      <td>ID00009</td>\n",
       "      <td>-</td>\n",
       "    </tr>\n",
       "    <tr>\n",
       "      <th>9</th>\n",
       "      <td>ID00010</td>\n",
       "      <td>-</td>\n",
       "    </tr>\n",
       "  </tbody>\n",
       "</table>\n",
       "</div>"
      ],
      "text/plain": [
       "        ID Target\n",
       "0  ID00001      +\n",
       "1  ID00002      -\n",
       "2  ID00003      -\n",
       "3  ID00004      -\n",
       "4  ID00005      +\n",
       "5  ID00006      +\n",
       "6  ID00007      -\n",
       "7  ID00008      -\n",
       "8  ID00009      -\n",
       "9  ID00010      -"
      ]
     },
     "execution_count": 16,
     "metadata": {},
     "output_type": "execute_result"
    }
   ],
   "source": [
    "Bin_Target.head(10)"
   ]
  },
  {
   "cell_type": "markdown",
   "metadata": {},
   "source": [
    "### Fit method"
   ]
  },
  {
   "cell_type": "code",
   "execution_count": null,
   "metadata": {
    "scrolled": true
   },
   "outputs": [
    {
     "name": "stdout",
     "output_type": "stream",
     "text": [
      "Missing Values :\n",
      "\n",
      "                            Total         %\n",
      "1_diffClosing stocks(kmt)     261  2.569151\n",
      "2_diffClosing stocks(kmt)     257  2.529777\n",
      "3_diffClosing stocks(kmt)     253  2.490403\n",
      "4_diffClosing stocks(kmt)     249  2.451029\n",
      "5_diffClosing stocks(kmt)     245  2.411655\n",
      "6_diffClosing stocks(kmt)     241  2.372281\n",
      "7_diffClosing stocks(kmt)     238  2.342750\n",
      "8_diffClosing stocks(kmt)     235  2.313220\n",
      "9_diffClosing stocks(kmt)     232  2.283689\n",
      "10_diffClosing stocks(kmt)    228  2.244315\n",
      "11_diffClosing stocks(kmt)    224  2.204941\n",
      "12_diffClosing stocks(kmt)    220  2.165567\n",
      "1_diffImports(kmt)            151  1.486367\n",
      "2_diffImports(kmt)            148  1.456836\n",
      "3_diffImports(kmt)            145  1.427306\n",
      "4_diffImports(kmt)            142  1.397775\n",
      "5_diffImports(kmt)            139  1.368245\n",
      "6_diffImports(kmt)            136  1.338714\n",
      "7_diffImports(kmt)            133  1.309184\n",
      "8_diffImports(kmt)            130  1.279654\n",
      "9_diffImports(kmt)            127  1.250123\n",
      "10_diffImports(kmt)           124  1.220593\n",
      "11_diffImports(kmt)           121  1.191062\n",
      "12_diffImports(kmt)           118  1.161532 \n",
      "\n",
      "NaN data filled by 0 \n",
      "\n",
      "Searching for the best regressor on 1000 data using roc_auc loss... \n",
      "\n",
      "\n",
      " Bagging: 0.6868 (+/- 0.0214)\n",
      "\n",
      " Gradient Boosting: 0.7233 (+/- 0.0353)\n",
      "\n",
      " XGBoost: 0.7121 (+/- 0.0225)\n",
      "\n",
      " Random Forest: 0.7195 (+/- 0.0347)\n",
      "\n",
      " Decision Tree: 0.6058 (+/- 0.0135)\n",
      "\n",
      " Extra Tree: 0.6728 (+/- 0.0146)\n",
      "\n",
      " KNN: 0.6367 (+/- 0.0594)\n",
      "\n",
      " SVM: 0.5040 (+/- 0.0054)\n",
      "\n",
      " Searching for the best hyperparametres of Gradient Boosting using hard_grid on 1000 data among : \n",
      "\n",
      "{'n_estimators': [100, 300, 600, 1000, 1200], 'max_depth': [5, 10, 15, 25, None], 'learning_rate': [0.001, 0.01, 0.1], 'loss': ['deviance', 'exponential'], 'criterion': ['mse', 'friedman_mse']} \n",
      "\n",
      "Fitting 3 folds for each of 300 candidates, totalling 900 fits\n"
     ]
    }
   ],
   "source": [
    "Bin = BestEstimator(type_esti = 'Classifier', hard_grid=True)\n",
    "Bin.fit(Bin_Train, Bin_Target, scoring = 'roc_auc') "
   ]
  },
  {
   "cell_type": "markdown",
   "metadata": {},
   "source": [
    "### All pred methods"
   ]
  },
  {
   "cell_type": "code",
   "execution_count": null,
   "metadata": {},
   "outputs": [],
   "source": [
    "Bin.pred_grid(Bin_Train[0:10], ID='ID', value=0)"
   ]
  },
  {
   "cell_type": "code",
   "execution_count": null,
   "metadata": {},
   "outputs": [],
   "source": [
    "Bin.pred(Bin_Train[0:10], ID='ID', value=0, refit = True)"
   ]
  },
  {
   "cell_type": "code",
   "execution_count": null,
   "metadata": {},
   "outputs": [],
   "source": [
    "#Bin.pred_grid_proba(Bin.Transform(Bin_Train[0:10]), ID = 'ID')\n",
    "Bin.pred_proba(Bin_Train[0:10], ID_Test = 'ID', ID_pred = True, refit = True)"
   ]
  },
  {
   "cell_type": "code",
   "execution_count": null,
   "metadata": {},
   "outputs": [],
   "source": [
    "Bin.pred_grid_proba(Bin_Train[0:10], ID_Test = 'ID', ID_pred = True)"
   ]
  },
  {
   "cell_type": "code",
   "execution_count": null,
   "metadata": {},
   "outputs": [],
   "source": [
    "Bin.best_size(n=[2000, 5000, 15000, 25000], metric = 'roc_auc_score')"
   ]
  },
  {
   "cell_type": "code",
   "execution_count": null,
   "metadata": {},
   "outputs": [],
   "source": [
    "Bin.Bagg_fit(Bin_Train, Bin_Target, n_estimators = [10,20,30],\n",
    "                 cv = 3, value = 0, ID = 'ID', metric = 'roc_auc')"
   ]
  },
  {
   "cell_type": "markdown",
   "metadata": {},
   "source": [
    "## Regression"
   ]
  },
  {
   "cell_type": "code",
   "execution_count": null,
   "metadata": {},
   "outputs": [],
   "source": [
    "Reg_Train = pd.read_csv(r\"C:\\Users\\jecombe\\OneDrive - Capgemini\\Notebooks\\input_training.csv\", sep = ';')\n",
    "Reg_Target = pd.read_csv(r\"C:\\Users\\jecombe\\OneDrive - Capgemini\\Notebooks\\Target_Engie.csv\", sep = ';')"
   ]
  },
  {
   "cell_type": "code",
   "execution_count": null,
   "metadata": {},
   "outputs": [],
   "source": [
    "Reg_Train.head(5)"
   ]
  },
  {
   "cell_type": "code",
   "execution_count": null,
   "metadata": {},
   "outputs": [],
   "source": [
    "Reg_Target.head(5)"
   ]
  },
  {
   "cell_type": "markdown",
   "metadata": {},
   "source": [
    "### fit method"
   ]
  },
  {
   "cell_type": "code",
   "execution_count": null,
   "metadata": {},
   "outputs": [],
   "source": [
    "#%run -i Bestestimator_neg_fixed.py\n",
    "\n",
    "Reg = BestEstimator(type_esti = 'Regressor', hard_grid=True, grid = True)\n",
    "\n",
    "Reg.fit(Reg_Train, Reg_Target, scoring = 'neg_mean_absolute_error',view_nan = True) "
   ]
  },
  {
   "cell_type": "code",
   "execution_count": null,
   "metadata": {},
   "outputs": [],
   "source": [
    "#Reg.best_size(n=[100,200,300, 1000, 2000, 5000], metric = 'mean_absolute_error')\n",
    "Reg.best_size(n=[2000, 5000, 15000, 25000], metric = 'mean_absolute_error')"
   ]
  },
  {
   "cell_type": "markdown",
   "metadata": {},
   "source": [
    "### All pred methods"
   ]
  },
  {
   "cell_type": "code",
   "execution_count": null,
   "metadata": {},
   "outputs": [],
   "source": [
    "Reg.pred(Reg_Train[0:10], ID='ID')"
   ]
  },
  {
   "cell_type": "code",
   "execution_count": null,
   "metadata": {},
   "outputs": [],
   "source": [
    "Reg.pred_grid(Reg_Train[0:10], ID='ID')"
   ]
  },
  {
   "cell_type": "markdown",
   "metadata": {},
   "source": [
    "### Bagg_fit method"
   ]
  },
  {
   "cell_type": "code",
   "execution_count": null,
   "metadata": {},
   "outputs": [],
   "source": [
    "Reg.custom_grid(Reg_Train, Reg_Target, ID='ID', target_ID=True, n=1000, metric='mean_absolute_error', \n",
    "                params = {'eta': [0.001, .01],\n",
    "                              'max_depth': [5, 10],\n",
    "                              'gamma': [0, .1]}\n",
    ", cv=3, DF=None, value=0)"
   ]
  },
  {
   "cell_type": "code",
   "execution_count": null,
   "metadata": {},
   "outputs": [],
   "source": [
    "Reg.Bagg_fit(Reg_Train, Reg_Target, n_estimators = [10,20,30],\n",
    "                 cv = 3, value = 0, ID = 'ID', metric = 'mean_absolute_error')"
   ]
  },
  {
   "cell_type": "code",
   "execution_count": null,
   "metadata": {},
   "outputs": [],
   "source": []
  },
  {
   "cell_type": "code",
   "execution_count": null,
   "metadata": {},
   "outputs": [],
   "source": []
  },
  {
   "cell_type": "code",
   "execution_count": null,
   "metadata": {},
   "outputs": [],
   "source": []
  }
 ],
 "metadata": {
  "kernelspec": {
   "display_name": "Python 3",
   "language": "python",
   "name": "python3"
  },
  "language_info": {
   "codemirror_mode": {
    "name": "ipython",
    "version": 3
   },
   "file_extension": ".py",
   "mimetype": "text/x-python",
   "name": "python",
   "nbconvert_exporter": "python",
   "pygments_lexer": "ipython3",
   "version": "3.7.0"
  }
 },
 "nbformat": 4,
 "nbformat_minor": 2
}
